{
 "cells": [
  {
   "cell_type": "markdown",
   "metadata": {},
   "source": [
    "# Lists"
   ]
  },
  {
   "cell_type": "markdown",
   "metadata": {},
   "source": [
    "## access elements"
   ]
  },
  {
   "cell_type": "code",
   "execution_count": null,
   "metadata": {},
   "outputs": [],
   "source": [
    "#creates a new list with some elements\n",
    "nice_foods = [\"pizza\",\"lasagne\",\"spagehetti\",\"pancakes\",\"bana\",\"grapes\"]\n",
    "\n",
    "print(nice_foods)\n",
    "# gets first element\n",
    "print(f\"{nice_foods[0]=})\")\n",
    "#gets last element\n",
    "print(f\"{nice_foods[-1]=})\")\n",
    "print(f\"{nice_foods[5]=})\")\n",
    "\n",
    "# element på index -2\n",
    "print(f\"{nice_foods[-3]=}\")"
   ]
  },
  {
   "cell_type": "markdown",
   "metadata": {},
   "source": [
    "## Slicing"
   ]
  },
  {
   "cell_type": "code",
   "execution_count": 7,
   "metadata": {},
   "outputs": [
    {
     "name": "stdout",
     "output_type": "stream",
     "text": [
      "['pizza', 'lasagne', 'spagehetti', 'pancakes', 'bana', 'grapes']\n",
      "nice_foods[1:4]=['lasagne', 'spagehetti', 'pancakes']\n",
      "nice_foods[:-1]=['pizza', 'lasagne', 'spagehetti', 'pancakes', 'bana']\n",
      "nice_foods[:4]=['pizza', 'lasagne', 'spagehetti', 'pancakes']\n",
      "nice_foods[::-1]=['grapes', 'bana', 'pancakes', 'spagehetti', 'lasagne', 'pizza']\n"
     ]
    }
   ],
   "source": [
    "nice_foods = [\"pizza\",\"lasagne\",\"spagehetti\",\"pancakes\",\"bana\",\"grapes\"]\n",
    "\n",
    "print(nice_foods)\n",
    "print(f\"{nice_foods[1:4]=}\")\n",
    "print(f\"{nice_foods[:-1]=}\") # 0 to -2\n",
    "print(f\"{nice_foods[:4]=}\") # 0,1,2,3\n",
    "\n",
    "print(f\"{nice_foods[::-1]=}\") # reverses the list"
   ]
  },
  {
   "cell_type": "code",
   "execution_count": 8,
   "metadata": {},
   "outputs": [
    {
     "name": "stdout",
     "output_type": "stream",
     "text": [
      "['bana', 'grapes', 'lasagne', 'pancakes', 'pizza', 'spagehetti']\n",
      "[-5, 1, 2, 5]\n"
     ]
    }
   ],
   "source": [
    "import numbers\n",
    "nice_foods = [\"pizza\",\"lasagne\",\"spagehetti\",\"pancakes\",\"bana\",\"grapes\"]\n",
    "\n",
    "nice_foods.sort()\n",
    "print(nice_foods)\n",
    "\n",
    "numbers = [2,1,5,-5]\n",
    "numbers.sort()\n",
    "#sorting ascending\n",
    "print(numbers)"
   ]
  },
  {
   "cell_type": "code",
   "execution_count": 13,
   "metadata": {},
   "outputs": [
    {
     "name": "stdout",
     "output_type": "stream",
     "text": [
      "['pizza', 'lasagne', 'spagehetti', 'pancakes', 'bana', 'grapes']\n",
      "1.pizza\n",
      "2.lasagne\n",
      "3.spagehetti\n",
      "4.pancakes\n",
      "5.bana\n",
      "6.grapes\n"
     ]
    }
   ],
   "source": [
    "nice_foods = [\"pizza\",\"lasagne\",\"spagehetti\",\"pancakes\",\"bana\",\"grapes\"]\n",
    "\n",
    "\n",
    "### -> (index,element) in list\n",
    "print(nice_foods)\n",
    "for i, food in enumerate(nice_foods, 1):\n",
    "    print(f\"{i}.{food}\")"
   ]
  },
  {
   "cell_type": "code",
   "execution_count": null,
   "metadata": {},
   "outputs": [],
   "source": [
    "# cubes normal way using append\n",
    "cubes = []\n",
    "for i in range (10):\n",
    "    cubes.append(i**3) # i^3\n",
    "cubes"
   ]
  },
  {
   "cell_type": "markdown",
   "metadata": {},
   "source": [
    "## list comprehension"
   ]
  },
  {
   "cell_type": "code",
   "execution_count": 14,
   "metadata": {},
   "outputs": [
    {
     "data": {
      "text/plain": [
       "[0, 1, 8, 27, 64, 125, 216, 343, 512, 729]"
      ]
     },
     "execution_count": 14,
     "metadata": {},
     "output_type": "execute_result"
    }
   ],
   "source": [
    "# list comprehension\n",
    "cubes = [i**3 for i in range (10)]\n",
    "cubes"
   ]
  },
  {
   "cell_type": "code",
   "execution_count": 15,
   "metadata": {},
   "outputs": [
    {
     "data": {
      "text/plain": [
       "[1, 27, 125, 343, 729]"
      ]
     },
     "execution_count": 15,
     "metadata": {},
     "output_type": "execute_result"
    }
   ],
   "source": [
    "# cubes every odd number\n",
    "cubes_odd=[i**3 for i in range(10) if i%2!=0]\n",
    "cubes_odd"
   ]
  },
  {
   "cell_type": "code",
   "execution_count": 18,
   "metadata": {},
   "outputs": [
    {
     "ename": "TypeError",
     "evalue": "randint() missing 1 required positional argument: 'b'",
     "output_type": "error",
     "traceback": [
      "\u001b[1;31m---------------------------------------------------------------------------\u001b[0m",
      "\u001b[1;31mTypeError\u001b[0m                                 Traceback (most recent call last)",
      "\u001b[1;32mc:\\Users\\maxim\\Documents\\GITHUB\\Phyton-Max-Liedman\\code alongs\\l4-lists.ipynb Cell 12\u001b[0m in \u001b[0;36m<cell line: 3>\u001b[1;34m()\u001b[0m\n\u001b[0;32m      <a href='vscode-notebook-cell:/c%3A/Users/maxim/Documents/GITHUB/Phyton-Max-Liedman/code%20alongs/l4-lists.ipynb#X15sZmlsZQ%3D%3D?line=0'>1</a>\u001b[0m \u001b[39m#dice list\u001b[39;00m\n\u001b[0;32m      <a href='vscode-notebook-cell:/c%3A/Users/maxim/Documents/GITHUB/Phyton-Max-Liedman/code%20alongs/l4-lists.ipynb#X15sZmlsZQ%3D%3D?line=1'>2</a>\u001b[0m \u001b[39mimport\u001b[39;00m \u001b[39mrandom\u001b[39;00m \u001b[39mas\u001b[39;00m \u001b[39mrnd\u001b[39;00m\n\u001b[1;32m----> <a href='vscode-notebook-cell:/c%3A/Users/maxim/Documents/GITHUB/Phyton-Max-Liedman/code%20alongs/l4-lists.ipynb#X15sZmlsZQ%3D%3D?line=2'>3</a>\u001b[0m dices \u001b[39m=\u001b[39m[rnd\u001b[39m.\u001b[39mrandint(\u001b[39m1.6\u001b[39m) \u001b[39mfor\u001b[39;00m _ \u001b[39min\u001b[39;00m \u001b[39mrange\u001b[39m (\u001b[39m10\u001b[39m)]\n\u001b[0;32m      <a href='vscode-notebook-cell:/c%3A/Users/maxim/Documents/GITHUB/Phyton-Max-Liedman/code%20alongs/l4-lists.ipynb#X15sZmlsZQ%3D%3D?line=3'>4</a>\u001b[0m dices\n",
      "\u001b[1;32mc:\\Users\\maxim\\Documents\\GITHUB\\Phyton-Max-Liedman\\code alongs\\l4-lists.ipynb Cell 12\u001b[0m in \u001b[0;36m<listcomp>\u001b[1;34m(.0)\u001b[0m\n\u001b[0;32m      <a href='vscode-notebook-cell:/c%3A/Users/maxim/Documents/GITHUB/Phyton-Max-Liedman/code%20alongs/l4-lists.ipynb#X15sZmlsZQ%3D%3D?line=0'>1</a>\u001b[0m \u001b[39m#dice list\u001b[39;00m\n\u001b[0;32m      <a href='vscode-notebook-cell:/c%3A/Users/maxim/Documents/GITHUB/Phyton-Max-Liedman/code%20alongs/l4-lists.ipynb#X15sZmlsZQ%3D%3D?line=1'>2</a>\u001b[0m \u001b[39mimport\u001b[39;00m \u001b[39mrandom\u001b[39;00m \u001b[39mas\u001b[39;00m \u001b[39mrnd\u001b[39;00m\n\u001b[1;32m----> <a href='vscode-notebook-cell:/c%3A/Users/maxim/Documents/GITHUB/Phyton-Max-Liedman/code%20alongs/l4-lists.ipynb#X15sZmlsZQ%3D%3D?line=2'>3</a>\u001b[0m dices \u001b[39m=\u001b[39m[rnd\u001b[39m.\u001b[39;49mrandint(\u001b[39m1.6\u001b[39;49m) \u001b[39mfor\u001b[39;00m _ \u001b[39min\u001b[39;00m \u001b[39mrange\u001b[39m (\u001b[39m10\u001b[39m)]\n\u001b[0;32m      <a href='vscode-notebook-cell:/c%3A/Users/maxim/Documents/GITHUB/Phyton-Max-Liedman/code%20alongs/l4-lists.ipynb#X15sZmlsZQ%3D%3D?line=3'>4</a>\u001b[0m dices\n",
      "\u001b[1;31mTypeError\u001b[0m: randint() missing 1 required positional argument: 'b'"
     ]
    }
   ],
   "source": [
    "#dice list\n",
    "import random as rnd\n",
    "dices =[rnd.randint(1.6) for _ in range (10)]\n",
    "dices"
   ]
  },
  {
   "cell_type": "markdown",
   "metadata": {},
   "source": [
    "## list in a lists"
   ]
  },
  {
   "cell_type": "code",
   "execution_count": 20,
   "metadata": {},
   "outputs": [
    {
     "data": {
      "text/plain": [
       "['A', 25]"
      ]
     },
     "execution_count": 20,
     "metadata": {},
     "output_type": "execute_result"
    }
   ],
   "source": [
    "grades = [[\"A\", 25], [\"B\",20], [\"F\",5]]\n",
    "\n",
    "print(f\"{grades[1]=}\")\n",
    "print(f\"{grades[1][0]=}\")\n",
    "print(f\"{grades[1][3]=}\")"
   ]
  }
 ],
 "metadata": {
  "kernelspec": {
   "display_name": "Python 3.9.13 64-bit",
   "language": "python",
   "name": "python3"
  },
  "language_info": {
   "codemirror_mode": {
    "name": "ipython",
    "version": 3
   },
   "file_extension": ".py",
   "mimetype": "text/x-python",
   "name": "python",
   "nbconvert_exporter": "python",
   "pygments_lexer": "ipython3",
   "version": "3.9.13"
  },
  "orig_nbformat": 4,
  "vscode": {
   "interpreter": {
    "hash": "421da3d2daef97118e416ac0679e46ab60f87b1c022c3327a94a4193c3fed2a9"
   }
  }
 },
 "nbformat": 4,
 "nbformat_minor": 2
}
