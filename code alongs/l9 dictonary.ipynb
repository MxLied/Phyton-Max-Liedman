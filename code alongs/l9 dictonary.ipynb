{
 "cells": [
  {
   "cell_type": "markdown",
   "metadata": {},
   "source": [
    "# Dictonary\n",
    "\n",
    "- datastructure that stores data in key;value pairs\n"
   ]
  },
  {
   "cell_type": "code",
   "execution_count": 3,
   "metadata": {},
   "outputs": [
    {
     "name": "stdout",
     "output_type": "stream",
     "text": [
      "person dicitonary {'name': 'kokchun', 'age': '31', 'work': 'AI teacher', 'interests': ['math', 'yoga', 'gardening', 'programming', 'walking'], 'phone': 112}\n",
      "person work: AI teacher\n",
      "person age: 31\n",
      "person age: ['math', 'yoga']\n",
      "kokchun likes math\n",
      "kokchun likes yoga\n",
      "kokchun likes gardening\n",
      "kokchun likes programming\n",
      "kokchun likes walking\n"
     ]
    }
   ],
   "source": [
    "# create a dictionary with dict keyword\n",
    "\n",
    "person = dict(\n",
    "    name= \"kokchun\",\n",
    "    age= \"31\",\n",
    "    work = \"AI teacher\",\n",
    "    interests = [\"math\", \"yoga\", \"gardening\", \"programming\", \"walking\"],phone = 112\n",
    ")\n",
    "\n",
    "print(f\"person dicitonary {person}\")\n",
    "print(f\"person work: {person ['work']}\")\n",
    "print(f\"person age: {person ['age']}\")\n",
    "\n",
    "print(f\"person age: {person['interests'][:2]}\")\n",
    "\n",
    "for interset in person[\"interests\"]:\n",
    "    print(f\"kokchun likes {interset}\")\n",
    "\n"
   ]
  },
  {
   "cell_type": "code",
   "execution_count": 5,
   "metadata": {},
   "outputs": [
    {
     "name": "stdout",
     "output_type": "stream",
     "text": [
      "{'assing': 'a value to a variable', 'dictonary': 'datastructure to store data in key-values pairs', 'method': 'a function bound to an object'}\n",
      "vi ska lära oss de här glossorna \n",
      "\n",
      "assing - a value to a variable\n",
      "dictonary - datastructure to store data in key-values pairs\n",
      "method - a function bound to an object\n"
     ]
    }
   ],
   "source": [
    "## create dictionary with curly brace {}\n",
    "\n",
    "words = { \n",
    "    \"assing\": \"a value to a variable\",\n",
    "    \"dictonary\": \"datastructure to store data in key-values pairs\",\n",
    "    \"method\": \"a function bound to an object\",\n",
    "    }\n",
    "print(words)\n",
    "print(\"vi ska lära oss de här glossorna \\n\")\n",
    "\n",
    "for key in words: \n",
    "    print(key,\"-\" ,words[key])\n",
    "\n"
   ]
  },
  {
   "cell_type": "code",
   "execution_count": 6,
   "metadata": {},
   "outputs": [
    {
     "name": "stdout",
     "output_type": "stream",
     "text": [
      "assing               a value to a variable\n",
      "dictonary            datastructure to store data in key-values pairs\n",
      "method               a function bound to an object\n"
     ]
    }
   ],
   "source": [
    "print(\"Glosor \\n\")\n",
    "for key,value in words.items():\n",
    "    print(f\"{key:<20}{value}\")"
   ]
  },
  {
   "cell_type": "code",
   "execution_count": 8,
   "metadata": {},
   "outputs": [
    {
     "name": "stdout",
     "output_type": "stream",
     "text": [
      "{'F': 0, 'E': 10, 'D': 20, 'C': 30, 'B': 40, 'A': 50}\n"
     ]
    },
    {
     "data": {
      "text/plain": [
       "{'F': '<10',\n",
       " 'E': 10,\n",
       " 'D': 20,\n",
       " 'C': 30,\n",
       " 'B': 40,\n",
       " 'A': 50,\n",
       " 'Course': 'programmering 1'}"
      ]
     },
     "execution_count": 8,
     "metadata": {},
     "output_type": "execute_result"
    }
   ],
   "source": [
    "# F < 10, E: 10, D: 20, C: 30, B:40, A:50\n",
    "# empty dicitionary\n",
    "grade_limit = {}\n",
    "\n",
    "\n",
    "for i, character  in enumerate(\"ABCDEF\"[::-1]):\n",
    "    grade_limit[character] = i *10\n",
    "grade_limit\n",
    "\n",
    "print(grade_limit)\n",
    "# assigns a new value that is assosciated with the key F \n",
    "grade_limit[\"F\"] = \"<10\"\n",
    "grade_limit[\"Course\"] = \"programmering 1\"\n",
    "\n",
    "grade_limit"
   ]
  },
  {
   "cell_type": "markdown",
   "metadata": {},
   "source": [
    "## Dictionary comprehension"
   ]
  },
  {
   "cell_type": "code",
   "execution_count": 17,
   "metadata": {},
   "outputs": [
    {
     "name": "stdout",
     "output_type": "stream",
     "text": [
      "grade_limit={'A': 0, 'B': 10, 'C': 20, 'D': 30, 'E': 40, 'F': 50, ')': 120, '[': 70, ':': 90, '-': 100, '1': 110, ']': 130}\n",
      "scores=[39, 59, 34, 45, 23, 36, 37, 46, 10, 49, 52, 21, 24, 40, 50, 23, 58, 19, 25, 44, 13, 48, 42, 55, 58, 23, 6, 27, 52, 40]\n",
      "{'A': 0, 'B': 0, 'C': 0, 'D': 0, 'E': 0, 'F': 0, ')': 0, '[': 0, ':': 0, '-': 0, '1': 0, ']': 0}\n",
      "{'A': 1, 'B': 3, 'C': 7, 'D': 4, 'E': 8, 'F': 7, ')': 0, '[': 0, ':': 0, '-': 0, '1': 0, ']': 0}\n"
     ]
    }
   ],
   "source": [
    "import random as rnd\n",
    "\n",
    "grade_limit = {grade: i *10 for i, grade in enumerate(\"ABCDEF)[::-1)]\")}\n",
    "grade_limit\n",
    "\n",
    "def generate_scores(number_students):\n",
    "    rnd.seed(1337)\n",
    "    scores = [rnd.randint(0,60) for _ in range(number_students)]\n",
    "    return scores\n",
    "scores = generate_scores(30)\n",
    "print(f\"{grade_limit=}\")\n",
    "print(f\"{scores=}\")\n",
    "\n",
    "# number of students in each grade category\n",
    "students_in_grade = {key: 0 for key in grade_limit}\n",
    "\n",
    "print(students_in_grade)\n",
    "\n",
    "for score in scores: \n",
    "    for grade,limit in grade_limit.items():\n",
    "        if limit <= score < limit+10:\n",
    "            students_in_grade[grade] +=1\n",
    "print(students_in_grade)"
   ]
  },
  {
   "cell_type": "code",
   "execution_count": null,
   "metadata": {},
   "outputs": [],
   "source": [
    "# check that all students have been put into categories\n",
    "total_students = 0\n",
    "for _, number_students in students_in_grade.items():\n",
    "    total_students += number_students\n",
    "\n",
    "total_students"
   ]
  }
 ],
 "metadata": {
  "kernelspec": {
   "display_name": "Python 3.9.13 ('Phyton-Max-Liedman-CqzFb8RG')",
   "language": "python",
   "name": "python3"
  },
  "language_info": {
   "codemirror_mode": {
    "name": "ipython",
    "version": 3
   },
   "file_extension": ".py",
   "mimetype": "text/x-python",
   "name": "python",
   "nbconvert_exporter": "python",
   "pygments_lexer": "ipython3",
   "version": "3.9.13"
  },
  "orig_nbformat": 4,
  "vscode": {
   "interpreter": {
    "hash": "a53c31b6b09c3b3eece886bf4d108dac6907ba0b93ed395789bc4c3d8336fe5b"
   }
  }
 },
 "nbformat": 4,
 "nbformat_minor": 2
}
