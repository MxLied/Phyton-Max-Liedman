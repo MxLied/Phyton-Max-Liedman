{
 "cells": [
  {
   "cell_type": "markdown",
   "metadata": {},
   "source": [
    "# File handling\n",
    "\n",
    "```py\n",
    "with open(path, option) as name\n",
    "    statments ....\n",
    "    ....\n",
    "```\n",
    "\n",
    "options\n",
    "* \"r\" - read\n",
    "* \"a\" - append to file (if it doesn't exist - it will create the file)'\n",
    "* \"w\" - write (if it doesn't exist - it will create the file)\n",
    "* \"x\" - create a file, error if it already exists"
   ]
  },
  {
   "cell_type": "code",
   "execution_count": 2,
   "metadata": {},
   "outputs": [
    {
     "data": {
      "text/plain": [
       "'  If     we     knew what it was      we were doing, it would not be called research,          would it?     - Albert Einstein\\n\\nTime is a drug. Too       much of it kills you.  -  Terry Pratchett\\n\\n\\n An expert is a person who       has made all the mistakes that           can be made in a          very narrow field - Niels Bohr\\n\\n   Everything must be made as simple as possible. But not simpler. - Albert Einstein     \\n\\n\\n  Nothing in life                is to be feared, it is only to be understood. Now is the time to understand more, so that we may fear less. - Marie  Curie  \\n\\nIf I have seen further     it is by standing on the shoulders of Giants. - Isaac Newton'"
      ]
     },
     "execution_count": 2,
     "metadata": {},
     "output_type": "execute_result"
    }
   ],
   "source": [
    "path =\"../Data/quotes.txt\"\n",
    "with open(path,\"r\") as f:\n",
    "    text = f.read()\n",
    "text\n"
   ]
  },
  {
   "cell_type": "markdown",
   "metadata": {},
   "source": [
    "## cleaning up quotes.txt\n",
    "\n",
    "-inspect txt-file manually (some prankster has added random noise in formof whiespace and newlines)\n",
    "\n",
    "-remove leading and tralling wihtespaces \n",
    "\n",
    "-remove excessives white spaces in between words \n",
    "\n",
    "-add quote numbers "
   ]
  },
  {
   "cell_type": "code",
   "execution_count": 22,
   "metadata": {},
   "outputs": [
    {
     "name": "stdout",
     "output_type": "stream",
     "text": [
      "' If we knew what it was we were doing, it would not be called research, would it? - Albert Einstein'\n",
      "''\n",
      "'Time is a drug. Too much of it kills you. - Terry Pratchett'\n",
      "''\n",
      "''\n",
      "' An expert is a person who has made all the mistakes that can be made in a very narrow field - Niels Bohr'\n",
      "''\n",
      "' Everything must be made as simple as possible. But not simpler. - Albert Einstein '\n",
      "''\n",
      "''\n",
      "' Nothing in life is to be feared, it is only to be understood. Now is the time to understand more, so that we may fear less. - Marie Curie '\n",
      "''\n",
      "'If I have seen further it is by standing on the shoulders of Giants. - Isaac Newton'\n"
     ]
    }
   ],
   "source": [
    "\n",
    "import re\n",
    "\n",
    "with open(path, \"r\") as f_read, open(\"../Data/quotes_clean.txt\",\"w\") as f_write:\n",
    "    quoten_number = 1\n",
    "    # LOOPS THROUGH EACH LINE IN THE TEXT FILE  \n",
    "    for quote in f_read:\n",
    "        quote = quote.strip(\"\\n\") #removes leading and tralling spaches and newlines\n",
    "        quote = re.sub(\" +\",\" \",quote) # regex to subtible >=1 whitespace with 1 white space\n",
    "        \n",
    "        # write to new file if the line is not \"\"\n",
    "        if quote !=\"\":\n",
    "            f_write.write(f\"{quoten_number}. {quote}\\n\")\n",
    "            quoten_number += 1\n",
    "\n",
    "        print(repr(quote))"
   ]
  },
  {
   "cell_type": "code",
   "execution_count": 10,
   "metadata": {},
   "outputs": [
    {
     "name": "stdout",
     "output_type": "stream",
     "text": [
      "1. If we knew what it was we were doing, it would not be called research, would it? - Albert Einstein\n",
      "2. Time is a drug. Too much of it kills you. - Terry Pratchett\n",
      "3. An expert is a person who has made all the mistakes that can be made in a very narrow field - Niels Bohr\n",
      "4. Everything must be made as simple as possible. But not simpler. - Albert Einstein\n",
      "5. Nothing in life is to be feared, it is only to be understood. Now is the time to understand more, so that we may fear less. - Marie Curie\n",
      "6. If I have seen further it is by standing on the shoulders of Giants. - Isaac Newton\n"
     ]
    }
   ],
   "source": [
    "import re\n",
    "\n",
    "with open(path, \"r\") as f_read, open(\"../Data/quotes_clean.txt\", \"w\") as f_write:\n",
    "    quote_number = 1\n",
    "\n",
    "    # loops through each line in the text file\n",
    "    for quote in f_read:\n",
    "        quote = quote.strip(\" \\n\") # removes leading and trailing spaces and newlines\n",
    "        quote = re.sub(\" +\", \" \", quote) # regex to substitute >=1 whitespace with 1 whitespace\n",
    "        \n",
    "        # write to new file if the line is not \"\"\n",
    "        if quote != \"\":\n",
    "            f_write.write(f\"{quote_number}. {quote}\\n\")\n",
    "            print(f\"{quote_number}. {quote}\\n\", end=\"\")\n",
    "            quote_number += 1"
   ]
  },
  {
   "cell_type": "markdown",
   "metadata": {},
   "source": [
    "## pitck out the authors\n",
    "\n",
    "- find digit to find quote \n",
    "- extract first name and last names\n",
    "- jpin into full name\n",
    "- get unique values"
   ]
  },
  {
   "cell_type": "code",
   "execution_count": 25,
   "metadata": {},
   "outputs": [
    {
     "name": "stdout",
     "output_type": "stream",
     "text": [
      "[['Albert', 'Einstein'], ['Terry', 'Pratchett'], ['Niels', 'Bohr'], ['Albert', 'Einstein'], ['Marie', 'Curie'], ['Isaac', 'Newton'], ['\\\\inAuthors:']]\n",
      "{'\\\\inAuthors:', 'Niels Bohr', 'Terry Pratchett', 'Albert Einstein', 'Marie Curie', 'Isaac Newton'}\n"
     ]
    }
   ],
   "source": [
    "with open(\"../Data/quotes_clean.txt\", \"r\") as f_quotes, open(\"../Data/quotes_clean.txt\", \"a\") as f_append:\n",
    "    # read in each line as a list \n",
    "    # strips away \"\\n\"\n",
    "    quotes = [quote.strip(\"\\n\") for quote in f_quotes.readlines()]\n",
    "    authors = [quote.split()[-2:] for quote in quotes]\n",
    "    print(authors)\n",
    "    #print(f_quotes.readline())\n",
    "\n",
    "    # set - gives the qnique elements\n",
    "    authors = set([\" \".join(author) for author in authors])\n",
    "    print(authors)\n",
    "\n",
    "    f_append.write(\"\\inAuthors:\")\n",
    "    for author in authors:\n",
    "        f_append.write(f\"{author}\")"
   ]
  }
 ],
 "metadata": {
  "kernelspec": {
   "display_name": "Python 3.9.13 ('Phyton-Max-Liedman-Dhn8FrUw')",
   "language": "python",
   "name": "python3"
  },
  "language_info": {
   "codemirror_mode": {
    "name": "ipython",
    "version": 3
   },
   "file_extension": ".py",
   "mimetype": "text/x-python",
   "name": "python",
   "nbconvert_exporter": "python",
   "pygments_lexer": "ipython3",
   "version": "3.9.13"
  },
  "orig_nbformat": 4,
  "vscode": {
   "interpreter": {
    "hash": "e6ae1db9ac282e66ec34367a04cdc80b6d45f487d98c91d3d2315d0145e802be"
   }
  }
 },
 "nbformat": 4,
 "nbformat_minor": 2
}
