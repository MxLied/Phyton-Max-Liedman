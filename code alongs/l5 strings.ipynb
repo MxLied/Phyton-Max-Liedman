{
 "cells": [
  {
   "cell_type": "markdown",
   "metadata": {},
   "source": [
    "# Strings"
   ]
  },
  {
   "cell_type": "markdown",
   "metadata": {},
   "source": [
    "## Iterate through a list and concatenates"
   ]
  },
  {
   "cell_type": "code",
   "execution_count": 4,
   "metadata": {},
   "outputs": [
    {
     "name": "stdout",
     "output_type": "stream",
     "text": [
      "Max Liedman\n"
     ]
    }
   ],
   "source": [
    "from re import M\n",
    "\n",
    "\n",
    "firstname = \"Max\"\n",
    "Lastname = \"Liedman\"\n",
    "\n",
    "# concatenate strings\n",
    "\n",
    "name = firstname +\" \"+ Lastname\n",
    "age = 25 \n",
    "Adress = \"Bollebygd\"\n",
    "phone = \"284189\"\n",
    "\n",
    "print(name)\n",
    "\n",
    "#multi line f-string\n",
    "contact =f\"\"\n",
    "\"Name\": {name}\n",
    "\"Age\":{age},\n",
    "\"Phone:\"{phone}\n",
    "\n",
    "print(contact)"
   ]
  },
  {
   "cell_type": "code",
   "execution_count": 20,
   "metadata": {},
   "outputs": [
    {
     "name": "stdout",
     "output_type": "stream",
     "text": [
      "plan\n",
      "må: Ai introti: pythonons: matte,to: självpluggfr: chilla\n"
     ]
    }
   ],
   "source": [
    "schedule = [\"Ai intro\",\"python\",\"matte,\",\"självplugg\",\"chilla\",]\n",
    "days = [\"må\",\"ti\",\"ons\",\"to\",\"fr\",]\n",
    "# \\n => newline\n",
    "weekplan= \"plan\\n\"\n",
    "\n",
    "for day,task in zip(days, schedule):\n",
    "    weekplan +=f\"{day}: {task}\\n\"\n",
    "print(weekplan)"
   ]
  },
  {
   "cell_type": "markdown",
   "metadata": {},
   "source": [
    "## Indexing"
   ]
  },
  {
   "cell_type": "code",
   "execution_count": null,
   "metadata": {},
   "outputs": [],
   "source": [
    "from urllib.parse import quote_plus\n",
    "\n",
    "\n",
    "quote = \"!false - it's funny because it's true\"\n",
    "\n",
    "print(f\"{quote[0]=}\")\n",
    "print(f\"{quote[:6]=}\")\n",
    "print(f\"{quote[-4]=}\")\n",
    "\n",
    "print(f\"Backwards: {quote[::-1]=}\")\n",
    "print(f\"Length of strings: {len(quote_plus)} Characters\")"
   ]
  },
  {
   "cell_type": "markdown",
   "metadata": {},
   "source": [
    "## Split strings"
   ]
  },
  {
   "cell_type": "code",
   "execution_count": 19,
   "metadata": {},
   "outputs": [
    {
     "name": "stdout",
     "output_type": "stream",
     "text": [
      "numbers=[2.0, 5.0, -2.0]\n",
      "mean_value=1.6666666666666667\n"
     ]
    }
   ],
   "source": [
    "numbers = input(\"Ange tre tal (seperade med kommatecken\")\n",
    "#1.split the string into a list of 3 strings \n",
    "#2.type convet each string into a float by iterating through the list\n",
    "# list comprehension\n",
    "numbers = [float(number) for number in numbers.split(\",\")] \n",
    "mean_value = sum(numbers)/len(numbers)\n",
    "print(f\"{numbers=}\")\n",
    "print(f\"{mean_value=}\")"
   ]
  },
  {
   "cell_type": "markdown",
   "metadata": {},
   "source": [
    "## Regular expression\n",
    "\n",
    "-find patterns in a string \n",
    ".e.g. phone numbers, email, capital letter sequences... "
   ]
  },
  {
   "cell_type": "code",
   "execution_count": 25,
   "metadata": {},
   "outputs": [
    {
     "name": "stdout",
     "output_type": "stream",
     "text": [
      "['022-284189', '073-284282', '739-245221']\n",
      "[]\n"
     ]
    }
   ],
   "source": [
    "## användbart \n",
    "import re \n",
    "\n",
    "text = \"Mitt telefon nummer är 022-284189, \\\n",
    "Adas nummer är 073-28428290, Bedas nummer är: 0739-245221\"\n",
    "\n",
    "# extract the numbers\n",
    "\n",
    "match1 = re.findall(r\"\\d\\d\\d-\\d\\d\\d\\d\\d\\d\", text) # r\"\"- raw string\n",
    "print(match1)\n",
    "\n",
    "match2 = re.findall(r\"-\\d3{3}-\\d{6}\",text)\n",
    "\n",
    "print(match2)"
   ]
  },
  {
   "cell_type": "code",
   "execution_count": 30,
   "metadata": {},
   "outputs": [
    {
     "name": "stdout",
     "output_type": "stream",
     "text": [
      "['katt', 'hatt', 'matt', 'matt']\n"
     ]
    }
   ],
   "source": [
    "text = \" Det var en gång en katt, som tog sig på en hatt och spelacde shack,\\\n",
    "fick schamatt med hjälp av skolmatt\"\n",
    "match = re.findall(r\".att\",text)\n",
    "print (match)\n",
    "\n",
    "# try to extract the whole words that with att "
   ]
  }
 ],
 "metadata": {
  "kernelspec": {
   "display_name": "Python 3.9.13 ('Phyton-Max-Liedman-CqzFb8RG')",
   "language": "python",
   "name": "python3"
  },
  "language_info": {
   "codemirror_mode": {
    "name": "ipython",
    "version": 3
   },
   "file_extension": ".py",
   "mimetype": "text/x-python",
   "name": "python",
   "nbconvert_exporter": "python",
   "pygments_lexer": "ipython3",
   "version": "3.9.13"
  },
  "orig_nbformat": 4,
  "vscode": {
   "interpreter": {
    "hash": "a53c31b6b09c3b3eece886bf4d108dac6907ba0b93ed395789bc4c3d8336fe5b"
   }
  }
 },
 "nbformat": 4,
 "nbformat_minor": 2
}
