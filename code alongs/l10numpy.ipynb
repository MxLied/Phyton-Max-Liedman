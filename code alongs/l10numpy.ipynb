{
 "cells": [
  {
   "cell_type": "code",
   "execution_count": null,
   "metadata": {},
   "outputs": [],
   "source": [
    "numbers_list = [1,2,3]\n",
    "numbers_list = numbers_list * 2\n",
    "print (numbers_list)\n",
    "\n",
    "#in a list we can place different data types\n",
    "\n",
    "mixed_list = [1, \"ett\", True, 2.3] # dynamic typing in Python\n",
    "print(mixed_list)\n",
    "# element in the list is an object, it has information on what type it is\n",
    "# this requires some overhead, which slows down the program\n",
    "# note that when we have one data type, it is unnessesary to have this overhead "
   ]
  },
  {
   "cell_type": "code",
   "execution_count": null,
   "metadata": {},
   "outputs": [],
   "source": [
    "# in numpy we have statically typed\n",
    "\n",
    "import numpy as np # numerical_python\n",
    "\n",
    "#create an array from a list\n",
    "\n",
    "vector1 = np.array([2,5,1])\n",
    "print(vector1)\n",
    "\n",
    "# elementwice multiplication\n",
    "vector2 = vector1*2\n",
    "print(vector2)\n",
    "\n",
    "print(f\"{vector1+2}\")\n",
    "\n",
    "#indexing\n",
    "\n",
    "print(f\"{vector1[2]=}\")\n",
    "print(f\"{vector1[-1]=}\")\n",
    "#slicing\n",
    "print(f\"{vector1[1]=}\")\n",
    "\n",
    "vector1[1] = 1337\n",
    "print(vector1)\n",
    "\n",
    "# can't append to an array - can't change its size\n",
    "# can't have different types in an array\n",
    "\n",
    "# sort\n",
    "\n",
    "vector1.sort()\n",
    "print(f\"{vector1=}\")\n",
    "\n",
    "# sum\n",
    "\n",
    "print(f\"{vector1.sum()=}\")\n",
    "print(f\"{vector1.mean()=:.2f}\")"
   ]
  },
  {
   "cell_type": "code",
   "execution_count": null,
   "metadata": {},
   "outputs": [],
   "source": [
    "ones_vector = np.ones((10))\n",
    "print(f\"{ones_vector=}\")\n",
    "\n",
    "#2d array of shape\n",
    "matrix_3_3 = np.ones((3,3))\n",
    "print(f\"{matrix_3_3=}\")\n",
    "\n",
    "# [row, index] - counts from 0\n",
    "matrix_3_3[2,1] = 10\n",
    "\n",
    "matrix_3_3"
   ]
  },
  {
   "cell_type": "code",
   "execution_count": null,
   "metadata": {},
   "outputs": [],
   "source": [
    "np.zeros((2,5)) # shapelike - takes in tuple or a list"
   ]
  },
  {
   "cell_type": "code",
   "execution_count": null,
   "metadata": {},
   "outputs": [],
   "source": [
    "print(matrix_3_3.shape)\n",
    "matrix_3_3[2,:]\n",
    "\n",
    "# slicing operator to get a row\n",
    "print(f\"{matrix_3_3[2,:]=}\")\n",
    "\n",
    "# slicing operator to get a column\n",
    "print(f\"{matrix_3_3[:,1]=}\")\n",
    "\n",
    "# add 2 vectors\n",
    "matrix_3_3[2,:] + matrix_3_3[:,1]"
   ]
  },
  {
   "cell_type": "code",
   "execution_count": null,
   "metadata": {},
   "outputs": [],
   "source": [
    "dices = np.random.randint(1,7,100)\n",
    "dices"
   ]
  },
  {
   "cell_type": "code",
   "execution_count": null,
   "metadata": {},
   "outputs": [],
   "source": [
    "x = np.linspace(5-,5) # defualt 50 equally spaces numbers between "
   ]
  },
  {
   "cell_type": "markdown",
   "metadata": {},
   "source": [
    "## Linespace"
   ]
  },
  {
   "cell_type": "code",
   "execution_count": 1,
   "metadata": {},
   "outputs": [
    {
     "ename": "NameError",
     "evalue": "name 'x' is not defined",
     "output_type": "error",
     "traceback": [
      "\u001b[1;31m---------------------------------------------------------------------------\u001b[0m",
      "\u001b[1;31mNameError\u001b[0m                                 Traceback (most recent call last)",
      "\u001b[1;32mc:\\Users\\maxim\\Documents\\GITHUB\\Phyton-Max-Liedman\\code alongs\\l10numpy.ipynb Cell 9\u001b[0m in \u001b[0;36m<cell line: 7>\u001b[1;34m()\u001b[0m\n\u001b[0;32m      <a href='vscode-notebook-cell:/c%3A/Users/maxim/Documents/GITHUB/Phyton-Max-Liedman/code%20alongs/l10numpy.ipynb#X11sZmlsZQ%3D%3D?line=3'>4</a>\u001b[0m f \u001b[39m=\u001b[39m \u001b[39mlambda\u001b[39;00m x: x\u001b[39m+\u001b[39m\u001b[39m2\u001b[39m\n\u001b[0;32m      <a href='vscode-notebook-cell:/c%3A/Users/maxim/Documents/GITHUB/Phyton-Max-Liedman/code%20alongs/l10numpy.ipynb#X11sZmlsZQ%3D%3D?line=4'>5</a>\u001b[0m g \u001b[39m=\u001b[39m \u001b[39mlambda\u001b[39;00m x: \u001b[39m-\u001b[39mx \n\u001b[1;32m----> <a href='vscode-notebook-cell:/c%3A/Users/maxim/Documents/GITHUB/Phyton-Max-Liedman/code%20alongs/l10numpy.ipynb#X11sZmlsZQ%3D%3D?line=6'>7</a>\u001b[0m \u001b[39mprint\u001b[39m(f(x))\n\u001b[0;32m      <a href='vscode-notebook-cell:/c%3A/Users/maxim/Documents/GITHUB/Phyton-Max-Liedman/code%20alongs/l10numpy.ipynb#X11sZmlsZQ%3D%3D?line=7'>8</a>\u001b[0m plt\u001b[39m.\u001b[39mplot(x, f(x))\n\u001b[0;32m      <a href='vscode-notebook-cell:/c%3A/Users/maxim/Documents/GITHUB/Phyton-Max-Liedman/code%20alongs/l10numpy.ipynb#X11sZmlsZQ%3D%3D?line=8'>9</a>\u001b[0m plt\u001b[39m.\u001b[39mplot(x, g(x))\n",
      "\u001b[1;31mNameError\u001b[0m: name 'x' is not defined"
     ]
    }
   ],
   "source": [
    "import matplotlib.pyplot as plt \n",
    "\n",
    "# <=> def f(x): return x + 2\n",
    "f = lambda x: x+2\n",
    "g = lambda x: -x \n",
    "\n",
    "print(f(x))\n",
    "plt.plot(x, f(x))\n",
    "plt.plot(x, g(x))"
   ]
  },
  {
   "cell_type": "code",
   "execution_count": null,
   "metadata": {},
   "outputs": [],
   "source": [
    "np.arange(10)"
   ]
  },
  {
   "cell_type": "markdown",
   "metadata": {},
   "source": [
    "## performance"
   ]
  },
  {
   "cell_type": "code",
   "execution_count": 6,
   "metadata": {},
   "outputs": [],
   "source": [
    "\n",
    "import random as rnd \n",
    "\n",
    "number_dices = 1_000_1000\n",
    "\n",
    "many_dices = []\n",
    "\n",
    "for dice in range(number_dices):\n",
    "    many_dices.append(rnd.randint(1,6))"
   ]
  },
  {
   "cell_type": "code",
   "execution_count": 3,
   "metadata": {},
   "outputs": [
    {
     "name": "stdout",
     "output_type": "stream",
     "text": [
      "461 ms ± 1.85 ms per loop (mean ± std. dev. of 7 runs, 1 loop each)\n"
     ]
    }
   ],
   "source": [
    "%%timeit\n",
    "import random as rnd \n",
    "\n",
    "number_dices = 1_000_1000\n",
    "\n",
    "many_dices = [rnd.randint for _ in range(number_dices)]\n"
   ]
  },
  {
   "cell_type": "code",
   "execution_count": 9,
   "metadata": {},
   "outputs": [
    {
     "name": "stdout",
     "output_type": "stream",
     "text": [
      "81.2 ms ± 191 µs per loop (mean ± std. dev. of 7 runs, 10 loops each)\n"
     ]
    }
   ],
   "source": [
    "%%timeit\n",
    "import random as rnd \n",
    "import numpy as np\n",
    "number_dices = 1_000_1000\n",
    "\n",
    "many_dices = np.random.randint(1,7, number_dices)\n",
    "many_dices"
   ]
  },
  {
   "cell_type": "code",
   "execution_count": null,
   "metadata": {},
   "outputs": [],
   "source": []
  }
 ],
 "metadata": {
  "kernelspec": {
   "display_name": "Python 3.9.13 ('Phyton-Max-Liedman-Dhn8FrUw')",
   "language": "python",
   "name": "python3"
  },
  "language_info": {
   "codemirror_mode": {
    "name": "ipython",
    "version": 3
   },
   "file_extension": ".py",
   "mimetype": "text/x-python",
   "name": "python",
   "nbconvert_exporter": "python",
   "pygments_lexer": "ipython3",
   "version": "3.9.13"
  },
  "orig_nbformat": 4,
  "vscode": {
   "interpreter": {
    "hash": "e6ae1db9ac282e66ec34367a04cdc80b6d45f487d98c91d3d2315d0145e802be"
   }
  }
 },
 "nbformat": 4,
 "nbformat_minor": 2
}
