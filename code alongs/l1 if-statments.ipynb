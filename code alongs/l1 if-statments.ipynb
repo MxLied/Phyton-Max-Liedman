{
 "cells": [
  {
   "cell_type": "markdown",
   "metadata": {},
   "source": [
    "## if-statments"
   ]
  },
  {
   "cell_type": "markdown",
   "metadata": {},
   "source": [
    "## If else"
   ]
  },
  {
   "cell_type": "code",
   "execution_count": 2,
   "metadata": {},
   "outputs": [
    {
     "name": "stdout",
     "output_type": "stream",
     "text": [
      "du får inte gå in i puben\n"
     ]
    }
   ],
   "source": [
    "age = int(input(\"hur gammal är du?\")) \n",
    "\n",
    "if age < 18: \n",
    "    print (\"du får inte gå in i puben\")\n",
    "\n",
    "else:\n",
    "        print(\"välkomen in\")"
   ]
  },
  {
   "cell_type": "code",
   "execution_count": 4,
   "metadata": {},
   "outputs": [
    {
     "name": "stdout",
     "output_type": "stream",
     "text": [
      "du får inte åka balder\n"
     ]
    }
   ],
   "source": [
    "age = 14 \n",
    "height = 210\n",
    "\n",
    "if age > 10 and 130 < height < 210: \n",
    "    print(\"du får åka balder\")\n",
    "else:\n",
    "    print(\"du får inte åka balder\")"
   ]
  },
  {
   "cell_type": "markdown",
   "metadata": {},
   "source": [
    "### Modulo operator%"
   ]
  },
  {
   "cell_type": "code",
   "execution_count": 7,
   "metadata": {},
   "outputs": [
    {
     "name": "stdout",
     "output_type": "stream",
     "text": [
      "jämnt tal\n"
     ]
    }
   ],
   "source": [
    "## Modulo innebär att den kollar om talet är jämnt eller ojämnt \n",
    "\n",
    "number = 6\n",
    "if number % 2 == 0:\n",
    "# 2 Equal signs => checks if left is equal to right\n",
    "    print (\"jämnt tal\")"
   ]
  },
  {
   "cell_type": "code",
   "execution_count": 12,
   "metadata": {},
   "outputs": [
    {
     "name": "stdout",
     "output_type": "stream",
     "text": [
      "3==4: False\n",
      "3==3: True\n",
      "3>=3: True\n",
      "3!=3: False\n"
     ]
    }
   ],
   "source": [
    "print (f\"3==4: {3 == 4}\")\n",
    "print (f\"3==3: {3 == 3}\")\n",
    "print (f\"3>=3: {3 >=3}\")\n",
    "print (f\"3!=3: {3 !=3}\")"
   ]
  },
  {
   "cell_type": "markdown",
   "metadata": {},
   "source": [
    "## if - elif - else\n",
    "\n",
    "```py \n",
    "if condition\n",
    " statement_1\n",
    " ...\n",
    " statement_n\n",
    "elif condition:\n",
    " statement_1\n",
    " ...\n",
    " statement_m\n",
    "...\n",
    "elif condition:\n",
    "    ...\n",
    "else statements\n",
    " ... "
   ]
  },
  {
   "cell_type": "code",
   "execution_count": 15,
   "metadata": {},
   "outputs": [
    {
     "name": "stdout",
     "output_type": "stream",
     "text": [
      "give patient 750mg\n"
     ]
    }
   ],
   "source": [
    "# weight is a string here\n",
    "weight = float(input(\"enter patients weight (kg):\"))\n",
    "\n",
    "# now we convert it to a float\n",
    "weight = float(weight)\n",
    "print(f\"{weight=}\")\n",
    "\n",
    "if weight < 20:\n",
    "    print(\"give patient 500mg\")\n",
    "elif weight < 40:\n",
    "    print(\"give patient 750mg\")\n",
    "else:\n",
    "    print (\"give patient 1000mg\")"
   ]
  },
  {
   "cell_type": "markdown",
   "metadata": {},
   "source": [
    "## Nested if-statements"
   ]
  },
  {
   "cell_type": "code",
   "execution_count": 18,
   "metadata": {},
   "outputs": [
    {
     "name": "stdout",
     "output_type": "stream",
     "text": [
      "odd number\n"
     ]
    }
   ],
   "source": [
    "number = 11 \n",
    "\n",
    "if number % 5 == 0:\n",
    "    print(f\"{number} divisible by 5\")\n",
    "    if number % 2 == 0:\n",
    "        print (\"even number\")\n",
    "else:\n",
    "    print(\"odd number\")"
   ]
  }
 ],
 "metadata": {
  "kernelspec": {
   "display_name": "Python 3.9.13 ('Phyton-Max-Liedman-Dhn8FrUw')",
   "language": "python",
   "name": "python3"
  },
  "language_info": {
   "codemirror_mode": {
    "name": "ipython",
    "version": 3
   },
   "file_extension": ".py",
   "mimetype": "text/x-python",
   "name": "python",
   "nbconvert_exporter": "python",
   "pygments_lexer": "ipython3",
   "version": "3.9.13"
  },
  "orig_nbformat": 4,
  "vscode": {
   "interpreter": {
    "hash": "e6ae1db9ac282e66ec34367a04cdc80b6d45f487d98c91d3d2315d0145e802be"
   }
  }
 },
 "nbformat": 4,
 "nbformat_minor": 2
}
