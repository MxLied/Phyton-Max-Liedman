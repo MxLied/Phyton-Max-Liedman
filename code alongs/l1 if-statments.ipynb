{
 "cells": [
  {
   "cell_type": "markdown",
   "metadata": {},
   "source": [
    "## if-statments"
   ]
  },
  {
   "cell_type": "markdown",
   "metadata": {},
   "source": [
    "## If else"
   ]
  },
  {
   "cell_type": "code",
   "execution_count": 2,
   "metadata": {},
   "outputs": [
    {
     "name": "stdout",
     "output_type": "stream",
     "text": [
      "du får inte gå in i puben\n"
     ]
    }
   ],
   "source": [
    "age = int(input(\"hur gammal är du?\")) \n",
    "\n",
    "if age < 18: \n",
    "    print (\"du får inte gå in i puben\")\n",
    "\n",
    "else:\n",
    "        print(\"välkomen in\")"
   ]
  },
  {
   "cell_type": "code",
   "execution_count": 4,
   "metadata": {},
   "outputs": [
    {
     "name": "stdout",
     "output_type": "stream",
     "text": [
      "du får inte åka balder\n"
     ]
    }
   ],
   "source": [
    "age = 14 \n",
    "height = 210\n",
    "\n",
    "if age > 10 and 130 < height < 210: \n",
    "    print(\"du får åka balder\")\n",
    "else:\n",
    "    print(\"du får inte åka balder\")"
   ]
  },
  {
   "cell_type": "markdown",
   "metadata": {},
   "source": [
    "### Modulo operator%"
   ]
  },
  {
   "cell_type": "code",
   "execution_count": 8,
   "metadata": {},
   "outputs": [
    {
     "name": "stdout",
     "output_type": "stream",
     "text": [
      "jämnt tal\n"
     ]
    }
   ],
   "source": [
    "number = 42\n",
    "if number % 2 == 0:\n",
    "# 2 Equal signs => checks if left is equal to right\n",
    "    print (\"jämnt tal\")"
   ]
  },
  {
   "cell_type": "code",
   "execution_count": 11,
   "metadata": {},
   "outputs": [
    {
     "name": "stdout",
     "output_type": "stream",
     "text": [
      "3==4: False\n",
      "3==33: True\n",
      "3>=3: True\n"
     ]
    }
   ],
   "source": [
    "print (f\"3==4: {3 == 4}\")\n",
    "print (f\"3==3: {3 == 3}\")\n",
    "print (f\"3>=3: {3 >=3}\")\n",
    "print (f\"3!=3: {3 !=3}\")"
   ]
  },
  {
   "cell_type": "code",
   "execution_count": null,
   "metadata": {},
   "outputs": [],
   "source": []
  }
 ],
 "metadata": {
  "kernelspec": {
   "display_name": "Python 3.9.13 64-bit",
   "language": "python",
   "name": "python3"
  },
  "language_info": {
   "codemirror_mode": {
    "name": "ipython",
    "version": 3
   },
   "file_extension": ".py",
   "mimetype": "text/x-python",
   "name": "python",
   "nbconvert_exporter": "python",
   "pygments_lexer": "ipython3",
   "version": "3.9.13"
  },
  "orig_nbformat": 4,
  "vscode": {
   "interpreter": {
    "hash": "0dcd1d2511816899a74ba735f0586ad2a5252297c95097d38969d839b5b7443a"
   }
  }
 },
 "nbformat": 4,
 "nbformat_minor": 2
}
