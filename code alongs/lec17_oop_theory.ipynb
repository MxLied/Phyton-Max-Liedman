{
 "cells": [
  {
   "cell_type": "markdown",
   "metadata": {},
   "source": [
    "## Class instantiation\n",
    "\n",
    "when instantiating an object from a class\n",
    "\n",
    "'__new__()' is run\n",
    "'__init__()' is run -> gives the instance objecet its inital state"
   ]
  },
  {
   "cell_type": "markdown",
   "metadata": {},
   "source": [
    "# OOP theory"
   ]
  },
  {
   "cell_type": "code",
   "execution_count": null,
   "metadata": {},
   "outputs": [],
   "source": [
    "# convention for classes is PascalCase\n",
    "class Student:\n",
    "    pass\n",
    "\n",
    "# variable names have snake_case\n",
    "# functions also snake_case\n",
    "\n",
    "s1 = Student()\n",
    "# s1 has a __repr__(), but this __repr__() is in the object class\n",
    "print(repr(s1)) \n",
    "\n",
    "print(type(s1))\n",
    "\n",
    "isinstance(s1, object)"
   ]
  },
  {
   "cell_type": "code",
   "execution_count": null,
   "metadata": {},
   "outputs": [],
   "source": [
    "# convention for classes is PascalCase\n",
    "\n",
    "isinstance(Student, object), isinstance(s1, int)\n"
   ]
  },
  {
   "cell_type": "code",
   "execution_count": null,
   "metadata": {},
   "outputs": [],
   "source": [
    "s2 = Student()\n",
    "s1 is s2"
   ]
  },
  {
   "cell_type": "code",
   "execution_count": null,
   "metadata": {},
   "outputs": [],
   "source": [
    "fruit1 = \"apple\"\n",
    "fruit2 = \"apple\"\n",
    "\n",
    "# don't know exactly how is works here\n",
    "fruit1 == fruit2, fruit1 is fruit2"
   ]
  },
  {
   "cell_type": "code",
   "execution_count": null,
   "metadata": {},
   "outputs": [],
   "source": [
    "hex(id(s1)), hex(id(s2))"
   ]
  },
  {
   "cell_type": "code",
   "execution_count": null,
   "metadata": {},
   "outputs": [],
   "source": [
    "l1 = [1,2,3]\n",
    "l2 = [1,2,3]\n",
    "\n",
    "l1 is l2, l1 == l2"
   ]
  },
  {
   "cell_type": "markdown",
   "metadata": {},
   "source": [
    "Attribute\n",
    "can be defined in class\n",
    "can be created on the fly (during runtime) using dot notation\n",
    "can be created inside methods"
   ]
  },
  {
   "cell_type": "code",
   "execution_count": null,
   "metadata": {},
   "outputs": [],
   "source": [
    "class Student:\n",
    "    name = \"default\"\n",
    "\n",
    "# Student's namespace\n",
    "print(Student.__dict__)\n",
    "\n",
    "# gets the name attribute from the class\n",
    "Student.name"
   ]
  },
  {
   "cell_type": "code",
   "execution_count": null,
   "metadata": {},
   "outputs": [],
   "source": [
    "s1 = Student()\n",
    "print(s1.__dict__)\n",
    "s1.name"
   ]
  },
  {
   "cell_type": "code",
   "execution_count": null,
   "metadata": {},
   "outputs": [],
   "source": [
    "# created an attribute on the fly with dot notation\n",
    "s1.name = \"Ada\"\n",
    "s1.shoe_size = 43\n",
    "print(s1.__dict__)"
   ]
  },
  {
   "cell_type": "code",
   "execution_count": null,
   "metadata": {},
   "outputs": [],
   "source": [
    "Student.__dict__"
   ]
  },
  {
   "cell_type": "code",
   "execution_count": null,
   "metadata": {},
   "outputs": [],
   "source": [
    "s2 = Student()\n",
    "s2.__dict__"
   ]
  },
  {
   "cell_type": "code",
   "execution_count": null,
   "metadata": {},
   "outputs": [],
   "source": [
    "s2.name\n"
   ]
  },
  {
   "cell_type": "code",
   "execution_count": 1,
   "metadata": {},
   "outputs": [
    {
     "ename": "NameError",
     "evalue": "name 's2' is not defined",
     "output_type": "error",
     "traceback": [
      "\u001b[1;31m---------------------------------------------------------------------------\u001b[0m",
      "\u001b[1;31mNameError\u001b[0m                                 Traceback (most recent call last)",
      "\u001b[1;32mc:\\Users\\maxim\\Documents\\GITHUB\\Phyton-Max-Liedman\\code alongs\\lec17_oop_theory.ipynb Cell 16\u001b[0m in \u001b[0;36m<cell line: 1>\u001b[1;34m()\u001b[0m\n\u001b[1;32m----> <a href='vscode-notebook-cell:/c%3A/Users/maxim/Documents/GITHUB/Phyton-Max-Liedman/code%20alongs/lec17_oop_theory.ipynb#X21sZmlsZQ%3D%3D?line=0'>1</a>\u001b[0m s2\u001b[39m.\u001b[39mshoe_size\n",
      "\u001b[1;31mNameError\u001b[0m: name 's2' is not defined"
     ]
    }
   ],
   "source": [
    "s2.shoe_size\n"
   ]
  },
  {
   "cell_type": "markdown",
   "metadata": {},
   "source": [
    "Namespace\n",
    "class attributes live in the class namespace\n",
    "namespace - dictionary of symbols (keys): reference to objects (values)\n",
    "Python will look at local scope -> enclosing scope -> global scope -> built-in scope"
   ]
  },
  {
   "cell_type": "code",
   "execution_count": null,
   "metadata": {},
   "outputs": [],
   "source": [
    "# global scope\n",
    "class Functions:\n",
    "    # enclosing scope\n",
    "    def f(x):\n",
    "        # local scope\n",
    "        return x"
   ]
  },
  {
   "cell_type": "code",
   "execution_count": null,
   "metadata": {},
   "outputs": [],
   "source": [
    "class Rabbit:\n",
    "    # class attributes - class namespace, not in instance namespace\n",
    "    eyes = 2\n",
    "    nose = 1\n",
    "    has_tail = True\n",
    "\n",
    "    def __init__(self, name) -> None:\n",
    "        # name exists in instance namespace, not the class namespace\n",
    "        self.name = name\n",
    "        \n",
    "\n",
    "rabbit1 = Rabbit(\"Bella\")\n",
    "print(Rabbit.__dict__)\n",
    "\n",
    "print(rabbit1.__dict__)"
   ]
  },
  {
   "cell_type": "code",
   "execution_count": null,
   "metadata": {},
   "outputs": [],
   "source": [
    "rabbit1.name, rabbit1.nose\n"
   ]
  },
  {
   "cell_type": "code",
   "execution_count": null,
   "metadata": {},
   "outputs": [],
   "source": [
    "class Rabbit:\n",
    "    # class attributes - class namespace, not in instance namespace\n",
    "    eyes = 2\n",
    "    nose = 1\n",
    "    has_tail = True\n",
    "\n",
    "    def __init__(self, name) -> None:\n",
    "        # name exists in instance namespace, not the class namespace\n",
    "        self.name = name\n",
    "        self.has_tail = False\n",
    "\n",
    "rabbit1 = Rabbit(\"Skutt\")\n",
    "rabbit1.has_tail"
   ]
  },
  {
   "cell_type": "code",
   "execution_count": null,
   "metadata": {},
   "outputs": [],
   "source": [
    "import numpy as np \n",
    "\n",
    "# x is in global scope\n",
    "x = np.linspace(-5,5)\n",
    "\n",
    "# x here is in local scope\n",
    "#f = lambda x: x**2\n",
    "def f(x):\n",
    "    # local x = 2\n",
    "    y = x + 2\n",
    "    return y\n"
   ]
  },
  {
   "cell_type": "code",
   "execution_count": null,
   "metadata": {},
   "outputs": [],
   "source": [
    "# without property \n",
    "class Square:\n",
    "    def __init__(self, side) -> None:\n",
    "        self._side = side # NOTE\n",
    "    \n",
    "    # method\n",
    "    def get_side(self):\n",
    "        print(\"getter run\")\n",
    "        return self._side\n",
    "    \n",
    "    # method\n",
    "    def set_side(self, value):\n",
    "        # validation code\n",
    "        print(\"setter run\")\n",
    "\n",
    "        self._side = value\n",
    "\n",
    "unit_square = Square(1)\n",
    "print(Square.__dict__)\n",
    "print(unit_square.__dict__)\n",
    "\n",
    "try:\n",
    "    unit_square.side\n",
    "except AttributeError as err:\n",
    "    print(err)"
   ]
  },
  {
   "cell_type": "code",
   "execution_count": null,
   "metadata": {},
   "outputs": [],
   "source": [
    "unit_square.get_side() # this returns _side\n",
    "unit_square.set_side(2) # this sets _side to 2\n",
    "unit_square.get_side() # this returns _side\n",
    "unit_square.__dict__"
   ]
  },
  {
   "cell_type": "code",
   "execution_count": null,
   "metadata": {},
   "outputs": [],
   "source": [
    "# property function\n",
    "class Square:\n",
    "    def __init__(self, side) -> None:\n",
    "        self.side = side \n",
    "    \n",
    "    def get_side(self):\n",
    "        print(\"getter run\")\n",
    "        return self._side\n",
    "    \n",
    "    def set_side(self, value):\n",
    "        # validation code\n",
    "        print(\"setter run\")\n",
    "        self._side = value\n",
    "\n",
    "\n",
    "    side = property(fget = get_side, fset = set_side)\n",
    "\n",
    "square2 = Square(2)\n",
    "square2.side = 4\n",
    "square2.side"
   ]
  },
  {
   "cell_type": "code",
   "execution_count": null,
   "metadata": {},
   "outputs": [],
   "source": [
    "class Square:\n",
    "    def __init__(self, side) -> None:\n",
    "        self.side = side \n",
    "\n",
    "    # side = property(fget=side)\n",
    "    @property    \n",
    "    def side(self):\n",
    "        print(\"getter run\")\n",
    "        return self._side\n",
    "    \n",
    "    @side.setter\n",
    "    def side(self, value):\n",
    "        # validation code\n",
    "        print(\"setter run\")\n",
    "        self._side = value\n",
    "\n",
    "square3 = Square(3)\n",
    "square3.side"
   ]
  },
  {
   "cell_type": "code",
   "execution_count": null,
   "metadata": {},
   "outputs": [],
   "source": [
    "square2.__dict__\n"
   ]
  }
 ],
 "metadata": {
  "kernelspec": {
   "display_name": "Python 3.9.13 ('Phyton-Max-Liedman-Dhn8FrUw')",
   "language": "python",
   "name": "python3"
  },
  "language_info": {
   "codemirror_mode": {
    "name": "ipython",
    "version": 3
   },
   "file_extension": ".py",
   "mimetype": "text/x-python",
   "name": "python",
   "nbconvert_exporter": "python",
   "pygments_lexer": "ipython3",
   "version": "3.9.13"
  },
  "orig_nbformat": 4,
  "vscode": {
   "interpreter": {
    "hash": "e6ae1db9ac282e66ec34367a04cdc80b6d45f487d98c91d3d2315d0145e802be"
   }
  }
 },
 "nbformat": 4,
 "nbformat_minor": 2
}
