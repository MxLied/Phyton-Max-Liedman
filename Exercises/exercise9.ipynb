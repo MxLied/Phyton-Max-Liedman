{
 "cells": [
  {
   "cell_type": "markdown",
   "metadata": {},
   "source": [
    "# Dictionary"
   ]
  },
  {
   "cell_type": "markdown",
   "metadata": {},
   "source": [
    "## Curriculum"
   ]
  },
  {
   "cell_type": "code",
   "execution_count": 6,
   "metadata": {},
   "outputs": [
    {
     "name": "stdout",
     "output_type": "stream",
     "text": [
      "400\n"
     ]
    }
   ],
   "source": [
    "# A) Create a dictionary containing all the courses that you will study in this program, \\\n",
    "# with the course names as keys and the amount of points as value. \\\n",
    "# Then calculate the number of points that you will study in total. (*)\n",
    "\n",
    "kurs = dict(\n",
    "    databaser = 25,\n",
    "    databehandling = 25, \n",
    "    djup_maskininlärning = 40, \n",
    "    examensarbete = 15,\n",
    "    introduktions_till_ai = 5,\n",
    "    lia_1 = 40,\n",
    "    lia_2 = 70, \n",
    "    maskininlärning = 45, \n",
    "    praktisk_maskininlärning = 35,\n",
    "    programmering_med_python = 40,\n",
    "    projektmetodik = 10,\n",
    "    statistiska_metoder = 30, \n",
    "    linjär_algebra = 20 \n",
    ")\n",
    "Scores = kurs.values()\n",
    "\n",
    "total = sum(Scores)\n",
    "\n",
    "print(total)\n",
    "\n",
    "\n"
   ]
  },
  {
   "cell_type": "markdown",
   "metadata": {},
   "source": [
    "## Dice simulation"
   ]
  },
  {
   "cell_type": "code",
   "execution_count": 14,
   "metadata": {},
   "outputs": [
    {
     "ename": "SyntaxError",
     "evalue": "invalid syntax (3079188293.py, line 9)",
     "output_type": "error",
     "traceback": [
      "\u001b[1;36m  Cell \u001b[1;32mIn [14], line 9\u001b[1;36m\u001b[0m\n\u001b[1;33m    print (f\"{resultattat}\")\u001b[0m\n\u001b[1;37m    ^\u001b[0m\n\u001b[1;31mSyntaxError\u001b[0m\u001b[1;31m:\u001b[0m invalid syntax\n"
     ]
    }
   ],
   "source": [
    "# B)\n",
    "# Simulate 1000000 dice rolls and save the number of ones, twos, ..., sixes in a dictionary.\\\n",
    "# Then print them out in the terminal. (*)\n",
    "import random as rnd\n",
    "from unittest import result\n",
    "dice= [rnd.randint(1,6) for i in range(1000000)]\n",
    "   \n",
    "dict(\n",
    "    resultattat = dice.count(1)\n",
    "    \n",
    ")\n",
    "print (f\"{dice} \")\n"
   ]
  },
  {
   "cell_type": "markdown",
   "metadata": {},
   "source": [
    "## Pokemon List"
   ]
  },
  {
   "cell_type": "code",
   "execution_count": 108,
   "metadata": {},
   "outputs": [
    {
     "ename": "IndexError",
     "evalue": "list index out of range",
     "output_type": "error",
     "traceback": [
      "\u001b[1;31m---------------------------------------------------------------------------\u001b[0m",
      "\u001b[1;31mIndexError\u001b[0m                                Traceback (most recent call last)",
      "Cell \u001b[1;32mIn [108], line 9\u001b[0m\n\u001b[0;32m      7\u001b[0m \u001b[38;5;28;01mfor\u001b[39;00m lista \u001b[38;5;129;01min\u001b[39;00m (f):\n\u001b[0;32m      8\u001b[0m  poke \u001b[38;5;241m=\u001b[39m lista\u001b[38;5;241m.\u001b[39msplit()\n\u001b[1;32m----> 9\u001b[0m \u001b[43mpoke\u001b[49m\u001b[43m[\u001b[49m\u001b[38;5;241;43m4\u001b[39;49m\u001b[43m]\u001b[49m\n\u001b[0;32m     10\u001b[0m \u001b[38;5;28mprint\u001b[39m(poke)\n",
      "\u001b[1;31mIndexError\u001b[0m: list index out of range"
     ]
    }
   ],
   "source": [
    "#\n",
    "# Read in the file pokemon_list.txt in Python. \\\n",
    "# Create a variable with name pokedex with the key:value \"pokemon\":\"type, index\". \\\n",
    "# For example when searching for the keys \"Gengar\" and \"Pikachu\":\n",
    "poke = {}\n",
    "with open(\"../Data/pokemonlist.txt\", \"r\") as f:\n",
    "    for lista in (f):\n",
    "     poke = lista.split()\n",
    "    poke[4]\n",
    "    print(poke)\n",
    "        \n",
    "\n",
    "\n",
    "\n",
    "\n",
    "\n"
   ]
  }
 ],
 "metadata": {
  "kernelspec": {
   "display_name": "Python 3.9.13 64-bit",
   "language": "python",
   "name": "python3"
  },
  "language_info": {
   "codemirror_mode": {
    "name": "ipython",
    "version": 3
   },
   "file_extension": ".py",
   "mimetype": "text/x-python",
   "name": "python",
   "nbconvert_exporter": "python",
   "pygments_lexer": "ipython3",
   "version": "3.9.13"
  },
  "orig_nbformat": 4,
  "vscode": {
   "interpreter": {
    "hash": "421da3d2daef97118e416ac0679e46ab60f87b1c022c3327a94a4193c3fed2a9"
   }
  }
 },
 "nbformat": 4,
 "nbformat_minor": 2
}
