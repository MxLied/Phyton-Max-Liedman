{
 "cells": [
  {
   "cell_type": "markdown",
   "metadata": {},
   "source": [
    "# Dictionary"
   ]
  },
  {
   "cell_type": "markdown",
   "metadata": {},
   "source": [
    "## Curriculum"
   ]
  },
  {
   "cell_type": "code",
   "execution_count": 6,
   "metadata": {},
   "outputs": [
    {
     "name": "stdout",
     "output_type": "stream",
     "text": [
      "400\n"
     ]
    }
   ],
   "source": [
    "# A) Create a dictionary containing all the courses that you will study in this program, \\\n",
    "# with the course names as keys and the amount of points as value. \\\n",
    "# Then calculate the number of points that you will study in total. (*)\n",
    "\n",
    "kurs = dict(\n",
    "    databaser = 25,\n",
    "    databehandling = 25, \n",
    "    djup_maskininlärning = 40, \n",
    "    examensarbete = 15,\n",
    "    introduktions_till_ai = 5,\n",
    "    lia_1 = 40,\n",
    "    lia_2 = 70, \n",
    "    maskininlärning = 45, \n",
    "    praktisk_maskininlärning = 35,\n",
    "    programmering_med_python = 40,\n",
    "    projektmetodik = 10,\n",
    "    statistiska_metoder = 30, \n",
    "    linjär_algebra = 20 \n",
    ")\n",
    "Scores = kurs.values()\n",
    "\n",
    "total = sum(Scores)\n",
    "\n",
    "print(total)\n",
    "\n",
    "\n"
   ]
  },
  {
   "cell_type": "markdown",
   "metadata": {},
   "source": [
    "## Dice simulation"
   ]
  },
  {
   "cell_type": "code",
   "execution_count": 14,
   "metadata": {},
   "outputs": [
    {
     "ename": "SyntaxError",
     "evalue": "invalid syntax (3079188293.py, line 9)",
     "output_type": "error",
     "traceback": [
      "\u001b[1;36m  Cell \u001b[1;32mIn [14], line 9\u001b[1;36m\u001b[0m\n\u001b[1;33m    print (f\"{resultattat}\")\u001b[0m\n\u001b[1;37m    ^\u001b[0m\n\u001b[1;31mSyntaxError\u001b[0m\u001b[1;31m:\u001b[0m invalid syntax\n"
     ]
    }
   ],
   "source": [
    "# B)\n",
    "# Simulate 1000000 dice rolls and save the number of ones, twos, ..., sixes in a dictionary.\\\n",
    "# Then print them out in the terminal. (*)\n",
    "import random as rnd\n",
    "from unittest import result\n",
    "dice= [rnd.randint(1,6) for i in range(1000000)]\n",
    "   \n",
    "dict(\n",
    "    resultattat = dice.count(1)\n",
    "    \n",
    ")\n",
    "print (f\"{dice} \")\n"
   ]
  },
  {
   "cell_type": "markdown",
   "metadata": {},
   "source": [
    "## Pokemon List"
   ]
  },
  {
   "cell_type": "code",
   "execution_count": 25,
   "metadata": {},
   "outputs": [
    {
     "name": "stdout",
     "output_type": "stream",
     "text": [
      "GrÃ¤s/Gift\n"
     ]
    }
   ],
   "source": [
    "#\n",
    "# Read in the file pokemon_list.txt in Python. \\\n",
    "# Create a variable with name pokedex with the key:value \"pokemon\":\"type, index\". \\\n",
    "# For example when searching for the keys \"Gengar\" and \"Pikachu\":\n",
    "\n",
    "with open(\"../Data/pokemonlist.txt\", \"r\") as f:\n",
    "    poke = {}\n",
    "\n",
    "\n",
    "    for lista in (f):\n",
    "     lista = lista.split()\n",
    "     poke[lista[1]] = lista[-1]\n",
    "\n",
    "print(poke[\"Bulbasaur\"])\n",
    "    \n",
    "    \n",
    "\n",
    "        \n",
    "\n",
    "\n",
    "\n",
    "\n",
    "\n"
   ]
  },
  {
   "cell_type": "code",
   "execution_count": 9,
   "metadata": {},
   "outputs": [
    {
     "name": "stdout",
     "output_type": "stream",
     "text": [
      "GrÃ¤s/Gift\n",
      "\n"
     ]
    }
   ],
   "source": [
    "\n",
    "with open(\"../Data/pokemonlist.txt\", \"r\") as file:\n",
    "\n",
    "    poke_list = {}\n",
    "\n",
    "    for row_text in file: \n",
    "        row_text = row_text.split(\" \")\n",
    "        poke_list[row_text[1]] = row_text[2]\n",
    "        \n",
    "    \n",
    "    print(poke_list[\"Bulbasaur\"])\n",
    "    "
   ]
  },
  {
   "cell_type": "markdown",
   "metadata": {},
   "source": [
    "## Morse code "
   ]
  },
  {
   "cell_type": "code",
   "execution_count": 76,
   "metadata": {},
   "outputs": [
    {
     "name": "stdout",
     "output_type": "stream",
     "text": [
      "POKEMON\n",
      ".------.-.------."
     ]
    }
   ],
   "source": [
    "#Read in the file morse.txt, save it in a dictionary and create a function that lets the user input a message\\\n",
    "# to get it translated to morse code.For example\n",
    "\n",
    "\n",
    "\n",
    "with open(\"../Data/morsecode.txt\", \"r\") as f:\n",
    "\n",
    "    transla = dict(i.strip(\"\\n\").split(\": \") for i in f)\n",
    "\n",
    "\n",
    "encryptor = (\"POKEMON\").upper()\n",
    "print(encryptor)\n",
    "\n",
    "\n",
    "\n",
    "for letter in encryptor:\n",
    "    for key, value in transla.items():\n",
    "        if letter == key:\n",
    "            print(value, end=\"\")\n"
   ]
  },
  {
   "cell_type": "code",
   "execution_count": 52,
   "metadata": {},
   "outputs": [
    {
     "name": "stdout",
     "output_type": "stream",
     "text": [
      "{'A': '.-', 'B': '-...', 'C': '-.-.', 'D': '-..', 'E': '.', 'F': '..-.', 'G': '--', 'H': '....', 'I': '..', 'J': '.---', 'K': '-.-', 'L': '.-..', 'M': '--', 'N': '-.', 'O': '---', 'P': '.--', 'Q': '--.-', 'R': '.-.', 'S': '...', 'T': '-', 'U': '..-', 'V': '...-', 'W': '.--', 'X': '-..-', 'Y': '-.--', 'Z': '--..', 'Ã…': '.--.-', 'Ã„': '.-.-', 'Ã–': '---'}\n",
      "WTF\n",
      ".---..-."
     ]
    }
   ],
   "source": [
    "\n",
    "with open(\"../Data/morsecode.txt\", \"r\") as f_read:  # ../ means you go back one step\n",
    "    \n",
    "    morse = dict(i.strip(\"\\n\").split(\": \") for i in f_read)\n",
    "\n",
    "print(morse)\n",
    "\n",
    "\n",
    "##TODO, INSERT INTO A FUNCTION\n",
    "\n",
    "msg = input(\"Write a word\").upper()\n",
    "print(msg)\n",
    "\n",
    "\n",
    "for letter in msg:\n",
    "    for key, value in morse.items():\n",
    "        if letter == key:\n",
    "            print(value, end=\"\")"
   ]
  }
 ],
 "metadata": {
  "kernelspec": {
   "display_name": "Python 3.9.13 ('Phyton-Max-Liedman-Dhn8FrUw')",
   "language": "python",
   "name": "python3"
  },
  "language_info": {
   "codemirror_mode": {
    "name": "ipython",
    "version": 3
   },
   "file_extension": ".py",
   "mimetype": "text/x-python",
   "name": "python",
   "nbconvert_exporter": "python",
   "pygments_lexer": "ipython3",
   "version": "3.9.13"
  },
  "orig_nbformat": 4,
  "vscode": {
   "interpreter": {
    "hash": "e6ae1db9ac282e66ec34367a04cdc80b6d45f487d98c91d3d2315d0145e802be"
   }
  }
 },
 "nbformat": 4,
 "nbformat_minor": 2
}
