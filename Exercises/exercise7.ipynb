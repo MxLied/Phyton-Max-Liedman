{
 "cells": [
  {
   "cell_type": "code",
   "execution_count": 18,
   "metadata": {},
   "outputs": [
    {
     "name": "stdout",
     "output_type": "stream",
     "text": [
      "0.7500000000000001\n"
     ]
    }
   ],
   "source": [
    "## ecludian distance\n",
    "import math as np\n",
    "p =[0.5]\n",
    "q = [0.5]\n",
    "def distance(x,y):\n",
    "    return np.sqrt(x)**2+(y)**2\n",
    "\n",
    "print(distance(0.5, 0.5))"
   ]
  },
  {
   "cell_type": "code",
   "execution_count": 76,
   "metadata": {},
   "outputs": [
    {
     "ename": "SyntaxError",
     "evalue": "invalid syntax (3588854781.py, line 3)",
     "output_type": "error",
     "traceback": [
      "\u001b[1;36m  Input \u001b[1;32mIn [76]\u001b[1;36m\u001b[0m\n\u001b[1;33m    if number >= 1000, 9999:\u001b[0m\n\u001b[1;37m                     ^\u001b[0m\n\u001b[1;31mSyntaxError\u001b[0m\u001b[1;31m:\u001b[0m invalid syntax\n"
     ]
    }
   ],
   "source": [
    "# Find the errors in this code. Just change the function, don't touch the test program.\n",
    "def is_fourdigit(number):\n",
    "    if number >= 1000:\n",
    "        return number\n",
    "    elif number <= -1000:\n",
    "        return number\n",
    "    else: \n",
    "        return\n",
    "\n",
    "# test program\n",
    "test_numbers = [231, 3124, -4124, -1000,-999, 1001, 10000, -10000, 999]\n",
    "\n",
    "for number in test_numbers:\n",
    "    if is_fourdigit(number):\n",
    "        print(f\"{number} is four-digit\")\n",
    "    else:\n",
    "        print(f\"{number} is NOT four-digit\")"
   ]
  },
  {
   "cell_type": "code",
   "execution_count": 91,
   "metadata": {},
   "outputs": [
    {
     "name": "stdout",
     "output_type": "stream",
     "text": [
      "Du måste skriva en siffra mellan 1, till 100 6.0 Du har skrivit med bokstäver\n",
      "det är mer prisvärt att köpa vanlig biljet 150.0\n"
     ]
    }
   ],
   "source": [
    "monthbiljet = 1000\n",
    "Biljet = 25\n",
    "while True:\n",
    "    tramtimes = input(\"Hur många gånger åker du spårvagnen per månad, OBS skriv detta med siffror, inte bokstäver\")\n",
    "\n",
    "    try:\n",
    "        tramtimes = float(tramtimes) # tried to convert \"fyrtiotvå\", program throws a Valueerror\n",
    "        if not 0 <= tramtimes >= 100:\n",
    "            raise ValueError(f\"Du måste skriva en siffra mellan 1, till 100 {tramtimes}\")\n",
    "\n",
    "    except ValueError as errorr: # it get caught in the except block \n",
    "        print(f\"{errorr} Du har skrivit med bokstäver\")\n",
    "\n",
    "    if tramtimes > 40:\n",
    "        print(f\"Du åker {tramtimes} gånger i månaden biljeterna kostar {Biljet * tramtimes}kr, Det är mer prisvärt med månads biljet vilket kostar {monthbiljet}kr\")\n",
    "    else:\n",
    "        print(f\"det är mer prisvärt att köpa vanlig biljet {Biljet * tramtimes}\")\n",
    "        break\n",
    "\n"
   ]
  },
  {
   "cell_type": "code",
   "execution_count": 88,
   "metadata": {},
   "outputs": [
    {
     "name": "stdout",
     "output_type": "stream",
     "text": [
      "could not convert string to float: 'was' Du har skrivit med bokstäver\n"
     ]
    },
    {
     "ename": "TypeError",
     "evalue": "'>' not supported between instances of 'str' and 'int'",
     "output_type": "error",
     "traceback": [
      "\u001b[1;31m---------------------------------------------------------------------------\u001b[0m",
      "\u001b[1;31mTypeError\u001b[0m                                 Traceback (most recent call last)",
      "\u001b[1;32mc:\\Users\\maxim\\Documents\\GITHUB\\Phyton-Max-Liedman\\Exercises\\exercise7.ipynb Cell 4\u001b[0m in \u001b[0;36m<cell line: 4>\u001b[1;34m()\u001b[0m\n\u001b[0;32m     <a href='vscode-notebook-cell:/c%3A/Users/maxim/Documents/GITHUB/Phyton-Max-Liedman/Exercises/exercise7.ipynb#W5sZmlsZQ%3D%3D?line=11'>12</a>\u001b[0m \u001b[39mexcept\u001b[39;00m \u001b[39mValueError\u001b[39;00m \u001b[39mas\u001b[39;00m errorr: \u001b[39m# it get caught in the except block \u001b[39;00m\n\u001b[0;32m     <a href='vscode-notebook-cell:/c%3A/Users/maxim/Documents/GITHUB/Phyton-Max-Liedman/Exercises/exercise7.ipynb#W5sZmlsZQ%3D%3D?line=12'>13</a>\u001b[0m     \u001b[39mprint\u001b[39m(\u001b[39mf\u001b[39m\u001b[39m\"\u001b[39m\u001b[39m{\u001b[39;00merrorr\u001b[39m}\u001b[39;00m\u001b[39m Du har skrivit med bokstäver\u001b[39m\u001b[39m\"\u001b[39m)\n\u001b[1;32m---> <a href='vscode-notebook-cell:/c%3A/Users/maxim/Documents/GITHUB/Phyton-Max-Liedman/Exercises/exercise7.ipynb#W5sZmlsZQ%3D%3D?line=14'>15</a>\u001b[0m \u001b[39mif\u001b[39;00m tramtimes \u001b[39m>\u001b[39;49m \u001b[39m40\u001b[39;49m:\n\u001b[0;32m     <a href='vscode-notebook-cell:/c%3A/Users/maxim/Documents/GITHUB/Phyton-Max-Liedman/Exercises/exercise7.ipynb#W5sZmlsZQ%3D%3D?line=15'>16</a>\u001b[0m     \u001b[39mprint\u001b[39m(\u001b[39mf\u001b[39m\u001b[39m\"\u001b[39m\u001b[39mDu åker \u001b[39m\u001b[39m{\u001b[39;00mtramtimes\u001b[39m}\u001b[39;00m\u001b[39m gånger i månaden biljeterna kostar \u001b[39m\u001b[39m{\u001b[39;00mBiljet \u001b[39m*\u001b[39m tramtimes\u001b[39m}\u001b[39;00m\u001b[39mkr, Det är mer prisvärt med \u001b[39m\u001b[39m{\u001b[39;00mmonthbiljet\u001b[39m}\u001b[39;00m\u001b[39m\"\u001b[39m)\n\u001b[0;32m     <a href='vscode-notebook-cell:/c%3A/Users/maxim/Documents/GITHUB/Phyton-Max-Liedman/Exercises/exercise7.ipynb#W5sZmlsZQ%3D%3D?line=16'>17</a>\u001b[0m \u001b[39melse\u001b[39;00m:\n",
      "\u001b[1;31mTypeError\u001b[0m: '>' not supported between instances of 'str' and 'int'"
     ]
    }
   ],
   "source": [
    "monthbiljet = 1000\n",
    "Biljet = 25\n",
    "while True:\n",
    "    tramtimes = input(\"Hur många gånger åker du spårvagnen per månad, OBS skriv detta med siffror, inte bokstäver\")\n",
    "\n",
    "    try:\n",
    "        tramtimes = float(tramtimes) # tried to convert \"fyrtiotvå\", program throws a Valueerror\n",
    "        if not 0 <= tramtimes <= 100:\n",
    "         raise ValueError(f\"Du måste skriva en siffra mellan 1, till 100 {tramtimes}\")\n",
    "      \n",
    "\n",
    "    except ValueError as errorr: # it get caught in the except block \n",
    "        print(f\"{errorr} Du har skrivit med bokstäver\")\n",
    "\n",
    "    if tramtimes > 40:\n",
    "        print(f\"Du åker {tramtimes} gånger i månaden biljeterna kostar {Biljet * tramtimes}kr, Det är mer prisvärt med {monthbiljet}\")\n",
    "    else:\n",
    "     break\n",
    "print(\"det är mer prisvärt att köpa vanlig biljet\")"
   ]
  },
  {
   "cell_type": "code",
   "execution_count": 98,
   "metadata": {},
   "outputs": [
    {
     "name": "stdout",
     "output_type": "stream",
     "text": [
      "could not convert string to float: 'hfsbdölämk,<' Du har skrivit med bokstäver\n"
     ]
    },
    {
     "ename": "TypeError",
     "evalue": "'>' not supported between instances of 'str' and 'int'",
     "output_type": "error",
     "traceback": [
      "\u001b[1;31m---------------------------------------------------------------------------\u001b[0m",
      "\u001b[1;31mTypeError\u001b[0m                                 Traceback (most recent call last)",
      "\u001b[1;32mc:\\Users\\maxim\\Documents\\GITHUB\\Phyton-Max-Liedman\\Exercises\\exercise7.ipynb Cell 5\u001b[0m in \u001b[0;36m<cell line: 4>\u001b[1;34m()\u001b[0m\n\u001b[0;32m     <a href='vscode-notebook-cell:/c%3A/Users/maxim/Documents/GITHUB/Phyton-Max-Liedman/Exercises/exercise7.ipynb#W4sZmlsZQ%3D%3D?line=11'>12</a>\u001b[0m \u001b[39mexcept\u001b[39;00m \u001b[39mValueError\u001b[39;00m \u001b[39mas\u001b[39;00m errorr: \u001b[39m# it get caught in the except block \u001b[39;00m\n\u001b[0;32m     <a href='vscode-notebook-cell:/c%3A/Users/maxim/Documents/GITHUB/Phyton-Max-Liedman/Exercises/exercise7.ipynb#W4sZmlsZQ%3D%3D?line=12'>13</a>\u001b[0m     \u001b[39mprint\u001b[39m(\u001b[39mf\u001b[39m\u001b[39m\"\u001b[39m\u001b[39m{\u001b[39;00merrorr\u001b[39m}\u001b[39;00m\u001b[39m Du har skrivit med bokstäver\u001b[39m\u001b[39m\"\u001b[39m)\n\u001b[1;32m---> <a href='vscode-notebook-cell:/c%3A/Users/maxim/Documents/GITHUB/Phyton-Max-Liedman/Exercises/exercise7.ipynb#W4sZmlsZQ%3D%3D?line=14'>15</a>\u001b[0m \u001b[39mif\u001b[39;00m tramtimes \u001b[39m>\u001b[39;49m \u001b[39m40\u001b[39;49m:\n\u001b[0;32m     <a href='vscode-notebook-cell:/c%3A/Users/maxim/Documents/GITHUB/Phyton-Max-Liedman/Exercises/exercise7.ipynb#W4sZmlsZQ%3D%3D?line=15'>16</a>\u001b[0m     \u001b[39mprint\u001b[39m(\u001b[39mf\u001b[39m\u001b[39m\"\u001b[39m\u001b[39mDu åker \u001b[39m\u001b[39m{\u001b[39;00mtramtimes\u001b[39m}\u001b[39;00m\u001b[39m gånger i månaden biljeterna kostar \u001b[39m\u001b[39m{\u001b[39;00mBiljet \u001b[39m*\u001b[39m tramtimes\u001b[39m}\u001b[39;00m\u001b[39mkr, Det är mer prisvärt med \u001b[39m\u001b[39m{\u001b[39;00mmonthbiljet\u001b[39m}\u001b[39;00m\u001b[39m\"\u001b[39m)\n\u001b[0;32m     <a href='vscode-notebook-cell:/c%3A/Users/maxim/Documents/GITHUB/Phyton-Max-Liedman/Exercises/exercise7.ipynb#W4sZmlsZQ%3D%3D?line=16'>17</a>\u001b[0m \u001b[39melse\u001b[39;00m:\n",
      "\u001b[1;31mTypeError\u001b[0m: '>' not supported between instances of 'str' and 'int'"
     ]
    }
   ],
   "source": [
    "monthbiljet = 1000\n",
    "Biljet = 25\n",
    "while True:\n",
    "    tramtimes = input(\"Hur många gånger åker du spårvagnen per månad, OBS skriv detta med siffror, inte bokstäver\")\n",
    "\n",
    "    try:\n",
    "        tramtimes = float(tramtimes) # tried to convert \"fyrtiotvå\", program throws a Valueerror\n",
    "        if not 0 <= tramtimes <= 125:\n",
    "            raise ValueError(f\"Du måste skriva en siffra mellan 1, till 100 {tramtimes}\")\n",
    "        \n",
    "\n",
    "    except ValueError as errorr: # it get caught in the except block \n",
    "        print(f\"{errorr} Du har skrivit med bokstäver, pröva igen med siffror\")\n",
    "\n",
    "    if tramtimes > 40:\n",
    "        print(f\"Du åker {tramtimes} gånger i månaden biljeterna kostar {Biljet * tramtimes}kr, Det är mer prisvärt med {monthbiljet}\")\n",
    "    else:\n",
    "     break\n",
    "print(f\"det är mer prisvärt att köpa vanlig biljet {Biljet * tramtimes}\")"
   ]
  },
  {
   "cell_type": "code",
   "execution_count": 100,
   "metadata": {},
   "outputs": [
    {
     "name": "stdout",
     "output_type": "stream",
     "text": [
      "It's cheaper to buy a monthly card\n"
     ]
    }
   ],
   "source": [
    "# 3. Tram\n",
    "i = 0\n",
    "while i < 1:\n",
    "    try:\n",
    "        trips = int(input(\"How many trips do you travel per month?\"))\n",
    "        ticket_cost = int(input(\"How much is one ticket?\"))\n",
    "        month_card_cost = int(input(\"How much is a monthly card?\"))\n",
    "        i += 1\n",
    "    except ValueError as err:\n",
    "        print(\"Please enter an integer\")\n",
    "        i = 0\n",
    "\n",
    "\n",
    "if trips * ticket_cost > month_card_cost:\n",
    "    print(\"It's cheaper to buy a monthly card\")\n",
    "elif trips * ticket_cost == month_card_cost:\n",
    "    print(\"The price is the same\")\n",
    "elif trips * ticket_cost < month_card_cost:\n",
    "    print(\"It's cheaper to buy individual tickets\")"
   ]
  }
 ],
 "metadata": {
  "kernelspec": {
   "display_name": "Python 3.9.13 ('Phyton-Max-Liedman-Dhn8FrUw')",
   "language": "python",
   "name": "python3"
  },
  "language_info": {
   "codemirror_mode": {
    "name": "ipython",
    "version": 3
   },
   "file_extension": ".py",
   "mimetype": "text/x-python",
   "name": "python",
   "nbconvert_exporter": "python",
   "pygments_lexer": "ipython3",
   "version": "3.9.13"
  },
  "orig_nbformat": 4,
  "vscode": {
   "interpreter": {
    "hash": "e6ae1db9ac282e66ec34367a04cdc80b6d45f487d98c91d3d2315d0145e802be"
   }
  }
 },
 "nbformat": 4,
 "nbformat_minor": 2
}
