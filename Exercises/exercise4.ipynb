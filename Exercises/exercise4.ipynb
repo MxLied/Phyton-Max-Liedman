{
 "cells": [
  {
   "cell_type": "markdown",
   "metadata": {},
   "source": [
    "# List stamtent exercise"
   ]
  },
  {
   "cell_type": "markdown",
   "metadata": {},
   "source": [
    "## Dice rolls"
   ]
  },
  {
   "cell_type": "code",
   "execution_count": 25,
   "metadata": {},
   "outputs": [
    {
     "name": "stdout",
     "output_type": "stream",
     "text": [
      "[2, 4, 1, 3, 3, 4, 4, 5, 1, 6]\n"
     ]
    }
   ],
   "source": [
    "# 1 A\n",
    "import random \n",
    "\n",
    "\n",
    "dices = [] \n",
    "for _ in range (10):\n",
    "    dices.append(random.randint(1,6))\n",
    "print(dices)"
   ]
  },
  {
   "cell_type": "code",
   "execution_count": 5,
   "metadata": {},
   "outputs": [
    {
     "name": "stdout",
     "output_type": "stream",
     "text": [
      "[1, 1, 1, 2, 3, 3, 3, 3, 3, 4]\n"
     ]
    }
   ],
   "source": [
    "# 1B\n",
    "import random \n",
    "\n",
    "\n",
    "dices = [] \n",
    "for _ in range (10):\n",
    "    dices.append(random.randint(1,6))\n",
    "    dices.sort()\n",
    "print(dices)"
   ]
  },
  {
   "cell_type": "code",
   "execution_count": 2,
   "metadata": {},
   "outputs": [
    {
     "name": "stdout",
     "output_type": "stream",
     "text": [
      "5\n"
     ]
    }
   ],
   "source": [
    "## 1C\n",
    "import random \n",
    "\n",
    "\n",
    "dices = [] \n",
    "for _ in range (10):\n",
    "    dices.append(random.randint(1,6))\n",
    "    dices.sort()\n",
    "print(max(dices))\n",
    "print(min(dices))"
   ]
  },
  {
   "cell_type": "markdown",
   "metadata": {},
   "source": [
    "## Food menu (*)"
   ]
  },
  {
   "cell_type": "code",
   "execution_count": 17,
   "metadata": {},
   "outputs": [
    {
     "ename": "TypeError",
     "evalue": "unsupported operand type(s) for %: 'list' and 'int'",
     "output_type": "error",
     "traceback": [
      "\u001b[1;31m---------------------------------------------------------------------------\u001b[0m",
      "\u001b[1;31mTypeError\u001b[0m                                 Traceback (most recent call last)",
      "\u001b[1;32mc:\\Users\\maxim\\Documents\\GITHUB\\Phyton-Max-Liedman\\Exercises\\exercise4.ipynb Cell 8\u001b[0m in \u001b[0;36m<cell line: 8>\u001b[1;34m()\u001b[0m\n\u001b[0;32m      <a href='vscode-notebook-cell:/c%3A/Users/maxim/Documents/GITHUB/Phyton-Max-Liedman/Exercises/exercise4.ipynb#W6sZmlsZQ%3D%3D?line=5'>6</a>\u001b[0m Dagar \u001b[39m=\u001b[39m [\u001b[39m\"\u001b[39m\u001b[39mMåndag\u001b[39m\u001b[39m\"\u001b[39m,\u001b[39m\"\u001b[39m\u001b[39mTisdag\u001b[39m\u001b[39m\"\u001b[39m,\u001b[39m\"\u001b[39m\u001b[39mOnsdag\u001b[39m\u001b[39m\"\u001b[39m,\u001b[39m\"\u001b[39m\u001b[39mtorsdag\u001b[39m\u001b[39m\"\u001b[39m,\u001b[39m\"\u001b[39m\u001b[39mfredag\u001b[39m\u001b[39m\"\u001b[39m,\u001b[39m\"\u001b[39m\u001b[39mLördag\u001b[39m\u001b[39m\"\u001b[39m,\u001b[39m\"\u001b[39m\u001b[39mSöndag\u001b[39m\u001b[39m\"\u001b[39m]\n\u001b[0;32m      <a href='vscode-notebook-cell:/c%3A/Users/maxim/Documents/GITHUB/Phyton-Max-Liedman/Exercises/exercise4.ipynb#W6sZmlsZQ%3D%3D?line=6'>7</a>\u001b[0m MatDagar \u001b[39m=\u001b[39m Mat\u001b[39m+\u001b[39mDagar\n\u001b[1;32m----> <a href='vscode-notebook-cell:/c%3A/Users/maxim/Documents/GITHUB/Phyton-Max-Liedman/Exercises/exercise4.ipynb#W6sZmlsZQ%3D%3D?line=7'>8</a>\u001b[0m \u001b[39mif\u001b[39;00m MatDagar \u001b[39m%\u001b[39;49m \u001b[39m2\u001b[39;49m \u001b[39m==\u001b[39m \u001b[39m0\u001b[39m:\n\u001b[0;32m      <a href='vscode-notebook-cell:/c%3A/Users/maxim/Documents/GITHUB/Phyton-Max-Liedman/Exercises/exercise4.ipynb#W6sZmlsZQ%3D%3D?line=8'>9</a>\u001b[0m     \u001b[39mprint\u001b[39m(MatDagar)\n",
      "\u001b[1;31mTypeError\u001b[0m: unsupported operand type(s) for %: 'list' and 'int'"
     ]
    }
   ],
   "source": [
    "# A) mitt misslyckade kärleksprojekt\n",
    "\n",
    "\n",
    "\n",
    "Mat = [\"vegetarisk lasagne\", \"spaghetti\", \"fisk\", \"grönsakssoppa\", \"pannkakor\"]\n",
    "Dagar = [\"Måndag\",\"Tisdag\",\"Onsdag\",\"torsdag\",\"fredag\",\"Lördag\",\"Söndag\"]\n",
    "MatDagar = Mat+Dagar\n",
    "if MatDagar % 2 == 0:\n",
    "    print(MatDagar)\n",
    "\n"
   ]
  },
  {
   "cell_type": "code",
   "execution_count": 8,
   "metadata": {},
   "outputs": [
    {
     "name": "stdout",
     "output_type": "stream",
     "text": [
      "Måndag: Vegetarisk Lasagne\n",
      "Tisdag: Spaghetti\n",
      "Onsdag: Fisk\n",
      "Torsdag: Grönsakssoppa\n",
      "Fredag: Pannkakor\n"
     ]
    }
   ],
   "source": [
    "## Listan måste vara jämn för att slå ihop (1,2,3,4,5,6) (1,2,3,4,5,6) för att printas det kan inte vara (1,2,3,4,5) \n",
    "# (1,2,3,4,5,6) 6 kommer inte printas\n",
    "\n",
    "\n",
    "Mat = [\"Vegetarisk Lasagne\", \"Spaghetti\", \"Fisk\", \"Grönsakssoppa\", \"Pannkakor\",]\n",
    "Dagar = [\"Måndag:\",\"Tisdag:\",\"Onsdag:\",\"Torsdag:\",\"Fredag:\",\"Lördag\"]\n",
    "MatDagar = [Dagar,Mat]\n",
    "\n",
    "for i in zip (*MatDagar):\n",
    "    print(*i)\n",
    "\n"
   ]
  },
  {
   "cell_type": "markdown",
   "metadata": {},
   "source": []
  }
 ],
 "metadata": {
  "kernelspec": {
   "display_name": "Python 3.9.13 64-bit",
   "language": "python",
   "name": "python3"
  },
  "language_info": {
   "codemirror_mode": {
    "name": "ipython",
    "version": 3
   },
   "file_extension": ".py",
   "mimetype": "text/x-python",
   "name": "python",
   "nbconvert_exporter": "python",
   "pygments_lexer": "ipython3",
   "version": "3.9.13"
  },
  "orig_nbformat": 4,
  "vscode": {
   "interpreter": {
    "hash": "421da3d2daef97118e416ac0679e46ab60f87b1c022c3327a94a4193c3fed2a9"
   }
  }
 },
 "nbformat": 4,
 "nbformat_minor": 2
}
