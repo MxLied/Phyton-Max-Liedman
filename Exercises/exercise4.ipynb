{
 "cells": [
  {
   "cell_type": "markdown",
   "metadata": {},
   "source": [
    "# List stamtent exercise"
   ]
  },
  {
   "cell_type": "markdown",
   "metadata": {},
   "source": [
    "## Dice rolls"
   ]
  },
  {
   "cell_type": "code",
   "execution_count": null,
   "metadata": {},
   "outputs": [],
   "source": [
    "#Simulate 10 dice rolls and append the rolls to a list or use list comprehension."
   ]
  },
  {
   "cell_type": "code",
   "execution_count": 25,
   "metadata": {},
   "outputs": [
    {
     "name": "stdout",
     "output_type": "stream",
     "text": [
      "[2, 4, 1, 3, 3, 4, 4, 5, 1, 6]\n"
     ]
    }
   ],
   "source": [
    "# 1A   sort the list in ascending order (*)\n",
    "import random \n",
    "\n",
    "\n",
    "dices = [] \n",
    "for _ in range (10):\n",
    "    dices.append(random.randint(1,6))\n",
    "print(dices)"
   ]
  },
  {
   "cell_type": "code",
   "execution_count": 5,
   "metadata": {},
   "outputs": [
    {
     "name": "stdout",
     "output_type": "stream",
     "text": [
      "[1, 1, 1, 2, 3, 3, 3, 3, 3, 4]\n"
     ]
    }
   ],
   "source": [
    "# 1B sort the list in descending order (*)\n",
    "import random \n",
    "\n",
    "\n",
    "dices = [] \n",
    "for _ in range (10):\n",
    "    dices.append(random.randint(1,6))\n",
    "    dices.sort()\n",
    "print(dices)"
   ]
  },
  {
   "cell_type": "code",
   "execution_count": 2,
   "metadata": {},
   "outputs": [
    {
     "name": "stdout",
     "output_type": "stream",
     "text": [
      "5\n"
     ]
    }
   ],
   "source": [
    "## 1C find the maximum and minimum value in the list (*)\n",
    "import random \n",
    "\n",
    "\n",
    "dices = [] \n",
    "for _ in range (10):\n",
    "    dices.append(random.randint(1,6))\n",
    "    dices.sort()\n",
    "print(max(dices))\n",
    "print(min(dices))"
   ]
  },
  {
   "cell_type": "markdown",
   "metadata": {},
   "source": [
    "## Food menu (*)"
   ]
  },
  {
   "cell_type": "code",
   "execution_count": null,
   "metadata": {},
   "outputs": [],
   "source": [
    "#A)list with the following elements: \"vegetarisk lasagne\", \"spaghetti\", \"fisk\", \"grönsakssoppa\", \"pannkakor\". (*)\n",
    "#B)list with the weekdays (*)\n",
    "#C) create a food menu with each day corresponding to each food item and print it out. (*)"
   ]
  },
  {
   "cell_type": "code",
   "execution_count": 17,
   "metadata": {},
   "outputs": [
    {
     "ename": "TypeError",
     "evalue": "unsupported operand type(s) for %: 'list' and 'int'",
     "output_type": "error",
     "traceback": [
      "\u001b[1;31m---------------------------------------------------------------------------\u001b[0m",
      "\u001b[1;31mTypeError\u001b[0m                                 Traceback (most recent call last)",
      "\u001b[1;32mc:\\Users\\maxim\\Documents\\GITHUB\\Phyton-Max-Liedman\\Exercises\\exercise4.ipynb Cell 8\u001b[0m in \u001b[0;36m<cell line: 8>\u001b[1;34m()\u001b[0m\n\u001b[0;32m      <a href='vscode-notebook-cell:/c%3A/Users/maxim/Documents/GITHUB/Phyton-Max-Liedman/Exercises/exercise4.ipynb#W6sZmlsZQ%3D%3D?line=5'>6</a>\u001b[0m Dagar \u001b[39m=\u001b[39m [\u001b[39m\"\u001b[39m\u001b[39mMåndag\u001b[39m\u001b[39m\"\u001b[39m,\u001b[39m\"\u001b[39m\u001b[39mTisdag\u001b[39m\u001b[39m\"\u001b[39m,\u001b[39m\"\u001b[39m\u001b[39mOnsdag\u001b[39m\u001b[39m\"\u001b[39m,\u001b[39m\"\u001b[39m\u001b[39mtorsdag\u001b[39m\u001b[39m\"\u001b[39m,\u001b[39m\"\u001b[39m\u001b[39mfredag\u001b[39m\u001b[39m\"\u001b[39m,\u001b[39m\"\u001b[39m\u001b[39mLördag\u001b[39m\u001b[39m\"\u001b[39m,\u001b[39m\"\u001b[39m\u001b[39mSöndag\u001b[39m\u001b[39m\"\u001b[39m]\n\u001b[0;32m      <a href='vscode-notebook-cell:/c%3A/Users/maxim/Documents/GITHUB/Phyton-Max-Liedman/Exercises/exercise4.ipynb#W6sZmlsZQ%3D%3D?line=6'>7</a>\u001b[0m MatDagar \u001b[39m=\u001b[39m Mat\u001b[39m+\u001b[39mDagar\n\u001b[1;32m----> <a href='vscode-notebook-cell:/c%3A/Users/maxim/Documents/GITHUB/Phyton-Max-Liedman/Exercises/exercise4.ipynb#W6sZmlsZQ%3D%3D?line=7'>8</a>\u001b[0m \u001b[39mif\u001b[39;00m MatDagar \u001b[39m%\u001b[39;49m \u001b[39m2\u001b[39;49m \u001b[39m==\u001b[39m \u001b[39m0\u001b[39m:\n\u001b[0;32m      <a href='vscode-notebook-cell:/c%3A/Users/maxim/Documents/GITHUB/Phyton-Max-Liedman/Exercises/exercise4.ipynb#W6sZmlsZQ%3D%3D?line=8'>9</a>\u001b[0m     \u001b[39mprint\u001b[39m(MatDagar)\n",
      "\u001b[1;31mTypeError\u001b[0m: unsupported operand type(s) for %: 'list' and 'int'"
     ]
    }
   ],
   "source": [
    "# A) mitt misslyckade kärleksprojekt\n",
    "\n",
    "Mat = [\"vegetarisk lasagne\", \"spaghetti\", \"fisk\", \"grönsakssoppa\", \"pannkakor\"]\n",
    "Dagar = [\"Måndag\",\"Tisdag\",\"Onsdag\",\"torsdag\",\"fredag\",\"Lördag\",\"Söndag\"]\n",
    "MatDagar = Mat+Dagar\n",
    "if MatDagar % 2 == 0:\n",
    "    print(MatDagar)\n",
    "\n"
   ]
  },
  {
   "cell_type": "code",
   "execution_count": 11,
   "metadata": {},
   "outputs": [
    {
     "name": "stdout",
     "output_type": "stream",
     "text": [
      "Måndag: Vegetarisk Lasagne\n",
      "Tisdag: Spaghetti\n",
      "Onsdag: Fisk\n",
      "Torsdag: Grönsakssoppa\n",
      "Fredag: Pannkakor\n"
     ]
    }
   ],
   "source": [
    "## Listan måste vara jämn för att slå ihop (1,2,3,4,5,6) (1,2,3,4,5,6) för att printas det kan inte vara (1,2,3,4,5) \n",
    "# (1,2,3,4,5,6) 6 kommer inte printas\n",
    "\n",
    "\n",
    "Mat = [\"Vegetarisk Lasagne\",\"Spaghetti\", \"Fisk\",\"Grönsakssoppa\",\"Pannkakor\",]\n",
    "Dagar = [\"Måndag:\",\"Tisdag:\",\"Onsdag:\",\"Torsdag:\",\"Fredag:\",\"Lördag\"]\n",
    "MatDagar = [Dagar,Mat]\n",
    "\n",
    "for i in zip (*MatDagar):\n",
    "    print(*i)\n",
    "\n"
   ]
  },
  {
   "cell_type": "markdown",
   "metadata": {},
   "source": [
    "## 3 Squares (*)"
   ]
  },
  {
   "cell_type": "code",
   "execution_count": null,
   "metadata": {},
   "outputs": [],
   "source": [
    "#   Use list comprehension to create a list of squares from -10 to 10 (*)\n",
    "#   Plot this list using matplotlib. (*)"
   ]
  },
  {
   "cell_type": "code",
   "execution_count": 9,
   "metadata": {},
   "outputs": [
    {
     "data": {
      "text/plain": [
       "[<matplotlib.lines.Line2D at 0x1ba3c7100a0>]"
      ]
     },
     "execution_count": 9,
     "metadata": {},
     "output_type": "execute_result"
    },
    {
     "data": {
      "image/png": "[encoded data removed]",
      "text/plain": [
       "<Figure size 640x480 with 1 Axes>"
      ]
     },
     "metadata": {},
     "output_type": "display_data"
    }
   ],
   "source": [
    "import matplotlib.pyplot as plt \n",
    "cubes = [i**2 for i in range(-10, 11)]\n",
    "cubes\n",
    "plt.title(\"-100 to 100\")\n",
    "plt.ylabel(\"Y\")\n",
    "plt.xlabel(\"X\")\n",
    "plt.plot(cubes)"
   ]
  },
  {
   "cell_type": "markdown",
   "metadata": {},
   "source": [
    "## Chessboard"
   ]
  }
 ],
 "metadata": {
  "kernelspec": {
   "display_name": "Python 3.9.13 ('Phyton-Max-Liedman-Dhn8FrUw')",
   "language": "python",
   "name": "python3"
  },
  "language_info": {
   "codemirror_mode": {
    "name": "ipython",
    "version": 3
   },
   "file_extension": ".py",
   "mimetype": "text/x-python",
   "name": "python",
   "nbconvert_exporter": "python",
   "pygments_lexer": "ipython3",
   "version": "3.9.13"
  },
  "orig_nbformat": 4,
  "vscode": {
   "interpreter": {
    "hash": "e6ae1db9ac282e66ec34367a04cdc80b6d45f487d98c91d3d2315d0145e802be"
   }
  }
 },
 "nbformat": 4,
 "nbformat_minor": 2
}
