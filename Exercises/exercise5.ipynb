{
 "cells": [
  {
   "cell_type": "markdown",
   "metadata": {},
   "source": [
    "##  Counting letters (*)\n",
    "Let the user input a word:\n",
    "\n",
    "  a)   print out the number of letters in the word. (*)\n",
    "\n",
    "  b)   print out the number of uppercase and lowercase letters of the word (*)"
   ]
  },
  {
   "cell_type": "code",
   "execution_count": 1,
   "metadata": {},
   "outputs": [
    {
     "name": "stdout",
     "output_type": "stream",
     "text": [
      "6\n"
     ]
    }
   ],
   "source": [
    "## A)\n",
    "import re\n",
    "ordcounter = input(\"skriv ett ord här\") \n",
    "print(len(ordcounter))"
   ]
  },
  {
   "cell_type": "code",
   "execution_count": 2,
   "metadata": {},
   "outputs": [
    {
     "name": "stdout",
     "output_type": "stream",
     "text": [
      "6\n",
      "0\n"
     ]
    }
   ],
   "source": [
    "## B)\n",
    "import re\n",
    "ordcounter = input(\"skriv ett ord här\") \n",
    "largeletters = re.findall(r\"[A-Z]\", ordcounter)\n",
    "lowletters = re.findall(r\"[a-z]\", ordcounter)\n",
    "print(len(lowletters,)) \n",
    "print(len(largeletters,))\n",
    "\n"
   ]
  },
  {
   "cell_type": "markdown",
   "metadata": {},
   "source": [
    "## 2. Counting words (*)\n",
    "\n",
    "Count the number of words in this sentence: \"A picture says more than a thousand words, a matematical formula says more than a thousand pictures.\" (*)"
   ]
  },
  {
   "cell_type": "code",
   "execution_count": 52,
   "metadata": {},
   "outputs": [
    {
     "name": "stdout",
     "output_type": "stream",
     "text": [
      "There are 17 words in that sentence\n"
     ]
    }
   ],
   "source": [
    "ordcounter = \"A picture says more than a thousand words,\\\n",
    "     a mathematical formula says more than a thousand pictures *** \"\n",
    "\n",
    "words = re.findall(r\"\\w{1,12}\", ordcounter)\n",
    "\n",
    "print(f\"There are {len(words)} words in that sentence\")"
   ]
  },
  {
   "cell_type": "code",
   "execution_count": 51,
   "metadata": {},
   "outputs": [
    {
     "name": "stdout",
     "output_type": "stream",
     "text": [
      "There are 20 words in that sentence\n"
     ]
    }
   ],
   "source": [
    "ordcounter = \"A picture says more than a thousand words,\\\n",
    " a mathematical formula says more than a thousand pictures ** ** **\"\n",
    "\n",
    "words = re.findall(r\"\\S{1,12}\", ordcounter)\n",
    "\n",
    "print(f\"There are {len(words)} words in that sentence\")"
   ]
  },
  {
   "cell_type": "code",
   "execution_count": 38,
   "metadata": {},
   "outputs": [
    {
     "name": "stdout",
     "output_type": "stream",
     "text": [
      "There are 16 words in that sentence\n"
     ]
    }
   ],
   "source": [
    "ordcounter = \"A picture says more than a thousand words,\\\n",
    "     a mathematical formula says more than a thousand pictures\"\n",
    "\n",
    "words = re.findall(r\"\\S{1,12}\", ordcounter)\n",
    "\n",
    "print(f\"There are {len(words)} words in that sentence\")"
   ]
  },
  {
   "cell_type": "code",
   "execution_count": 5,
   "metadata": {},
   "outputs": [
    {
     "name": "stdout",
     "output_type": "stream",
     "text": [
      "det är samma baklänges\n"
     ]
    }
   ],
   "source": [
    "\n",
    "Skrivare = input(\" Skriv ett ord och kolla om det är en palidrome?\")\n",
    "Skrivare=Skrivare.lower()\n",
    "Skrivare=Skrivare.replace(\"\",\" \")\n",
    "if Skrivare == Skrivare[::-1]: print(\"det är samma baklänges\")\n",
    "else: print(\"det är inte samma\")"
   ]
  },
  {
   "cell_type": "code",
   "execution_count": 53,
   "metadata": {},
   "outputs": [
    {
     "name": "stdout",
     "output_type": "stream",
     "text": [
      "22\n"
     ]
    }
   ],
   "source": [
    "import re\n",
    "poesi = \"Pure mathematics is, in its way, the poetry of logical ideas\"\n",
    "\n",
    "texxt = len(re.findall(r'[aAeEiIoOuUyY]', poesi))\n",
    "\n",
    "print (texxt)"
   ]
  },
  {
   "cell_type": "code",
   "execution_count": 61,
   "metadata": {},
   "outputs": [
    {
     "name": "stdout",
     "output_type": "stream",
     "text": [
      "gvdl zpuvbtpqleabtlmyåamwd\n"
     ]
    }
   ],
   "source": [
    "import string \n",
    "alfabetet = string.ascii_lowercase + \"åäö\"\n",
    "skrivenkryptor = input(\"skriv något här\")\n",
    "\n",
    "shift = 1\n",
    "shifted = alfabetet [shift:] + alfabetet[:shift]\n",
    "tale = str.maketrans(alfabetet, shifted)\n",
    "\n",
    "encrypted = skrivenkryptor.translate(tale)\n",
    "\n",
    "print (encrypted)\n"
   ]
  }
 ],
 "metadata": {
  "kernelspec": {
   "display_name": "Python 3.9.13 64-bit",
   "language": "python",
   "name": "python3"
  },
  "language_info": {
   "codemirror_mode": {
    "name": "ipython",
    "version": 3
   },
   "file_extension": ".py",
   "mimetype": "text/x-python",
   "name": "python",
   "nbconvert_exporter": "python",
   "pygments_lexer": "ipython3",
   "version": "3.9.13"
  },
  "orig_nbformat": 4,
  "vscode": {
   "interpreter": {
    "hash": "0dcd1d2511816899a74ba735f0586ad2a5252297c95097d38969d839b5b7443a"
   }
  }
 },
 "nbformat": 4,
 "nbformat_minor": 2
}
