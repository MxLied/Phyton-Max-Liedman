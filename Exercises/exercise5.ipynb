{
 "cells": [
  {
   "cell_type": "markdown",
   "metadata": {},
   "source": [
    "##  Counting letters (*)\n",
    "Let the user input a word:\n",
    "\n",
    "  a)   print out the number of letters in the word. (*)\n",
    "\n",
    "  b)   print out the number of uppercase and lowercase letters of the word (*)"
   ]
  },
  {
   "cell_type": "code",
   "execution_count": 3,
   "metadata": {},
   "outputs": [
    {
     "name": "stdout",
     "output_type": "stream",
     "text": [
      "6\n"
     ]
    }
   ],
   "source": [
    "## A)\n",
    "ordcounter = input(\"skriv ett ord här\") \n",
    "print(len(ordcounter))"
   ]
  },
  {
   "cell_type": "code",
   "execution_count": 11,
   "metadata": {},
   "outputs": [
    {
     "name": "stdout",
     "output_type": "stream",
     "text": [
      "3\n",
      "3\n"
     ]
    }
   ],
   "source": [
    "## B)\n",
    "import re\n",
    "ordcounter = input(\"skriv ett ord här\") \n",
    "largeletters = re.findall(r\"[A-Z]\", ordcounter)\n",
    "lowletters = re.findall(r\"[a-z]\", ordcounter)\n",
    "print(len(lowletters,)) \n",
    "print(len(largeletters,))\n",
    "\n"
   ]
  },
  {
   "cell_type": "markdown",
   "metadata": {},
   "source": [
    "2. Counting words (*)\n",
    "\n",
    "Count the number of words in this sentence: \"A picture says more than a thousand words, a matematical formula says more than a thousand pictures.\" (*)"
   ]
  },
  {
   "cell_type": "code",
   "execution_count": 24,
   "metadata": {},
   "outputs": [
    {
     "ename": "SyntaxError",
     "evalue": "invalid syntax (4134822842.py, line 5)",
     "output_type": "error",
     "traceback": [
      "\u001b[1;36m  Cell \u001b[1;32mIn [24], line 5\u001b[1;36m\u001b[0m\n\u001b[1;33m    print(re.findall(r\"\\S\"{1,12},ordcounterr))\u001b[0m\n\u001b[1;37m                          ^\u001b[0m\n\u001b[1;31mSyntaxError\u001b[0m\u001b[1;31m:\u001b[0m invalid syntax\n"
     ]
    }
   ],
   "source": [
    "import re\n",
    "\n",
    "\n",
    "ordcounterr = (\"count the number of words in this sentence:\"\"A picture says more than a thousand words, a matematical formula says more than a thousand pictures\") \n",
    "print(re.findall(r\"\\S\"{1,12},ordcounterr))\n",
    "\n"
   ]
  },
  {
   "cell_type": "code",
   "execution_count": 57,
   "metadata": {},
   "outputs": [
    {
     "name": "stdout",
     "output_type": "stream",
     "text": [
      "det är inte samma\n"
     ]
    }
   ],
   "source": [
    "import re\n",
    "\n",
    "Skrivare = input(\" Skriv ett ord och kolla om det är en palidrome?\")\n",
    "Skrivare=Skrivare.lower()\n",
    "Skrivare=Skrivare.replace(\"\",\" \")\n",
    "if Skrivare == Skrivare[::-1]: print(\"det är samma baklänges\")\n",
    "else: print(\"det är inte samma\")"
   ]
  },
  {
   "cell_type": "code",
   "execution_count": 80,
   "metadata": {},
   "outputs": [
    {
     "name": "stdout",
     "output_type": "stream",
     "text": [
      "10\n"
     ]
    }
   ],
   "source": [
    "vowels = [\"a\", \"e\", \"i\", \"o\", \"u\"]\n",
    "poesi = \"Pure mathematics is, in its way, the poetry of logical ideas\"\n",
    "\n",
    "text = len(re.findall(r'\\w+', poesi))\n",
    "\n",
    "print (text)"
   ]
  }
 ],
 "metadata": {
  "kernelspec": {
   "display_name": "Python 3.9.13 64-bit",
   "language": "python",
   "name": "python3"
  },
  "language_info": {
   "codemirror_mode": {
    "name": "ipython",
    "version": 3
   },
   "file_extension": ".py",
   "mimetype": "text/x-python",
   "name": "python",
   "nbconvert_exporter": "python",
   "pygments_lexer": "ipython3",
   "version": "3.9.13"
  },
  "orig_nbformat": 4,
  "vscode": {
   "interpreter": {
    "hash": "421da3d2daef97118e416ac0679e46ab60f87b1c022c3327a94a4193c3fed2a9"
   }
  }
 },
 "nbformat": 4,
 "nbformat_minor": 2
}
