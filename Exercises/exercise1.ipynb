{
 "cells": [
  {
   "cell_type": "markdown",
   "metadata": {},
   "source": [
    "# IF statement exercises "
   ]
  },
  {
   "cell_type": "markdown",
   "metadata": {},
   "source": [
    "## Check sign"
   ]
  },
  {
   "cell_type": "code",
   "execution_count": 49,
   "metadata": {},
   "outputs": [
    {
     "name": "stdout",
     "output_type": "stream",
     "text": [
      "nummer är positivt\n"
     ]
    }
   ],
   "source": [
    "## Ask the user to input a number and check if this number is positive, negative or zero and print it out.\n",
    "\n",
    "Numberr = float(input(\"ditt nummer:\"))\n",
    "\n",
    "if Numberr < 0:\n",
    "    print(\"nummer är negativt\")\n",
    "elif Numberr == 0:\n",
    "    print(\"Nummer är 0\")\n",
    "else: \n",
    "    print(\"nummer är positivt\")\n"
   ]
  },
  {
   "cell_type": "markdown",
   "metadata": {},
   "source": [
    "## Smallest "
   ]
  },
  {
   "cell_type": "code",
   "execution_count": 50,
   "metadata": {},
   "outputs": [
    {
     "name": "stdout",
     "output_type": "stream",
     "text": [
      "nummer är samma\n"
     ]
    }
   ],
   "source": [
    "## Ask the user to input two numbers and check which one is the smallest and print it out.   \n",
    "\n",
    "Numberas1 = float(input(\"skriv en siffra\"))\n",
    "Numberas2 = float(input(\"skriv en siffra till\"))\n",
    "\n",
    "if Numberas1 < Numberas2:\n",
    "    print (f\"{Numberas1} är mindre\")\n",
    "elif Numberas2 < Numberas1:\n",
    "    print (f\"{Numberas2} är mindre\")\n",
    "else:\n",
    "    print (\"nummer är samma\")\n"
   ]
  },
  {
   "cell_type": "markdown",
   "metadata": {},
   "source": [
    "## Right Angle"
   ]
  },
  {
   "cell_type": "code",
   "execution_count": 70,
   "metadata": {},
   "outputs": [
    {
     "name": "stdout",
     "output_type": "stream",
     "text": [
      "Det är en triangel.\n"
     ]
    }
   ],
   "source": [
    "## Ask the user to input three angles and check if the triangle has a right angle. Your code should make sure that all three angles are valid and make up a triangle.\n",
    "\n",
    "Triangle1 = float(input(\"skriv grader \"))\n",
    "Triangle2 = float(input(\"skriv grader \"))\n",
    "Triangle3 = float(input(\"skriv grader \"))\n",
    "\n",
    "if Triangle1 + Triangle2 + Triangle3 == 180:\n",
    "    print(\"Det är en triangel.\")\n",
    "elif Triangle1 or Triangle2 or Triangle3 <= 90:\n",
    "        print(\"Det är en triangel och den har en rak linje\")\n",
    "else: \n",
    "    print(\"det är ingen triangel\")"
   ]
  },
  {
   "cell_type": "markdown",
   "metadata": {},
   "source": [
    "## Medcine"
   ]
  },
  {
   "cell_type": "code",
   "execution_count": 119,
   "metadata": {},
   "outputs": [
    {
     "name": "stdout",
     "output_type": "stream",
     "text": [
      "du ska ha 1/2-1\n"
     ]
    }
   ],
   "source": [
    "## The information in the following table is stated in a medicine package. Also it is stated that for children weight is more important than age.\n",
    "\n",
    "\n",
    "# weight is a string here\n",
    "\n",
    "weight = float(input(\"enter patients weight (kg):\"))\n",
    "age = float(input(\"enter your (age):\"))\n",
    "\n",
    "# now we convert it to a float\n",
    "\n",
    "if weight > 40 and age >= 12:\n",
    "    print(\"Du får 1-2 tableter\")\n",
    "elif weight <= 40 and age >= 7:\n",
    "    print(\"du ska ha 1/2-1\")\n",
    "else: \n",
    "    print(\"du ska ha 1/2\")"
   ]
  },
  {
   "cell_type": "markdown",
   "metadata": {},
   "source": [
    "## Divisble"
   ]
  },
  {
   "cell_type": "code",
   "execution_count": 145,
   "metadata": {},
   "outputs": [
    {
     "name": "stdout",
     "output_type": "stream",
     "text": [
      "talet är jämnt och går att dela på 5\n"
     ]
    }
   ],
   "source": [
    "##Let the user input a number. Check if the number is \n",
    "#even or odd\n",
    "#is divisible by 5\n",
    "#is divisble by 5 and odd\n",
    "\n",
    "Siffra =float(input(\"skriv en siffra\"))\n",
    "\n",
    "\n",
    "if Siffra % 5 == 0 and Siffra % 2 == 0:\n",
    "    print(\"talet är jämnt och går att dela på 5\")\n",
    "elif Siffra % 2 == 0:\n",
    "    print(\"du har ett jämnt tal\")\n",
    "elif Siffra % 5 == 0:\n",
    "        print(f\"{Siffra}  (\"\"är delbart med 5.\")       \n",
    "else:\n",
    "    print(\"talet är ojämnt\") \n",
    "\n",
    "\n"
   ]
  },
  {
   "cell_type": "code",
   "execution_count": 156,
   "metadata": {},
   "outputs": [
    {
     "name": "stdout",
     "output_type": "stream",
     "text": [
      "vikten är för tung\n"
     ]
    }
   ],
   "source": [
    "## The maximum allowed luggage size for boarding an airplane is:\n",
    "\n",
    "Weight = float(input(\"skriv vikten\"))\n",
    "Length = float(input(\"skriv lägnden\"))\n",
    "Width = float(input(\"skriv bredden\"))\n",
    "Height = float(input(\"skriv höjden\"))\n",
    "\n",
    "if weight > 8:\n",
    "    print(\"vikten är för tung\")\n",
    "elif Length > 55 or Width > 40 or Height >23:\n",
    "    print(\"din väska är för stor\")\n",
    "else: \n",
    "    print (\"välkomen ombord\")\n"
   ]
  }
 ],
 "metadata": {
  "kernelspec": {
   "display_name": "Python 3.9.13 ('Phyton-Max-Liedman-Dhn8FrUw')",
   "language": "python",
   "name": "python3"
  },
  "language_info": {
   "codemirror_mode": {
    "name": "ipython",
    "version": 3
   },
   "file_extension": ".py",
   "mimetype": "text/x-python",
   "name": "python",
   "nbconvert_exporter": "python",
   "pygments_lexer": "ipython3",
   "version": "3.9.13"
  },
  "orig_nbformat": 4,
  "vscode": {
   "interpreter": {
    "hash": "e6ae1db9ac282e66ec34367a04cdc80b6d45f487d98c91d3d2315d0145e802be"
   }
  }
 },
 "nbformat": 4,
 "nbformat_minor": 2
}
