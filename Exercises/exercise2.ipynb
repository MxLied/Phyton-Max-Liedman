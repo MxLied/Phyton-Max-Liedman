{
 "cells": [
  {
   "cell_type": "markdown",
   "metadata": {},
   "source": [
    "# while statement exercises"
   ]
  },
  {
   "cell_type": "markdown",
   "metadata": {},
   "source": [
    "## count numbers"
   ]
  },
  {
   "cell_type": "code",
   "execution_count": 11,
   "metadata": {},
   "outputs": [
    {
     "name": "stdout",
     "output_type": "stream",
     "text": [
      "startcount=-10\n",
      "startcount=-9\n",
      "startcount=-8\n",
      "startcount=-7\n",
      "startcount=-6\n",
      "startcount=-5\n",
      "startcount=-4\n",
      "startcount=-3\n",
      "startcount=-2\n",
      "startcount=-1\n",
      "startcount=0\n",
      "startcount=1\n",
      "startcount=2\n",
      "startcount=3\n",
      "startcount=4\n",
      "startcount=5\n",
      "startcount=6\n",
      "startcount=7\n",
      "startcount=8\n",
      "startcount=9\n",
      "startcount=10\n"
     ]
    }
   ],
   "source": [
    "## Use a while statement to count from -10 to 10 with one increment\n",
    "startcount = -10\n",
    "\n",
    "while startcount < 11:\n",
    "     print(f\"{startcount=}\")\n",
    "     startcount+=1"
   ]
  },
  {
   "cell_type": "markdown",
   "metadata": {},
   "source": [
    "## Arithmetic sum"
   ]
  },
  {
   "cell_type": "code",
   "execution_count": 18,
   "metadata": {},
   "outputs": [
    {
     "name": "stdout",
     "output_type": "stream",
     "text": [
      "5050\n"
     ]
    }
   ],
   "source": [
    "## Use a while statement to compute the following sums: a)  sum=1+2+…+99+100 b)  sum=1+3+5+…+97+99\n",
    "# A)\n",
    "# sum = 0\n",
    "# i = 1\n",
    "# n = 100\n",
    "\n",
    "# while i <= n:\n",
    "#     sum = sum + i\n",
    "#     i = i+1\n",
    "# print(f\"{sum}\")\n",
    "\n",
    "sum = 0\n",
    "i = 2\n",
    "n = 100\n",
    "\n",
    "while i <= n:\n",
    "    sum = sum + i\n",
    "    i = i+1\n",
    "print(f\"{sum}\")\n",
    "\n"
   ]
  },
  {
   "cell_type": "markdown",
   "metadata": {},
   "source": [
    "Guess a number game A)"
   ]
  },
  {
   "cell_type": "code",
   "execution_count": 2,
   "metadata": {},
   "outputs": [
    {
     "name": "stdout",
     "output_type": "stream",
     "text": [
      "nummer är felaktig\n",
      "Your guess is too high\n",
      "nummer är felaktig\n",
      "Your guess is too high\n",
      "du har gissat rätt\n"
     ]
    }
   ],
   "source": [
    "import random\n",
    "number = random.randint(1,5)\n",
    "\n",
    "guess = float(input(\"guess a number between 1 and 2\"))\n",
    "\n",
    "\n",
    "while guess !=number:\n",
    "    print(\"nummer är felaktig\")\n",
    "    \n",
    "    if guess < number:\n",
    "        print(\"Your guess is too low\")\n",
    "        guess = float(input(\"guess a number\"))\n",
    "    elif guess > number:\n",
    "       print(\"Your guess is too high\")\n",
    "       guess = float(input(\"guess a number\"))\n",
    "    else:\n",
    "        break\n",
    "    \n",
    "print(\"du har gissat rätt\")"
   ]
  },
  {
   "cell_type": "markdown",
   "metadata": {},
   "source": [
    "## B)"
   ]
  },
  {
   "cell_type": "code",
   "execution_count": 87,
   "metadata": {},
   "outputs": [
    {
     "name": "stdout",
     "output_type": "stream",
     "text": [
      "det stämmer\n",
      " ditt poäng är 1\n",
      "det stämmer\n",
      " ditt poäng är 2\n",
      "det var inte rätt resultat reslutatet är 35\n"
     ]
    }
   ],
   "source": [
    "import random\n",
    "\n",
    "score = 0\n",
    "\n",
    "while True: \n",
    "    x = random.randint(1,10)\n",
    "    y = random.randint(1,10)\n",
    "    resultt = x*y\n",
    "    answer = int(input(f\"what is {x} * {y}?\"))\n",
    "    if answer == resultt:\n",
    "        score = score+1\n",
    "        print(\"det stämmer\")\n",
    "        print(f\" ditt poäng är {score}\")\n",
    "    else: answer != resultt:\n",
    "         print(f\"det var inte rätt resultat reslutatet är {resultt}\")\n",
    "         "
   ]
  },
  {
   "cell_type": "code",
   "execution_count": 99,
   "metadata": {},
   "outputs": [
    {
     "name": "stdout",
     "output_type": "stream",
     "text": [
      "det var inte rätt resultat reslutatet är 56\n",
      "vill du forsätta? skriv 1 för ja och 0 för\n",
      "det stämmer\n",
      " ditt poäng är 1\n"
     ]
    }
   ],
   "source": [
    "import random\n",
    "\n",
    "score = 0\n",
    "keep_playing = True\n",
    "\n",
    "while keep_playing: \n",
    "    x = random.randint(1,10)\n",
    "    y = random.randint(1,10)\n",
    "    resultt = x*y\n",
    "    answer = int(input(f\"what is {x} * {y}?\"))\n",
    "    if answer == resultt:\n",
    "        score = score+1\n",
    "        print(\"det stämmer\")\n",
    "        print(f\" ditt poäng är {score}\")\n",
    "    else:\n",
    "         print(f\"det var inte rätt resultat reslutatet är {resultt}\")\n",
    "         print(\"vill du forsätta? skriv 1 för ja och 0 för\")\n",
    "    keep_playing = int(input((\"vill du forsätta? skriv 1 för ja och 0 för\")))>0     "
   ]
  }
 ],
 "metadata": {
  "kernelspec": {
   "display_name": "Python 3.9.13 ('Phyton-Max-Liedman-Dhn8FrUw')",
   "language": "python",
   "name": "python3"
  },
  "language_info": {
   "codemirror_mode": {
    "name": "ipython",
    "version": 3
   },
   "file_extension": ".py",
   "mimetype": "text/x-python",
   "name": "python",
   "nbconvert_exporter": "python",
   "pygments_lexer": "ipython3",
   "version": "3.9.13"
  },
  "orig_nbformat": 4,
  "vscode": {
   "interpreter": {
    "hash": "e6ae1db9ac282e66ec34367a04cdc80b6d45f487d98c91d3d2315d0145e802be"
   }
  }
 },
 "nbformat": 4,
 "nbformat_minor": 2
}
