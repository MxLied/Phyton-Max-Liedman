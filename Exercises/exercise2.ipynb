{
 "cells": [
  {
   "cell_type": "markdown",
   "metadata": {},
   "source": [
    "# while statement exercises"
   ]
  },
  {
   "cell_type": "markdown",
   "metadata": {},
   "source": [
    "## count numbers"
   ]
  },
  {
   "cell_type": "code",
   "execution_count": 11,
   "metadata": {},
   "outputs": [
    {
     "name": "stdout",
     "output_type": "stream",
     "text": [
      "startcount=-10\n",
      "startcount=-9\n",
      "startcount=-8\n",
      "startcount=-7\n",
      "startcount=-6\n",
      "startcount=-5\n",
      "startcount=-4\n",
      "startcount=-3\n",
      "startcount=-2\n",
      "startcount=-1\n",
      "startcount=0\n",
      "startcount=1\n",
      "startcount=2\n",
      "startcount=3\n",
      "startcount=4\n",
      "startcount=5\n",
      "startcount=6\n",
      "startcount=7\n",
      "startcount=8\n",
      "startcount=9\n",
      "startcount=10\n"
     ]
    }
   ],
   "source": [
    "## Use a while statement to count from -10 to 10 with one increment\n",
    "startcount = -10\n",
    "\n",
    "while startcount < 11:\n",
    "     print(f\"{startcount=}\")\n",
    "     startcount+=1"
   ]
  },
  {
   "cell_type": "markdown",
   "metadata": {},
   "source": [
    "## Arithmetic sum"
   ]
  },
  {
   "cell_type": "code",
   "execution_count": 104,
   "metadata": {},
   "outputs": [
    {
     "name": "stdout",
     "output_type": "stream",
     "text": [
      "5050\n"
     ]
    }
   ],
   "source": [
    "## Use a while statement to compute the following sums: a)  sum=1+2+…+99+100 b)  sum=1+3+5+…+97+99\n",
    "# A)\n",
    "# sum = 0\n",
    "# i = 1\n",
    "# n = 100\n",
    "\n",
    "# while i <= n:\n",
    "#     sum = sum + i\n",
    "#     i = i+1\n",
    "# print(f\"{sum}\")\n",
    "\n",
    "sum = 0\n",
    "i = 1\n",
    "n = 100\n",
    "\n",
    "while i <= n:\n",
    "    sum = sum + i\n",
    "    i = i+1\n",
    "print(f\"{sum}\")\n",
    "\n"
   ]
  },
  {
   "cell_type": "markdown",
   "metadata": {},
   "source": [
    "Guess a number game A)"
   ]
  },
  {
   "cell_type": "code",
   "execution_count": 105,
   "metadata": {},
   "outputs": [
    {
     "name": "stdout",
     "output_type": "stream",
     "text": [
      "nummer är felaktig\n",
      "Your guess is too low\n",
      "nummer är felaktig\n",
      "Your guess is too high\n",
      "nummer är felaktig\n",
      "Your guess is too high\n",
      "nummer är felaktig\n",
      "Your guess is too low\n",
      "nummer är felaktig\n",
      "Your guess is too low\n",
      "du har gissat rätt\n"
     ]
    }
   ],
   "source": [
    "import random\n",
    "number = random.randint(1,5)\n",
    "\n",
    "guess = float(input(\"guess a number between 1 and 2\"))\n",
    "\n",
    "\n",
    "while guess !=number:\n",
    "    print(\"nummer är felaktig\")\n",
    "    \n",
    "    if guess < number:\n",
    "        print(\"Your guess is too low\")\n",
    "        guess = float(input(\"guess a number\"))\n",
    "    elif guess > number:\n",
    "       print(\"Your guess is too high\")\n",
    "       guess = float(input(\"guess a number\"))\n",
    "    else:\n",
    "        break\n",
    "    \n",
    "print(\"du har gissat rätt\")"
   ]
  },
  {
   "cell_type": "markdown",
   "metadata": {},
   "source": [
    "## B)"
   ]
  },
  {
   "cell_type": "code",
   "execution_count": 107,
   "metadata": {},
   "outputs": [
    {
     "name": "stdout",
     "output_type": "stream",
     "text": [
      "det var inte rätt resultat reslutatet är 45\n",
      "det var inte rätt resultat reslutatet är 45\n",
      "det var inte rätt resultat reslutatet är 20\n"
     ]
    },
    {
     "ename": "ValueError",
     "evalue": "invalid literal for int() with base 10: ''",
     "output_type": "error",
     "traceback": [
      "\u001b[1;31m---------------------------------------------------------------------------\u001b[0m",
      "\u001b[1;31mValueError\u001b[0m                                Traceback (most recent call last)",
      "\u001b[1;32mc:\\Users\\maxim\\Documents\\GITHUB\\Phyton-Max-Liedman\\Exercises\\exercise2.ipynb Cell 9\u001b[0m in \u001b[0;36m<cell line: 6>\u001b[1;34m()\u001b[0m\n\u001b[0;32m      <a href='vscode-notebook-cell:/c%3A/Users/maxim/Documents/GITHUB/Phyton-Max-Liedman/Exercises/exercise2.ipynb#X13sZmlsZQ%3D%3D?line=6'>7</a>\u001b[0m y \u001b[39m=\u001b[39m random\u001b[39m.\u001b[39mrandint(\u001b[39m1\u001b[39m,\u001b[39m10\u001b[39m)\n\u001b[0;32m      <a href='vscode-notebook-cell:/c%3A/Users/maxim/Documents/GITHUB/Phyton-Max-Liedman/Exercises/exercise2.ipynb#X13sZmlsZQ%3D%3D?line=7'>8</a>\u001b[0m resultt \u001b[39m=\u001b[39m x\u001b[39m*\u001b[39my\n\u001b[1;32m----> <a href='vscode-notebook-cell:/c%3A/Users/maxim/Documents/GITHUB/Phyton-Max-Liedman/Exercises/exercise2.ipynb#X13sZmlsZQ%3D%3D?line=8'>9</a>\u001b[0m answer \u001b[39m=\u001b[39m \u001b[39mint\u001b[39;49m(\u001b[39minput\u001b[39;49m(\u001b[39mf\u001b[39;49m\u001b[39m\"\u001b[39;49m\u001b[39mwhat is \u001b[39;49m\u001b[39m{\u001b[39;49;00mx\u001b[39m}\u001b[39;49;00m\u001b[39m * \u001b[39;49m\u001b[39m{\u001b[39;49;00my\u001b[39m}\u001b[39;49;00m\u001b[39m?\u001b[39;49m\u001b[39m\"\u001b[39;49m))\n\u001b[0;32m     <a href='vscode-notebook-cell:/c%3A/Users/maxim/Documents/GITHUB/Phyton-Max-Liedman/Exercises/exercise2.ipynb#X13sZmlsZQ%3D%3D?line=9'>10</a>\u001b[0m \u001b[39mif\u001b[39;00m answer \u001b[39m==\u001b[39m resultt:\n\u001b[0;32m     <a href='vscode-notebook-cell:/c%3A/Users/maxim/Documents/GITHUB/Phyton-Max-Liedman/Exercises/exercise2.ipynb#X13sZmlsZQ%3D%3D?line=10'>11</a>\u001b[0m     score \u001b[39m=\u001b[39m score\u001b[39m+\u001b[39m\u001b[39m1\u001b[39m\n",
      "\u001b[1;31mValueError\u001b[0m: invalid literal for int() with base 10: ''"
     ]
    }
   ],
   "source": [
    "import random\n",
    "\n",
    "score = 0\n",
    "\n",
    "while True: \n",
    "    x = random.randint(1,10)\n",
    "    y = random.randint(1,10)\n",
    "    resultt = x*y\n",
    "    answer = int(input(f\"what is {x} * {y}?\"))\n",
    "    if answer == resultt:\n",
    "        score = score+1\n",
    "        print(\"det stämmer\")\n",
    "        print(f\" ditt poäng är {score}\")\n",
    "    elif answer != resultt:\n",
    "         print(f\"det var inte rätt resultat reslutatet är {resultt}\")"
   ]
  },
  {
   "cell_type": "code",
   "execution_count": 101,
   "metadata": {},
   "outputs": [
    {
     "name": "stdout",
     "output_type": "stream",
     "text": [
      "det var inte rätt resultat reslutatet är 25\n",
      "det stämmer\n",
      " ditt poäng är 1\n",
      "det stämmer\n",
      " ditt poäng är 2\n",
      "det stämmer\n",
      " ditt poäng är 3\n",
      "det stämmer\n",
      " ditt poäng är 4\n",
      "det var inte rätt resultat reslutatet är 48\n",
      "det stämmer\n",
      " ditt poäng är 5\n"
     ]
    }
   ],
   "source": [
    "import random\n",
    "\n",
    "score = 0\n",
    "keep_playing = True\n",
    "\n",
    "while keep_playing: \n",
    "    x = random.randint(1,10)\n",
    "    y = random.randint(1,10)\n",
    "    resultt = x*y\n",
    "    answer = int(input(f\"what is {x} * {y}?\"))\n",
    "    if answer == resultt:\n",
    "        score = score+1\n",
    "        print(\"det stämmer\")\n",
    "        print(f\" ditt poäng är {score}\")\n",
    "    else:\n",
    "         print(f\"det var inte rätt resultat reslutatet är {resultt}\")\n",
    "    keep_playing = int(input((\"vill du forsätta? skriv 1 för ja och 0 för\")))>0     "
   ]
  }
 ],
 "metadata": {
  "kernelspec": {
   "display_name": "Python 3.9.13 ('Phyton-Max-Liedman-Dhn8FrUw')",
   "language": "python",
   "name": "python3"
  },
  "language_info": {
   "codemirror_mode": {
    "name": "ipython",
    "version": 3
   },
   "file_extension": ".py",
   "mimetype": "text/x-python",
   "name": "python",
   "nbconvert_exporter": "python",
   "pygments_lexer": "ipython3",
   "version": "3.9.13"
  },
  "orig_nbformat": 4,
  "vscode": {
   "interpreter": {
    "hash": "e6ae1db9ac282e66ec34367a04cdc80b6d45f487d98c91d3d2315d0145e802be"
   }
  }
 },
 "nbformat": 4,
 "nbformat_minor": 2
}
