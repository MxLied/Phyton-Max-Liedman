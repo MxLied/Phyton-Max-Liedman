{
 "cells": [
  {
   "cell_type": "markdown",
   "metadata": {},
   "source": [
    "# File handling exercises "
   ]
  },
  {
   "cell_type": "markdown",
   "metadata": {},
   "source": [
    "## 1.Dice rolls "
   ]
  },
  {
   "cell_type": "code",
   "execution_count": 63,
   "metadata": {},
   "outputs": [],
   "source": [
    "#Create a textfile called dice_rolls.txt using Python. Also for each subtask, write adequate headers.\n",
    "\n",
    "# A)  Simulate 20 dice rolls and write them to your textfile. (*)\n",
    "import random as rnd\n",
    "with open (\"../Data/dice_rolls.txt\", \"w\") as f:\n",
    "\n",
    "    for i in range (21):\n",
    "        diceroll1 = rnd.randint(1,6)\n",
    "        f.write(f\"{diceroll1}\" \" \")    \n",
    "\n",
    "\n"
   ]
  },
  {
   "cell_type": "code",
   "execution_count": 228,
   "metadata": {},
   "outputs": [],
   "source": [
    "# B)   Sort the dice rolls from a) and write them to a separate row in the same textfile. (*)\n",
    "with open(\"../Data/dice_rolls.txt\", \"w\") as f: \n",
    "    diceroll = [rnd.randint(1,6) for i in range(21)]\n",
    "    diceroll.sort()  \n",
    "    f.write(f\"{diceroll}\\n\")\n",
    "\n",
    "    for i in range (21):\n",
    "        diceroll1 = rnd.randint(1,6)\n",
    "        f.write(f\"{diceroll1}\" \" \" )    \n",
    "        \n"
   ]
  },
  {
   "cell_type": "code",
   "execution_count": 243,
   "metadata": {},
   "outputs": [],
   "source": [
    "# C) Count the number of fours in the dice rolls and write them to a separate row in the same textfile. (*)\n",
    "import re\n",
    "\n",
    "with open(\"../Data/dice_rolls.txt\", \"w\") as f: \n",
    "    diceroll1 = [rnd.randint(1,6) for i in range(21)]  \n",
    "    f.write(f\"{diceroll1}\\n\")\n",
    "    \n",
    "\n",
    "    diceroll = [rnd.randint(1,6) for i in range(21)]\n",
    "    diceroll.sort()  \n",
    "    f.write(f\"{diceroll}\\n\")\n",
    "    \n",
    "    dicecounter1 = diceroll1.count(4)\n",
    "    dicecounter = diceroll.count(4)\n",
    "    f.write(f\"fyror {dicecounter + dicecounter1}\\n\")\n",
    "\n",
    "        \n"
   ]
  },
  {
   "cell_type": "markdown",
   "metadata": {},
   "source": [
    "##  Test results (*)"
   ]
  },
  {
   "cell_type": "code",
   "execution_count": 1,
   "metadata": {},
   "outputs": [
    {
     "name": "stdout",
     "output_type": "stream",
     "text": [
      "Adam Gustafsson 25 \n",
      "BjÃ¶rn BjÃ¶rnsson 39\n",
      "Bose Bosseson 32\n",
      "Ella Ester 41\n",
      "Emil Johansson 23\n",
      "Emma Boden 32\n",
      "Erik Eriksson 31\n",
      "Fredrika Ulven 10\n",
      "Gore Bord 55\n",
      "Hanna Karlsson 23 \n",
      "HÃ¥kan HÃ¥kanson 24\n",
      "Ida HÃ¥kansson 23\n",
      "Jakob Kallander 65\n",
      "Johan Johansson 42\n",
      "Jonas Jonasson 31\n",
      "Karl Karlsson 32\n",
      "Ove Karlsten 41\n",
      "Sven Erik Karlsson 13\n",
      "Sven Erik Lundin 39\n",
      "\n",
      "Adam Gustafsson 25\n",
      "BjÃ¶rn BjÃ¶rnsson 39\n",
      "Bose Bosseson 32\n",
      "Ella Ester 41\n",
      "Emil Johansson 23\n",
      "Emma Boden 32\n",
      "Erik Eriksson 31\n",
      "Fredrika Ulven 10\n",
      "Gore Bord 55\n",
      "Hanna Karlsson 23 \n",
      "HÃ¥kan HÃ¥kanson 24\n",
      "Ida HÃ¥kansson 23\n",
      "Jakob Kallander 65\n",
      "Johan Johansson 42\n",
      "Jonas Jonasson 31\n",
      "Karl Karlsson 32\n",
      "Ove Karlsten 41\n",
      "Sven Erik Karlsson 13\n",
      "Sven Erik Lundin 39\n"
     ]
    }
   ],
   "source": [
    "# A) Print out the text in the terminal (*) \n",
    "\n",
    "\n",
    "\n",
    "with open(\"../Data/provresultatt.txt\", \"r\") as elev:\n",
    "    elev = elev.read()\n",
    "\n",
    "print(elev)"
   ]
  },
  {
   "cell_type": "code",
   "execution_count": 2,
   "metadata": {},
   "outputs": [
    {
     "name": "stdout",
     "output_type": "stream",
     "text": [
      "Adam Gustafsson 25 \n",
      "BjÃ¶rn BjÃ¶rnsson 39\n",
      "Bose Bosseson 32\n",
      "Ella Ester 41\n",
      "Emil Johansson 23\n",
      "Emma Boden 32\n",
      "Erik Eriksson 31\n",
      "Fredrika Ulven 10\n",
      "Gore Bord 55\n",
      "Hanna Karlsson 23 \n",
      "HÃ¥kan HÃ¥kanson 24\n",
      "Ida HÃ¥kansson 23\n",
      "Jakob Kallander 65\n",
      "Johan Johansson 42\n",
      "Jonas Jonasson 31\n",
      "Karl Karlsson 32\n",
      "Ove Karlsten 41\n",
      "Sven Erik Karlsson 13\n",
      "Sven Erik Lundin 39\n",
      "\n",
      "Adam Gustafsson 25\n",
      "BjÃ¶rn BjÃ¶rnsson 39\n",
      "Bose Bosseson 32\n",
      "Ella Ester 41\n",
      "Emil Johansson 23\n",
      "Emma Boden 32\n",
      "Erik Eriksson 31\n",
      "Fredrika Ulven 10\n",
      "Gore Bord 55\n",
      "Hanna Karlsson 23 \n",
      "HÃ¥kan HÃ¥kanson 24\n",
      "Ida HÃ¥kansson 23\n",
      "Jakob Kallander 65\n",
      "Johan Johansson 42\n",
      "Jonas Jonasson 31\n",
      "Karl Karlsson 32\n",
      "Ove Karlsten 41\n",
      "Sven Erik Karlsson 13\n",
      "Sven Erik Lundin 39\n"
     ]
    }
   ],
   "source": [
    "temp_string = \"\"\n",
    "\n",
    "with open(\"../Data/provresultatt.txt\", \"r\") as elev:\n",
    "    temp_string = elev.read()\n",
    "\n",
    "print(temp_string)\n",
    "\n",
    "\n",
    "\n",
    "with open(\"../Data/provresultatt.txt\", \"a\") as elev:\n",
    "    elev.write(\"\\n\\n\")\n",
    "    elev.write(temp_string)\n",
    "\n",
    "    \n"
   ]
  }
 ],
 "metadata": {
  "kernelspec": {
   "display_name": "Python 3.9.13 ('Phyton-Max-Liedman-Dhn8FrUw')",
   "language": "python",
   "name": "python3"
  },
  "language_info": {
   "codemirror_mode": {
    "name": "ipython",
    "version": 3
   },
   "file_extension": ".py",
   "mimetype": "text/x-python",
   "name": "python",
   "nbconvert_exporter": "python",
   "pygments_lexer": "ipython3",
   "version": "3.9.13"
  },
  "orig_nbformat": 4,
  "vscode": {
   "interpreter": {
    "hash": "e6ae1db9ac282e66ec34367a04cdc80b6d45f487d98c91d3d2315d0145e802be"
   }
  }
 },
 "nbformat": 4,
 "nbformat_minor": 2
}
