{
 "cells": [
  {
   "cell_type": "markdown",
   "metadata": {},
   "source": [
    "# File handling exercises "
   ]
  },
  {
   "cell_type": "markdown",
   "metadata": {},
   "source": [
    "## 1.Dice rolls "
   ]
  },
  {
   "cell_type": "code",
   "execution_count": 149,
   "metadata": {},
   "outputs": [],
   "source": [
    "#Create a textfile called dice_rolls.txt using Python. Also for each subtask, write adequate headers.\n",
    "\n",
    "# A)  Simulate 20 dice rolls and write them to your textfile. (*)\n",
    "import random as rnd\n",
    "with open (\"../Data/dice_rolls.txt\", \"w\") as f:\n",
    "\n",
    "    for i in range (21):\n",
    "        diceroll1 = rnd.randint(1,6)\n",
    "        f.write(f\"{diceroll1}\" \" \")    \n",
    "\n",
    "\n"
   ]
  },
  {
   "cell_type": "code",
   "execution_count": 228,
   "metadata": {},
   "outputs": [],
   "source": [
    "# B)   Sort the dice rolls from a) and write them to a separate row in the same textfile. (*)\n",
    "with open(\"../Data/dice_rolls.txt\", \"w\") as f: \n",
    "    diceroll = [rnd.randint(1,6) for i in range(21)]\n",
    "    diceroll.sort()  \n",
    "    f.write(f\"{diceroll}\\n\")\n",
    "\n",
    "    for i in range (21):\n",
    "        diceroll1 = rnd.randint(1,6)\n",
    "        f.write(f\"{diceroll1}\" \" \" )    \n",
    "        \n"
   ]
  },
  {
   "cell_type": "code",
   "execution_count": 243,
   "metadata": {},
   "outputs": [],
   "source": [
    "# C) Count the number of fours in the dice rolls and write them to a separate row in the same textfile. (*)\n",
    "import re\n",
    "\n",
    "with open(\"../Data/dice_rolls.txt\", \"w\") as f: \n",
    "    diceroll1 = [rnd.randint(1,6) for i in range(21)]  \n",
    "    f.write(f\"{diceroll1}\\n\")\n",
    "    \n",
    "\n",
    "    diceroll = [rnd.randint(1,6) for i in range(21)]\n",
    "    diceroll.sort()  \n",
    "    f.write(f\"{diceroll}\\n\")\n",
    "    \n",
    "    dicecounter1 = diceroll1.count(4)\n",
    "    dicecounter = diceroll.count(4)\n",
    "    f.write(f\"fyror {dicecounter + dicecounter1}\\n\")\n",
    "\n",
    "        \n"
   ]
  },
  {
   "cell_type": "code",
   "execution_count": null,
   "metadata": {},
   "outputs": [],
   "source": []
  }
 ],
 "metadata": {
  "kernelspec": {
   "display_name": "Python 3.9.13 64-bit",
   "language": "python",
   "name": "python3"
  },
  "language_info": {
   "codemirror_mode": {
    "name": "ipython",
    "version": 3
   },
   "file_extension": ".py",
   "mimetype": "text/x-python",
   "name": "python",
   "nbconvert_exporter": "python",
   "pygments_lexer": "ipython3",
   "version": "3.9.13"
  },
  "orig_nbformat": 4,
  "vscode": {
   "interpreter": {
    "hash": "0dcd1d2511816899a74ba735f0586ad2a5252297c95097d38969d839b5b7443a"
   }
  }
 },
 "nbformat": 4,
 "nbformat_minor": 2
}
