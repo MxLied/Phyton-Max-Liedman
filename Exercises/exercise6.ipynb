{
 "cells": [
  {
   "cell_type": "markdown",
   "metadata": {},
   "source": [
    "# Functions"
   ]
  },
  {
   "cell_type": "code",
   "execution_count": 122,
   "metadata": {},
   "outputs": [
    {
     "data": {
      "text/plain": [
       "'Hello world :)'"
      ]
     },
     "execution_count": 122,
     "metadata": {},
     "output_type": "execute_result"
    }
   ],
   "source": [
    "def helloworld():\n",
    "    return (\"Hello world :)\")\n",
    "\n",
    "helloworld()    \n",
    "\n"
   ]
  },
  {
   "cell_type": "markdown",
   "metadata": {},
   "source": [
    "## 1. Area "
   ]
  },
  {
   "cell_type": "code",
   "execution_count": 119,
   "metadata": {},
   "outputs": [],
   "source": [
    "#Create a function that takes the base and height of a triangle as input parameters and returns the area of the triangle.\n",
    "\n",
    "def triangle_area(b,h):\n",
    "    \"\"\"returns area of a triangle with value: bas = b, heightd = h\"\"\"\n",
    "    return 0.5 * b * h\n"
   ]
  },
  {
   "cell_type": "code",
   "execution_count": 121,
   "metadata": {},
   "outputs": [
    {
     "data": {
      "text/plain": [
       "600.0"
      ]
     },
     "execution_count": 121,
     "metadata": {},
     "output_type": "execute_result"
    }
   ],
   "source": [
    "\n",
    "triangle_area(40, 30)"
   ]
  },
  {
   "cell_type": "code",
   "execution_count": 39,
   "metadata": {},
   "outputs": [
    {
     "data": {
      "text/plain": [
       "8.0"
      ]
     },
     "execution_count": 39,
     "metadata": {},
     "output_type": "execute_result"
    }
   ],
   "source": [
    "#a) and b\n",
    "\n",
    "import math\n",
    "#def eculidan_distance(p,q):\n",
    " #   \"\"\"Caculates the eculidan distance between two points p = value 1, q value=\"\"\"\n",
    "  #  return (math.dist([p], [q]))\n",
    "# eculidan_distance(10,2)\n"
   ]
  },
  {
   "cell_type": "markdown",
   "metadata": {},
   "source": [
    "## Euclidean distance"
   ]
  },
  {
   "cell_type": "code",
   "execution_count": 91,
   "metadata": {},
   "outputs": [
    {
     "data": {
      "text/plain": [
       "7.0710678118654755"
      ]
     },
     "execution_count": 91,
     "metadata": {},
     "output_type": "execute_result"
    }
   ],
   "source": [
    "#C\n",
    "def eculidan_distance(p,q):\n",
    "    \"\"\"\"calculates the ecludian distance\"\"\"\n",
    "    return (math.dist(p,q))\n",
    "\n",
    "\n",
    "eculidan_distance([10, 0],[3, 1])"
   ]
  },
  {
   "cell_type": "code",
   "execution_count": 118,
   "metadata": {},
   "outputs": [
    {
     "name": "stdout",
     "output_type": "stream",
     "text": [
      "[10.4, 9.1, 14.1, 4.5, 13.5]\n"
     ]
    }
   ],
   "source": [
    "def eculidan_distance_orgin(p):\n",
    "    \"\"\"Returns the ecludian distance from orgin 0,0 to value\"\"\"\n",
    "    return (math.dist(p, [0, 0]))\n",
    "\n",
    "\n",
    "input_points_list = [[10, 3], [-1, -9], [10, -10], [4, -2], [9, -10]]\n",
    "answers_list = []\n",
    "\n",
    "\n",
    "for n in range(len(input_points_list)):\n",
    "    answers_list.append(round(eculidan_distance_orgin(input_points_list[n]),1))\n",
    "\n",
    "print(answers_list)\n",
    "\n",
    "\n"
   ]
  },
  {
   "cell_type": "code",
   "execution_count": null,
   "metadata": {},
   "outputs": [],
   "source": [
    "\n",
    "for n in range(1, len(input_points)+1):\n",
    "    print(n)\n",
    "\n",
    "    \n",
    "#len(input_points)\n"
   ]
  }
 ],
 "metadata": {
  "kernelspec": {
   "display_name": "Python 3.9.13 64-bit",
   "language": "python",
   "name": "python3"
  },
  "language_info": {
   "codemirror_mode": {
    "name": "ipython",
    "version": 3
   },
   "file_extension": ".py",
   "mimetype": "text/x-python",
   "name": "python",
   "nbconvert_exporter": "python",
   "pygments_lexer": "ipython3",
   "version": "3.9.13"
  },
  "orig_nbformat": 4,
  "vscode": {
   "interpreter": {
    "hash": "0dcd1d2511816899a74ba735f0586ad2a5252297c95097d38969d839b5b7443a"
   }
  }
 },
 "nbformat": 4,
 "nbformat_minor": 2
}
