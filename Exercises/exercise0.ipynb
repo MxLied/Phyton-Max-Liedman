{
 "cells": [
  {
   "cell_type": "markdown",
   "metadata": {},
   "source": [
    "## Pythagorean therom"
   ]
  },
  {
   "cell_type": "code",
   "execution_count": 12,
   "metadata": {},
   "outputs": [
    {
     "name": "stdout",
     "output_type": "stream",
     "text": [
      "5.0\n"
     ]
    }
   ],
   "source": [
    "from math import sqrt\n",
    "## Pythagorean theorem\n",
    "# A)\n",
    "a = 3\n",
    "b = 4\n",
    "\n",
    "print(sqrt(a**2 + b**2))\n",
    "\n"
   ]
  },
  {
   "cell_type": "code",
   "execution_count": 57,
   "metadata": {},
   "outputs": [
    {
     "name": "stdout",
     "output_type": "stream",
     "text": [
      "4.9\n"
     ]
    }
   ],
   "source": [
    "# B)\n",
    "A = 7\n",
    "B = 5\n",
    "C = round(10*(sqrt(A**2 - B**2)))/10\n",
    "print(C)"
   ]
  },
  {
   "cell_type": "markdown",
   "metadata": {},
   "source": [
    "## Classification accuracy"
   ]
  },
  {
   "cell_type": "code",
   "execution_count": 45,
   "metadata": {},
   "outputs": [
    {
     "name": "stdout",
     "output_type": "stream",
     "text": [
      "0.821917808219178\n"
     ]
    }
   ],
   "source": [
    "## A machine learning algorithm has been trained to predict whether or not it would rain the next day. Out of 365 predictions, it got 300 correct, compute the accuracy of this model.\n",
    "A=365\n",
    "B=300\n",
    "print(B/A)"
   ]
  },
  {
   "cell_type": "markdown",
   "metadata": {},
   "source": [
    "## Classification "
   ]
  },
  {
   "cell_type": "code",
   "execution_count": 1,
   "metadata": {},
   "outputs": [
    {
     "name": "stdout",
     "output_type": "stream",
     "text": [
      "0.987\n"
     ]
    }
   ],
   "source": [
    "## A machine learning model has been trained to detect fire. Here is the result of its predictions:\n",
    "accuarcy = (2+985)/(2+985+2+11)\n",
    "print(accuarcy) "
   ]
  },
  {
   "cell_type": "markdown",
   "metadata": {},
   "source": [
    "## 4.Line"
   ]
  },
  {
   "cell_type": "code",
   "execution_count": 5,
   "metadata": {},
   "outputs": [
    {
     "name": "stdout",
     "output_type": "stream",
     "text": [
      "0.75\n"
     ]
    }
   ],
   "source": [
    "## Compute the slope  k  and the constant term  m  of this line using the points  A:(4,4)  and  B:(0,1) .\n",
    "A = (4,4)\n",
    "B = (0,1)\n",
    "K = (1-4) / (0-4)\n",
    "M = (1)\n",
    "\n",
    "print(K)"
   ]
  },
  {
   "cell_type": "markdown",
   "metadata": {},
   "source": [
    "## Euclidean Distance"
   ]
  },
  {
   "cell_type": "code",
   "execution_count": 9,
   "metadata": {},
   "outputs": [
    {
     "name": "stdout",
     "output_type": "stream",
     "text": [
      "5.0990195135927845\n"
     ]
    }
   ],
   "source": [
    "## the Euclideam distance between the points  P1  and  P2  is the length of a line between them. Let  P1:(3,5)  and  P2:(−2,4)  and compute the distance between them.\n",
    "from math import sqrt\n",
    "\n",
    "\n",
    "A = sqrt((-2-3)**2 + (4-5)**2)\n",
    "print(A)"
   ]
  },
  {
   "cell_type": "code",
   "execution_count": 10,
   "metadata": {},
   "outputs": [
    {
     "name": "stdout",
     "output_type": "stream",
     "text": [
      "4.123105625617661\n"
     ]
    }
   ],
   "source": [
    "## Euclidean distance in 3D (**)\n",
    "from math import sqrt\n",
    "\n",
    "\n",
    "## P1 (2,1,4) Q2(3,1,0)\n",
    "\n",
    "\n",
    "distance = sqrt((2-3)**2 + (1-1)**2 + (4-0)**2)\n",
    "print(distance)"
   ]
  }
 ],
 "metadata": {
  "kernelspec": {
   "display_name": "Python 3.9.13 ('Phyton-Max-Liedman-Dhn8FrUw')",
   "language": "python",
   "name": "python3"
  },
  "language_info": {
   "codemirror_mode": {
    "name": "ipython",
    "version": 3
   },
   "file_extension": ".py",
   "mimetype": "text/x-python",
   "name": "python",
   "nbconvert_exporter": "python",
   "pygments_lexer": "ipython3",
   "version": "3.9.13"
  },
  "orig_nbformat": 4,
  "vscode": {
   "interpreter": {
    "hash": "e6ae1db9ac282e66ec34367a04cdc80b6d45f487d98c91d3d2315d0145e802be"
   }
  }
 },
 "nbformat": 4,
 "nbformat_minor": 2
}
