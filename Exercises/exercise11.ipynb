{
 "cells": [
  {
   "cell_type": "code",
   "execution_count": 43,
   "metadata": {},
   "outputs": [
    {
     "name": "stdout",
     "output_type": "stream",
     "text": [
      "12.7\n"
     ]
    }
   ],
   "source": [
    "class enheter:\n",
    "    \"\"\"Beräkanar Amerikanska mått till något man förstår\"\"\"\n",
    "    \n",
    "    def __init__(self, value):\n",
    "        self.value = value\n",
    "    def inch_to_cm(self): return self._value * 2.54\n",
    "    def foot_to_meter(self):return self._value * 0.3048\n",
    "    def pound_to_kg(self): return self._Value *0.4535\n",
    "\n",
    "    @property\n",
    "    def value(self) -> int:\n",
    "        return self._value\n",
    "    \n",
    "    @value.setter\n",
    "    def value(self, value: int):\n",
    "        if  (value == str):\n",
    "            raise ValueError(\"tSest\")\n",
    "        if not (value > 0 ):\n",
    "            raise ValueError(\"test\")\n",
    "\n",
    "        \n",
    "\n",
    "      \n",
    "        self._value = value\n",
    "\n",
    "kalkylator = enheter(5)\n",
    "print(kalkylator.inch_to_cm())\n"
   ]
  },
  {
   "cell_type": "code",
   "execution_count": 42,
   "metadata": {},
   "outputs": [
    {
     "name": "stdout",
     "output_type": "stream",
     "text": [
      "12.5 hej detta är kod\n"
     ]
    }
   ],
   "source": [
    "class human:\n",
    "    \"\"\"Har följande attribut: namn, ålder och e-mejl. E-mejl är det som skiljer oss från djur\"\"\"\n",
    "    def __init__(self, name, age, email):\n",
    "        \n",
    "    "
   ]
  }
 ],
 "metadata": {
  "kernelspec": {
   "display_name": "Python 3.9.13 64-bit",
   "language": "python",
   "name": "python3"
  },
  "language_info": {
   "codemirror_mode": {
    "name": "ipython",
    "version": 3
   },
   "file_extension": ".py",
   "mimetype": "text/x-python",
   "name": "python",
   "nbconvert_exporter": "python",
   "pygments_lexer": "ipython3",
   "version": "3.9.13"
  },
  "orig_nbformat": 4,
  "vscode": {
   "interpreter": {
    "hash": "0dcd1d2511816899a74ba735f0586ad2a5252297c95097d38969d839b5b7443a"
   }
  }
 },
 "nbformat": 4,
 "nbformat_minor": 2
}
