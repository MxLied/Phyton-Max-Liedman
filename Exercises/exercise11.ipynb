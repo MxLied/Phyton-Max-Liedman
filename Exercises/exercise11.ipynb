{
 "cells": [
  {
   "cell_type": "code",
   "execution_count": 100,
   "metadata": {},
   "outputs": [
    {
     "name": "stdout",
     "output_type": "stream",
     "text": [
      "5  1.524\n",
      "5  6\n"
     ]
    }
   ],
   "source": [
    "class beräknare:\n",
    "    def __init__(self, foot, inches, pounds, test):\n",
    "        self.x = 0\n",
    "        self.inches = x +1\n",
    "        self.foot = x * 0.3048\n",
    "    def __str__(self):\n",
    "     return f\"beräknare('{self.foot}')\"\n",
    "\n",
    "x = 5\n",
    "p1 = beräknare(0,0,0,0)\n",
    "if not (0 < x):\n",
    "            print(\" wasafasf\")\n",
    "print(f\"5  {p1.foot}\")\n",
    "print(f\"5  {p1.inches}\")\n",
    "\n"
   ]
  },
  {
   "cell_type": "code",
   "execution_count": 40,
   "metadata": {},
   "outputs": [
    {
     "name": "stdout",
     "output_type": "stream",
     "text": [
      "15\n"
     ]
    }
   ],
   "source": [
    "class test:\n",
    "    def __init__(self):\n",
    "        return self.foot * 0.3048\n"
   ]
  },
  {
   "cell_type": "code",
   "execution_count": 103,
   "metadata": {},
   "outputs": [
    {
     "name": "stdout",
     "output_type": "stream",
     "text": [
      "5 feet = 1.524 m\n",
      "5 inch = 12.7 cm\n",
      "5 pounds = 2.27 kg\n"
     ]
    }
   ],
   "source": [
    "class UnitUS:\n",
    "    def __init__(self, value):\n",
    "        self._value = value\n",
    "\n",
    "    def inch_to_cm(self):\n",
    "        \n",
    "        return self._value * 2.54\n",
    "\n",
    "    def foot_to_meters(self):\n",
    "\n",
    "        return self._value * 0.3048\n",
    "\n",
    "    def pound_to_kg(self):\n",
    "        \n",
    "        return self._value * 0.4535\n",
    "       \n",
    "\n",
    "    # validation code\n",
    "        if not isinstance(value, int):\n",
    "            raise TypeError(f\"number must be an int, not {type(value)}\")\n",
    "    \n",
    "        if not (0 <= value <= 1000):\n",
    "            raise ValueError(\"number must be between 0 and 1000\")\n",
    "\n",
    "\n",
    "units = UnitUS(5)\n",
    "print(f\"5 feet = {units.foot_to_meters()} m\")\n",
    "print(f\"5 inch = {units.inch_to_cm()} cm\")\n",
    "print(f\"5 pounds = {units.pound_to_kg():.2f} kg\")"
   ]
  }
 ],
 "metadata": {
  "kernelspec": {
   "display_name": "Python 3.9.13 64-bit",
   "language": "python",
   "name": "python3"
  },
  "language_info": {
   "name": "python",
   "version": "3.9.13"
  },
  "orig_nbformat": 4,
  "vscode": {
   "interpreter": {
    "hash": "0dcd1d2511816899a74ba735f0586ad2a5252297c95097d38969d839b5b7443a"
   }
  }
 },
 "nbformat": 4,
 "nbformat_minor": 2
}
