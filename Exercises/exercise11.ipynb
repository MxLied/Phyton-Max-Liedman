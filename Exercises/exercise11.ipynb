{
 "cells": [
  {
   "cell_type": "code",
   "execution_count": 43,
   "metadata": {},
   "outputs": [
    {
     "name": "stdout",
     "output_type": "stream",
     "text": [
      "12.7\n"
     ]
    }
   ],
   "source": [
    "class enheter:\n",
    "    \"\"\"Beräkanar Amerikanska mått till något man förstår\"\"\"\n",
    "    \n",
    "    def __init__(self, value):\n",
    "        self.value = value\n",
    "    def inch_to_cm(self): return self._value * 2.54\n",
    "    def foot_to_meter(self):return self._value * 0.3048\n",
    "    def pound_to_kg(self): return self._Value *0.4535\n",
    "\n",
    "    @property\n",
    "    def value(self) -> int:\n",
    "        return self._value\n",
    "    \n",
    "    @value.setter\n",
    "    def value(self, value: int):\n",
    "        if  (value == str):\n",
    "            raise ValueError(\"tSest\")\n",
    "        if not (value > 0 ):\n",
    "            raise ValueError(\"test\")\n",
    "\n",
    "        \n",
    "\n",
    "      \n",
    "        self._value = value\n",
    "\n",
    "kalkylator = enheter(5)\n",
    "print(kalkylator.inch_to_cm())\n"
   ]
  },
  {
   "cell_type": "code",
   "execution_count": 52,
   "metadata": {},
   "outputs": [
    {
     "name": "stdout",
     "output_type": "stream",
     "text": [
      "hi my name is hej, detta är min ålder 1\n"
     ]
    }
   ],
   "source": [
    "class human:\n",
    "    \"\"\"Har följande attribut: namn, ålder och e-mejl. E-mejl är det som skiljer oss från djur\"\"\"\n",
    "    def __init__(self, name: str, age: int):\n",
    "\n",
    "        self._name = name\n",
    "        self.age = age          \n",
    "    #################################\n",
    "    @property\n",
    "    def age(self, value: int) -> int:\n",
    "     self._age = value\n",
    "\n",
    "    @property\n",
    "    def name (self) -> str:\n",
    "        return self._name\n",
    "    \n",
    "    @name.setter\n",
    "    def name(self, name: str):\n",
    "        ## doesnt work dont get error then i input str in human \n",
    "        if name == (1):\n",
    "            raise ValueError(\"hehexd\")\n",
    "    ################################################################\n",
    "        # getter  \n",
    "    @property\n",
    "    def age(self, value: int) -> int:\n",
    "        return self._age \n",
    "    \n",
    "    @age.setter\n",
    "    def age (self, age: int) -> None:\n",
    "        if not (0 <= age <= 125):\n",
    "            raise ValueError(\"number must be between 0 and 125\")\n",
    "        self._age = age\n",
    "    def __repr__(self) -> str:\n",
    "        return (f\"hi my name is {self._name}, detta är min ålder: {self._age}\")\n",
    "\n",
    "hej= human(\"hej\", 1)\n",
    "\n",
    "print(hej)"
   ]
  },
  {
   "cell_type": "code",
   "execution_count": 110,
   "metadata": {},
   "outputs": [
    {
     "name": "stdout",
     "output_type": "stream",
     "text": [
      "5 döda  mig\n"
     ]
    }
   ],
   "source": [
    "class human:\n",
    "    \"\"\"Har följande attribut: namn, ålder och e-mejl. E-mejl är det som skiljer oss från djur\"\"\"\n",
    "    def __init__(self, age: int,):\n",
    "\n",
    "        self.age = age          \n",
    "\n",
    "    # getter  \n",
    "    @property\n",
    "    def age(self, value: int) -> int:\n",
    "        return self._age \n",
    "    \n",
    "    @age.setter\n",
    "    def age (self, age: int) -> None:\n",
    "        if not (0 <= age <= 125):\n",
    "            raise ValueError(\"number must be between 0 and 125\")\n",
    "        self._age = age\n",
    "        \n",
    "    ##REPR\n",
    "    def __repr__(self):\n",
    "        return (f\"{self._age} döda  mig\")\n",
    "asfcökoljö = human(5)\n",
    "\n",
    "print (asfcökoljö)\n"
   ]
  },
  {
   "cell_type": "code",
   "execution_count": 118,
   "metadata": {},
   "outputs": [
    {
     "name": "stdout",
     "output_type": "stream",
     "text": [
      "setter is running\n"
     ]
    },
    {
     "ename": "TypeError",
     "evalue": "hehexd",
     "output_type": "error",
     "traceback": [
      "\u001b[1;31m---------------------------------------------------------------------------\u001b[0m",
      "\u001b[1;31mTypeError\u001b[0m                                 Traceback (most recent call last)",
      "\u001b[1;32mc:\\Users\\maxim\\Documents\\GITHUB\\Phyton-Max-Liedman\\Exercises\\exercise11.ipynb Cell 4\u001b[0m in \u001b[0;36m<cell line: 22>\u001b[1;34m()\u001b[0m\n\u001b[0;32m     <a href='vscode-notebook-cell:/c%3A/Users/maxim/Documents/GITHUB/Phyton-Max-Liedman/Exercises/exercise11.ipynb#W5sZmlsZQ%3D%3D?line=18'>19</a>\u001b[0m     \u001b[39mdef\u001b[39;00m \u001b[39m__repr__\u001b[39m(\u001b[39mself\u001b[39m) \u001b[39m-\u001b[39m\u001b[39m>\u001b[39m \u001b[39mstr\u001b[39m:\n\u001b[0;32m     <a href='vscode-notebook-cell:/c%3A/Users/maxim/Documents/GITHUB/Phyton-Max-Liedman/Exercises/exercise11.ipynb#W5sZmlsZQ%3D%3D?line=19'>20</a>\u001b[0m         \u001b[39mreturn\u001b[39;00m (\u001b[39mf\u001b[39m\u001b[39m\"\u001b[39m\u001b[39mhi my name is \u001b[39m\u001b[39m{\u001b[39;00m\u001b[39mself\u001b[39m\u001b[39m.\u001b[39m_name\u001b[39m}\u001b[39;00m\u001b[39m\"\u001b[39m)\n\u001b[1;32m---> <a href='vscode-notebook-cell:/c%3A/Users/maxim/Documents/GITHUB/Phyton-Max-Liedman/Exercises/exercise11.ipynb#W5sZmlsZQ%3D%3D?line=21'>22</a>\u001b[0m testtest \u001b[39m=\u001b[39m human(\u001b[39m1\u001b[39;49m)\n\u001b[0;32m     <a href='vscode-notebook-cell:/c%3A/Users/maxim/Documents/GITHUB/Phyton-Max-Liedman/Exercises/exercise11.ipynb#W5sZmlsZQ%3D%3D?line=22'>23</a>\u001b[0m \u001b[39mprint\u001b[39m(testtest)\n",
      "\u001b[1;32mc:\\Users\\maxim\\Documents\\GITHUB\\Phyton-Max-Liedman\\Exercises\\exercise11.ipynb Cell 4\u001b[0m in \u001b[0;36mhuman.__init__\u001b[1;34m(self, name)\u001b[0m\n\u001b[0;32m      <a href='vscode-notebook-cell:/c%3A/Users/maxim/Documents/GITHUB/Phyton-Max-Liedman/Exercises/exercise11.ipynb#W5sZmlsZQ%3D%3D?line=3'>4</a>\u001b[0m \u001b[39mdef\u001b[39;00m \u001b[39m__init__\u001b[39m(\u001b[39mself\u001b[39m, name: \u001b[39mstr\u001b[39m):\n\u001b[1;32m----> <a href='vscode-notebook-cell:/c%3A/Users/maxim/Documents/GITHUB/Phyton-Max-Liedman/Exercises/exercise11.ipynb#W5sZmlsZQ%3D%3D?line=4'>5</a>\u001b[0m     \u001b[39mself\u001b[39;49m\u001b[39m.\u001b[39;49mname \u001b[39m=\u001b[39m name\n",
      "\u001b[1;32mc:\\Users\\maxim\\Documents\\GITHUB\\Phyton-Max-Liedman\\Exercises\\exercise11.ipynb Cell 4\u001b[0m in \u001b[0;36mhuman.name\u001b[1;34m(self, name)\u001b[0m\n\u001b[0;32m     <a href='vscode-notebook-cell:/c%3A/Users/maxim/Documents/GITHUB/Phyton-Max-Liedman/Exercises/exercise11.ipynb#W5sZmlsZQ%3D%3D?line=13'>14</a>\u001b[0m \u001b[39mprint\u001b[39m(\u001b[39m\"\u001b[39m\u001b[39msetter is running\u001b[39m\u001b[39m\"\u001b[39m)\n\u001b[0;32m     <a href='vscode-notebook-cell:/c%3A/Users/maxim/Documents/GITHUB/Phyton-Max-Liedman/Exercises/exercise11.ipynb#W5sZmlsZQ%3D%3D?line=14'>15</a>\u001b[0m \u001b[39mif\u001b[39;00m \u001b[39mnot\u001b[39;00m \u001b[39misinstance\u001b[39m(name, \u001b[39mstr\u001b[39m):\n\u001b[1;32m---> <a href='vscode-notebook-cell:/c%3A/Users/maxim/Documents/GITHUB/Phyton-Max-Liedman/Exercises/exercise11.ipynb#W5sZmlsZQ%3D%3D?line=15'>16</a>\u001b[0m     \u001b[39mraise\u001b[39;00m \u001b[39mTypeError\u001b[39;00m(\u001b[39m\"\u001b[39m\u001b[39mhehexd\u001b[39m\u001b[39m\"\u001b[39m)\n\u001b[0;32m     <a href='vscode-notebook-cell:/c%3A/Users/maxim/Documents/GITHUB/Phyton-Max-Liedman/Exercises/exercise11.ipynb#W5sZmlsZQ%3D%3D?line=16'>17</a>\u001b[0m \u001b[39mself\u001b[39m\u001b[39m.\u001b[39m_name \u001b[39m=\u001b[39m name\n",
      "\u001b[1;31mTypeError\u001b[0m: hehexd"
     ]
    }
   ],
   "source": [
    "import re\n",
    "class human:\n",
    "    \"\"\"Har följande attribut: namn, ålder och e-mejl. E-mejl är det som skiljer oss från djur\"\"\"\n",
    "    def __init__(self, name: str):\n",
    "        self.name = name    \n",
    "###############################################################\n",
    "    @property\n",
    "    def name (self) -> str:\n",
    "        return self._name\n",
    "    \n",
    "    @name.setter\n",
    "    def name(self, name: str):\n",
    "        ## doesnt work dont get error then i input str in human \n",
    "        print(\"setter is running\")\n",
    "        if not isinstance(name, str):\n",
    "            raise TypeError(\"hehexd\")\n",
    "        self._name = name\n",
    "    \n",
    "    def __repr__(self) -> str:\n",
    "        return (f\"hi my name is {self._name}\")\n",
    "\n",
    "testtest = human(1)\n",
    "print(testtest)"
   ]
  },
  {
   "cell_type": "code",
   "execution_count": 92,
   "metadata": {},
   "outputs": [
    {
     "name": "stdout",
     "output_type": "stream",
     "text": [
      "setter is running\n",
      "HEJ DETTA ÄR DIN E-MEJL: hej@\n"
     ]
    }
   ],
   "source": [
    "import email\n",
    "\n",
    "class human:\n",
    "    \"\"\"Har följande attribut: namn, ålder och e-mejl. E-mejl är det som skiljer oss från djur\"\"\"\n",
    "    def __init__(self, email: str) -> None:\n",
    "        self.email = email\n",
    "        # self.set_email = email    \n",
    "\n",
    "    @property\n",
    "    def email (self) -> str:\n",
    "        return self._email\n",
    "\n",
    "    @email.setter\n",
    "    def email(self, email: str) -> None:\n",
    "        print(\"setter is running\")\n",
    "        if not ('@' in email):\n",
    "            raise TypeError(\"ERROR\")\n",
    "        self._email = email\n",
    "    \n",
    "    def __repr__(self) -> str:\n",
    "        return (f\"HEJ DETTA ÄR DIN E-MEJL: {self._email}\")\n",
    "\n",
    "testare = human(\"hej@\")\n",
    "# testare2 = human(1)\n",
    "print(testare)\n"
   ]
  },
  {
   "cell_type": "code",
   "execution_count": 63,
   "metadata": {},
   "outputs": [
    {
     "data": {
      "text/plain": [
       "'waswas@'"
      ]
     },
     "execution_count": 63,
     "metadata": {},
     "output_type": "execute_result"
    }
   ],
   "source": [
    "x = \"wasw\"\n",
    "if not ('@' in x):\n",
    "    raise TypeError(\"xd\")\n",
    "\n",
    "x"
   ]
  },
  {
   "cell_type": "code",
   "execution_count": 101,
   "metadata": {},
   "outputs": [
    {
     "name": "stdout",
     "output_type": "stream",
     "text": [
      "hej jag älskar [10, '10']\n"
     ]
    }
   ],
   "source": [
    "value = \"10\" \n",
    "\n",
    "print(f\"hej jag älskar\", [10, value])"
   ]
  }
 ],
 "metadata": {
  "kernelspec": {
   "display_name": "Python 3.9.13 ('Phyton-Max-Liedman-Dhn8FrUw')",
   "language": "python",
   "name": "python3"
  },
  "language_info": {
   "codemirror_mode": {
    "name": "ipython",
    "version": 3
   },
   "file_extension": ".py",
   "mimetype": "text/x-python",
   "name": "python",
   "nbconvert_exporter": "python",
   "pygments_lexer": "ipython3",
   "version": "3.9.13"
  },
  "orig_nbformat": 4,
  "vscode": {
   "interpreter": {
    "hash": "e6ae1db9ac282e66ec34367a04cdc80b6d45f487d98c91d3d2315d0145e802be"
   }
  }
 },
 "nbformat": 4,
 "nbformat_minor": 2
}
