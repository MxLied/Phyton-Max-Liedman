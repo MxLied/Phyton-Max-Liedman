{
 "cells": [
  {
   "attachments": {},
   "cell_type": "markdown",
   "metadata": {},
   "source": [
    "<img src=\"Kanin.png\" width=\"50%\" height=\"50%\">\n"
   ]
  },
  {
   "cell_type": "code",
   "execution_count": 1,
   "metadata": {},
   "outputs": [
    {
     "data": {
      "text/plain": [
       "'nina'"
      ]
     },
     "execution_count": 1,
     "metadata": {},
     "output_type": "execute_result"
    }
   ],
   "source": [
    "husdjur= \"kanin\" # detta är en string \n",
    "meddelande = husdjur[::-1][:-1] # denna kommer reversea koden och tabort sista bokstaven i listan stringen?\n",
    "\n",
    "meddelande #det stämmer \n",
    "\n",
    "## ::-1 start, stop, step,"
   ]
  },
  {
   "cell_type": "code",
   "execution_count": 76,
   "metadata": {},
   "outputs": [
    {
     "name": "stdout",
     "output_type": "stream",
     "text": [
      "yesyesyes\n"
     ]
    }
   ],
   "source": [
    "def pali(name):\n",
    "    name = name.lower()\n",
    "    if name == name[::-1]:\n",
    "        print('yesyesyes')\n",
    "    else:\n",
    "        print(\"nonono\")\n",
    "\n",
    "pali('civic')"
   ]
  },
  {
   "cell_type": "code",
   "execution_count": 53,
   "metadata": {},
   "outputs": [
    {
     "data": {
      "text/plain": [
       "'gnirts'"
      ]
     },
     "execution_count": 53,
     "metadata": {},
     "output_type": "execute_result"
    }
   ],
   "source": [
    "\"string\"[::-1]"
   ]
  },
  {
   "cell_type": "code",
   "execution_count": 58,
   "metadata": {},
   "outputs": [
    {
     "name": "stdout",
     "output_type": "stream",
     "text": [
      "1\n"
     ]
    }
   ],
   "source": [
    "print(9%2)"
   ]
  },
  {
   "attachments": {},
   "cell_type": "markdown",
   "metadata": {},
   "source": [
    "<img src=\"xo.png\" width=\"50%\" height=\"50%\">\n"
   ]
  },
  {
   "cell_type": "code",
   "execution_count": 2,
   "metadata": {},
   "outputs": [
    {
     "name": "stdout",
     "output_type": "stream",
     "text": [
      "o\n",
      "x o\n",
      "x x o\n",
      "x x x o\n",
      "x x x x o\n"
     ]
    }
   ],
   "source": [
    "def my_func(n):\n",
    "    for i in range(n):\n",
    "        print(i*'x ' +'o')\n",
    "my_func(5)"
   ]
  },
  {
   "cell_type": "code",
   "execution_count": 45,
   "metadata": {},
   "outputs": [
    {
     "name": "stdout",
     "output_type": "stream",
     "text": [
      "x x x x x \n",
      "x x x x \n",
      "x x x \n",
      "x x \n",
      "x \n"
     ]
    }
   ],
   "source": [
    "def funk(n):\n",
    "    for i in range(n):\n",
    "        for j in range(n-i):\n",
    "            print('x', end=' ')\n",
    "        print()\n",
    "\n",
    "funk(5)"
   ]
  },
  {
   "attachments": {},
   "cell_type": "markdown",
   "metadata": {},
   "source": [
    "## skriv en funktion som tar in en sida som imparameter och retunerar area och omkrets av en kvadrat. \n",
    "\n",
    "Låt användaren mata in en sida och kör funktionen , ta med felhantering "
   ]
  },
  {
   "cell_type": "code",
   "execution_count": 4,
   "metadata": {},
   "outputs": [
    {
     "ename": "TypeError",
     "evalue": "NEJ",
     "output_type": "error",
     "traceback": [
      "\u001b[1;31m---------------------------------------------------------------------------\u001b[0m",
      "\u001b[1;31mTypeError\u001b[0m                                 Traceback (most recent call last)",
      "\u001b[1;32mc:\\Users\\maxim\\Documents\\GITHUB\\Phyton-Max-Liedman\\april\\2tentakollen.ipynb Cell 7\u001b[0m in \u001b[0;36m<cell line: 11>\u001b[1;34m()\u001b[0m\n\u001b[0;32m      <a href='vscode-notebook-cell:/c%3A/Users/maxim/Documents/GITHUB/Phyton-Max-Liedman/april/2tentakollen.ipynb#W6sZmlsZQ%3D%3D?line=6'>7</a>\u001b[0m     omkrets \u001b[39m=\u001b[39m length \u001b[39m*\u001b[39m \u001b[39m4\u001b[39m\n\u001b[0;32m      <a href='vscode-notebook-cell:/c%3A/Users/maxim/Documents/GITHUB/Phyton-Max-Liedman/april/2tentakollen.ipynb#W6sZmlsZQ%3D%3D?line=8'>9</a>\u001b[0m     \u001b[39mprint\u001b[39m(\u001b[39mf\u001b[39m\u001b[39m\"\u001b[39m\u001b[39mthe area is and the omkrets is\u001b[39m\u001b[39m{\u001b[39;00marea, omkrets \u001b[39m}\u001b[39;00m\u001b[39m\"\u001b[39m)\n\u001b[1;32m---> <a href='vscode-notebook-cell:/c%3A/Users/maxim/Documents/GITHUB/Phyton-Max-Liedman/april/2tentakollen.ipynb#W6sZmlsZQ%3D%3D?line=10'>11</a>\u001b[0m widthlength(\u001b[39m\"\u001b[39;49m\u001b[39mhej\u001b[39;49m\u001b[39m\"\u001b[39;49m,\u001b[39m2\u001b[39;49m)\n",
      "\u001b[1;32mc:\\Users\\maxim\\Documents\\GITHUB\\Phyton-Max-Liedman\\april\\2tentakollen.ipynb Cell 7\u001b[0m in \u001b[0;36mwidthlength\u001b[1;34m(width, length)\u001b[0m\n\u001b[0;32m      <a href='vscode-notebook-cell:/c%3A/Users/maxim/Documents/GITHUB/Phyton-Max-Liedman/april/2tentakollen.ipynb#W6sZmlsZQ%3D%3D?line=0'>1</a>\u001b[0m \u001b[39mdef\u001b[39;00m \u001b[39mwidthlength\u001b[39m(width, length):\n\u001b[0;32m      <a href='vscode-notebook-cell:/c%3A/Users/maxim/Documents/GITHUB/Phyton-Max-Liedman/april/2tentakollen.ipynb#W6sZmlsZQ%3D%3D?line=1'>2</a>\u001b[0m     \u001b[39mif\u001b[39;00m \u001b[39mnot\u001b[39;00m \u001b[39misinstance\u001b[39m(width,(\u001b[39mint\u001b[39m, \u001b[39mfloat\u001b[39m)) \u001b[39mor\u001b[39;00m \u001b[39mnot\u001b[39;00m \u001b[39misinstance\u001b[39m(length,(\u001b[39mint\u001b[39m, \u001b[39mfloat\u001b[39m)):\n\u001b[1;32m----> <a href='vscode-notebook-cell:/c%3A/Users/maxim/Documents/GITHUB/Phyton-Max-Liedman/april/2tentakollen.ipynb#W6sZmlsZQ%3D%3D?line=2'>3</a>\u001b[0m         \u001b[39mraise\u001b[39;00m \u001b[39mTypeError\u001b[39;00m(\u001b[39m\"\u001b[39m\u001b[39mNEJ\u001b[39m\u001b[39m\"\u001b[39m)\n\u001b[0;32m      <a href='vscode-notebook-cell:/c%3A/Users/maxim/Documents/GITHUB/Phyton-Max-Liedman/april/2tentakollen.ipynb#W6sZmlsZQ%3D%3D?line=3'>4</a>\u001b[0m     \u001b[39melif\u001b[39;00m width  \u001b[39m<\u001b[39m \u001b[39m0\u001b[39m \u001b[39mor\u001b[39;00m length \u001b[39m<\u001b[39m \u001b[39m0\u001b[39m:\n\u001b[0;32m      <a href='vscode-notebook-cell:/c%3A/Users/maxim/Documents/GITHUB/Phyton-Max-Liedman/april/2tentakollen.ipynb#W6sZmlsZQ%3D%3D?line=4'>5</a>\u001b[0m         \u001b[39mraise\u001b[39;00m \u001b[39mValueError\u001b[39;00m(\u001b[39m\"\u001b[39m\u001b[39mnej\u001b[39m\u001b[39m\"\u001b[39m)\n",
      "\u001b[1;31mTypeError\u001b[0m: NEJ"
     ]
    }
   ],
   "source": [
    "def widthlength(width, length):\n",
    "    if not isinstance(width,(int, float)) or not isinstance(length,(int, float)):\n",
    "        raise TypeError(\"NEJ\")\n",
    "    elif width  < 0 or length < 0:\n",
    "        raise ValueError(\"nej\")\n",
    "    area = width * length\n",
    "    omkrets = length * 4\n",
    "\n",
    "    print(f\"the area is and the omkrets is{area, omkrets }\")\n",
    "\n",
    "widthlength(\"hej\",2)"
   ]
  },
  {
   "cell_type": "code",
   "execution_count": null,
   "metadata": {},
   "outputs": [
    {
     "name": "stdout",
     "output_type": "stream",
     "text": [
      "the area and omkrets is (1, 4)\n"
     ]
    }
   ],
   "source": [
    "def areacirc(width, length):\n",
    "    \n",
    "    if not isinstance(width, (int, float)) or not isinstance(length, (int, float)):\n",
    "        raise ValueError(\"area calc most be a number\")\n",
    "    elif width < 0 or length < 0:\n",
    "        raise TypeError(\"cant have negative number\")\n",
    "\n",
    "    area = width*length\n",
    "    omkrets = length*4\n",
    "   \n",
    "    return print(f\"the area and omkrets is {area, omkrets}\")\n",
    "\n",
    "areacirc(1,1)"
   ]
  },
  {
   "attachments": {},
   "cell_type": "markdown",
   "metadata": {},
   "source": [
    "<img src=\"hangagubbe.png\" width=\"50%\" height=\"50%\">\n"
   ]
  },
  {
   "cell_type": "code",
   "execution_count": null,
   "metadata": {},
   "outputs": [
    {
     "data": {
      "text/plain": [
       "[3, 3, 3, 3]"
      ]
     },
     "execution_count": 99,
     "metadata": {},
     "output_type": "execute_result"
    }
   ],
   "source": [
    "import random as rnd\n",
    "\n",
    "correctwords= [\"apa\",\"häst\",\"ko\",\"papegoja\"]\n",
    "\n",
    "# random = rnd.randint(0,3)\n",
    "# for random in correctwords:\n",
    "    \n",
    "#     correctwords[]\n",
    "    \n",
    "# io = rnd.randint(0,3) \n",
    "# randomlist =[io for i in correctwords]\n",
    "\n",
    "# randomlist"
   ]
  },
  {
   "cell_type": "code",
   "execution_count": null,
   "metadata": {},
   "outputs": [
    {
     "name": "stdout",
     "output_type": "stream",
     "text": [
      "amount of letters:\n",
      "3\n",
      "life: 4\n",
      "life: 3\n",
      "life: 2\n",
      "life: 1\n",
      "ä\n",
      "g\n",
      "d\n",
      "you win\n"
     ]
    }
   ],
   "source": [
    "import random as rnd\n",
    "\n",
    "# [\"apa\",\"häst\",\"ko\",\"papegoja\"]\n",
    "\n",
    "\n",
    "list_of_words= [\"apa\", \"oro\", \"ägd\", \"yee\"]\n",
    "\n",
    "list_of_words = rnd.choice(list_of_words)\n",
    "\n",
    "hp = 5\n",
    "\n",
    "print(\"amount of letters:\")\n",
    "print(len(f\"{list_of_words}\"))\n",
    "\n",
    "while hp > 0:\n",
    "    \n",
    "    inputer =input(\"guess a word\")\n",
    "    \n",
    "    if inputer == list_of_words[0]:\n",
    "        print(list_of_words[0])\n",
    "\n",
    "        inputer = input(\"guess a 2nd word\")\n",
    "        \n",
    "    \n",
    "        if inputer == list_of_words[1]:\n",
    "            print(list_of_words[1])\n",
    "            inputer = input(\"guess a 3d word\")\n",
    "            \n",
    "        \n",
    "    \n",
    "            if inputer == list_of_words[2]:\n",
    "                print(list_of_words[2])\n",
    "                print(\"you win\")\n",
    "                break\n",
    "    if inputer != list_of_words:\n",
    "        hp -=1\n",
    "        print(f\"life: {hp}\")\n",
    "        \n",
    "\n",
    "## kinda works xddd\n",
    "\n",
    "\n",
    "# while True:\n",
    "#     pass"
   ]
  },
  {
   "cell_type": "code",
   "execution_count": null,
   "metadata": {},
   "outputs": [
    {
     "name": "stdout",
     "output_type": "stream",
     "text": [
      "Amount of letters:\n",
      "2\n",
      "k\n",
      "o\n",
      "You win!\n"
     ]
    }
   ],
   "source": [
    "import random as rnd\n",
    "\n",
    "list_of_words= [\"orm\", \"ko\", \"utter\", \"åsna\"]\n",
    "\n",
    "selected_word = rnd.choice(list_of_words)\n",
    "\n",
    "hp = 5\n",
    "\n",
    "print(\"Amount of letters:\")\n",
    "print(len(selected_word))\n",
    "\n",
    "for letter in selected_word:\n",
    "    inputer = input(\"Guess a letter: \")\n",
    "    if inputer == letter:\n",
    "        print(letter)\n",
    "    else:\n",
    "        hp -= 1\n",
    "        print(f\"Wrong! Lives remaining: {hp}\")\n",
    "        \n",
    "    if hp == 0:\n",
    "        print(\"You lost!\")\n",
    "        break\n",
    "        \n",
    "print(\"You win!\")"
   ]
  },
  {
   "cell_type": "code",
   "execution_count": null,
   "metadata": {},
   "outputs": [
    {
     "data": {
      "text/plain": [
       "1"
      ]
     },
     "execution_count": 26,
     "metadata": {},
     "output_type": "execute_result"
    }
   ],
   "source": [
    "list_of_words = rnd.randint(0,1)\n",
    "\n",
    "list_of_words"
   ]
  },
  {
   "cell_type": "code",
   "execution_count": null,
   "metadata": {},
   "outputs": [
    {
     "data": {
      "text/plain": [
       "'ä'"
      ]
     },
     "execution_count": 4,
     "metadata": {},
     "output_type": "execute_result"
    }
   ],
   "source": [
    "test= [\"apa\",\"häst\",\"ko\",\"papegoja\"]\n",
    "\n"
   ]
  },
  {
   "cell_type": "code",
   "execution_count": 10,
   "metadata": {},
   "outputs": [
    {
     "name": "stdout",
     "output_type": "stream",
     "text": [
      "3 1 1 4\n"
     ]
    }
   ],
   "source": [
    "def func(money):\n",
    "    thu = money//1000\n",
    "    money %= 1000\n",
    "    tvo = money//200\n",
    "    money %= 200\n",
    "    ten = money//10\n",
    "    money %=10\n",
    "    one = money\n",
    "\n",
    "    print(thu, tvo, ten, one)\n",
    "\n",
    "func(3214)\n",
    "    "
   ]
  },
  {
   "cell_type": "code",
   "execution_count": null,
   "metadata": {},
   "outputs": [
    {
     "name": "stdout",
     "output_type": "stream",
     "text": [
      "3\n"
     ]
    }
   ],
   "source": [
    "def funny(value, walue):\n",
    "    if not isinstance(value,(int, float)) or not isinstance(walue,(int, float)):\n",
    "        raise ValueError(\"must be a int\")\n",
    "    print(value)\n",
    "\n",
    "funny(3, 3)"
   ]
  },
  {
   "attachments": {},
   "cell_type": "markdown",
   "metadata": {},
   "source": [
    "<img src=\"textt.png\" width=\"50%\" height=\"50%\">\n",
    "\n",
    "<img src=\"tabell.png\" width=\"50%\" height=\"50%\">"
   ]
  },
  {
   "cell_type": "code",
   "execution_count": null,
   "metadata": {},
   "outputs": [
    {
     "name": "stdout",
     "output_type": "stream",
     "text": [
      " 0  0  0  0  0  0  0  0  0  0  0 \n",
      " 0  1  2  3  4  5  6  7  8  9 10 \n",
      " 0  2  4  6  8 10 12 14 16 18 20 \n",
      " 0  3  6  9 12 15 18 21 24 27 30 \n",
      " 0  4  8 12 16 20 24 28 32 36 40 \n",
      " 0  5 10 15 20 25 30 35 40 45 50 \n"
     ]
    }
   ],
   "source": [
    "for i in range( 6):\n",
    "    for j in range(11):\n",
    "        print(\"{:2d}\".format(i * j), end=\" \")\n",
    "    print()\n"
   ]
  },
  {
   "cell_type": "code",
   "execution_count": 51,
   "metadata": {},
   "outputs": [
    {
     "name": "stdout",
     "output_type": "stream",
     "text": [
      "o\n",
      "x o\n",
      "x x o\n",
      "x x x o\n",
      "x x x x o\n"
     ]
    }
   ],
   "source": [
    "n=5\n",
    "\n",
    "for i in range(n):\n",
    "    print(\"x \" * i +'o')\n",
    "    "
   ]
  },
  {
   "cell_type": "code",
   "execution_count": 48,
   "metadata": {},
   "outputs": [
    {
     "name": "stdout",
     "output_type": "stream",
     "text": [
      "x x x x x \n",
      "x x x x \n",
      "x x x \n",
      "x x \n",
      "x \n"
     ]
    }
   ],
   "source": [
    "n =5\n",
    "# for i in range(n):\n",
    "#     for j in range(n-i):\n",
    "#         print('x', end=' ')\n",
    "#     print()\n",
    "\n",
    "\n",
    "\n",
    "for i in range(n):\n",
    "    print('x ' * (n-i))\n",
    "\n",
    "# def funk(n):\n",
    "#     for i in range(n):\n",
    "#         for j in range(n-i):\n",
    "#             print('x', end=' ')\n",
    "#         print(\"ja\")\n",
    "\n",
    "# funk(5)"
   ]
  },
  {
   "cell_type": "code",
   "execution_count": null,
   "metadata": {},
   "outputs": [
    {
     "name": "stdout",
     "output_type": "stream",
     "text": [
      " 1  2  3  4  5  6  7  8  9 10 \n",
      " 2  4  6  8 10 12 14 16 18 20 \n",
      " 3  6  9 12 15 18 21 24 27 30 \n",
      " 4  8 12 16 20 24 28 32 36 40 \n",
      " 5 10 15 20 25 30 35 40 45 50 \n",
      " 6 12 18 24 30 36 42 48 54 60 \n",
      " 7 14 21 28 35 42 49 56 63 70 \n",
      " 8 16 24 32 40 48 56 64 72 80 \n",
      " 9 18 27 36 45 54 63 72 81 90 \n",
      "10 20 30 40 50 60 70 80 90 100 \n"
     ]
    }
   ],
   "source": [
    "n = 11\n",
    "for i in range(1, n):\n",
    "    for j in range(1, 11):\n",
    "        print(\"{:2d}\".format(i*j), end=\" \")\n",
    "    print()"
   ]
  }
 ],
 "metadata": {
  "kernelspec": {
   "display_name": "Phyton-Max-Liedman-Dhn8FrUw",
   "language": "python",
   "name": "python3"
  },
  "language_info": {
   "codemirror_mode": {
    "name": "ipython",
    "version": 3
   },
   "file_extension": ".py",
   "mimetype": "text/x-python",
   "name": "python",
   "nbconvert_exporter": "python",
   "pygments_lexer": "ipython3",
   "version": "3.9.13"
  },
  "orig_nbformat": 4
 },
 "nbformat": 4,
 "nbformat_minor": 2
}
