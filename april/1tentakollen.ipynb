{
 "cells": [
  {
   "cell_type": "code",
   "execution_count": 1,
   "metadata": {},
   "outputs": [
    {
     "data": {
      "text/plain": [
       "'nina'"
      ]
     },
     "execution_count": 1,
     "metadata": {},
     "output_type": "execute_result"
    }
   ],
   "source": [
    "husdjur= \"kanin\" # detta är en string \n",
    "meddelande = husdjur[::-1][:-1] # denna kommer reversea koden och tabort sista bokstaven i listan stringen?\n",
    "\n",
    "meddelande #det stämmer \n",
    "\n",
    "## ::-1 start, stop, step,"
   ]
  },
  {
   "cell_type": "code",
   "execution_count": 2,
   "metadata": {},
   "outputs": [
    {
     "name": "stdout",
     "output_type": "stream",
     "text": [
      "i\n"
     ]
    }
   ],
   "source": [
    "frukter = [\"jordgubbe\", \"vindruva\", \"grape\"] # lista\n",
    "godfrukt = frukter[1] # ändrar om listan så att den innehåller endast \"vindruva\"\n",
    "print(godfrukt[1]) # tar första elementet från listan "
   ]
  },
  {
   "cell_type": "code",
   "execution_count": 3,
   "metadata": {},
   "outputs": [
    {
     "name": "stdout",
     "output_type": "stream",
     "text": [
      "o\n",
      "x o\n",
      "x x o\n",
      "x x x o\n",
      "x x x x o\n"
     ]
    }
   ],
   "source": [
    "# skapa en funktion som tar in ett heltal som N paramewter och skriver ut följande mösnter nedan \n",
    "\n",
    "def Myfunc(n):\n",
    "    for i in range(n):\n",
    "        print(i * \"x \"+ \"o\")\n",
    "\n",
    "Myfunc(5)"
   ]
  },
  {
   "cell_type": "code",
   "execution_count": 20,
   "metadata": {},
   "outputs": [
    {
     "name": "stdout",
     "output_type": "stream",
     "text": [
      "xxxxx\n",
      "xxxx\n",
      "xxx\n",
      "xx\n",
      "x\n"
     ]
    }
   ],
   "source": [
    "def rowww(io):\n",
    "    for i in range(io):\n",
    "        print('x ' * (io -i))\n",
    "\n",
    "rowww(5)"
   ]
  },
  {
   "cell_type": "code",
   "execution_count": 30,
   "metadata": {},
   "outputs": [
    {
     "name": "stdout",
     "output_type": "stream",
     "text": [
      "this is area 31.006276680299816, this is circumfernce 18.84955592153876\n"
     ]
    }
   ],
   "source": [
    "import math\n",
    "\n",
    "def radie(input):\n",
    "    if not isinstance(input,(int,float)):\n",
    "        raise ValueError('wrong')\n",
    "    elif input <= 0:\n",
    "        raise ValueError('eeth')\n",
    "    area = math.pi**input\n",
    "    circum = 2*math.pi * input\n",
    "\n",
    "    return print(f'this is area {area}, this is circumfernce {circum}')\n",
    "\n",
    "radie(3)\n",
    "                      "
   ]
  },
  {
   "cell_type": "code",
   "execution_count": 19,
   "metadata": {},
   "outputs": [
    {
     "name": "stdout",
     "output_type": "stream",
     "text": [
      "x x x x x \n",
      "x x x x \n",
      "x x x \n",
      "x x \n",
      "x \n"
     ]
    }
   ],
   "source": [
    "row = 5\n",
    "for i in range(row):\n",
    "\n",
    "    for j in range(row -i):\n",
    "        print('x', end=' ' )\n",
    "    print()\n",
    "\n",
    "## end bryter på mellanslag så när jag får 5 i rad kommer det bryta ner ett steg om jag addar spac"
   ]
  },
  {
   "cell_type": "code",
   "execution_count": 46,
   "metadata": {},
   "outputs": [
    {
     "name": "stdout",
     "output_type": "stream",
     "text": [
      "Tusenlappar =  3\n",
      "Tvåhundralappar =  0\n",
      "Tiokronor =  11\n",
      "Enkronor =  2\n"
     ]
    }
   ],
   "source": [
    "def exchange(value):\n",
    "    # Calculate the number of each denomination of currency\n",
    "    thousand_notes = value // 1000\n",
    "    value %= 1000\n",
    "    two_hundred_notes = value // 200\n",
    "    value %= 200\n",
    "    ten_coins = value // 10\n",
    "    value %= 10\n",
    "    one_coins = value\n",
    "\n",
    "    # Print the results\n",
    "    print(\"Tusenlappar = \", thousand_notes)\n",
    "    print(\"Tvåhundralappar = \", two_hundred_notes)\n",
    "    print(\"Tiokronor = \", ten_coins)\n",
    "    print(\"Enkronor = \", one_coins)\n",
    "\n",
    "exchange(3112)"
   ]
  },
  {
   "attachments": {},
   "cell_type": "markdown",
   "metadata": {},
   "source": [
    "<img src=\"areacic.png\" width=\"50%\" height=\"50%\">\n"
   ]
  },
  {
   "cell_type": "code",
   "execution_count": 6,
   "metadata": {},
   "outputs": [
    {
     "name": "stdout",
     "output_type": "stream",
     "text": [
      "this is the area: 3.141592653589793, this is the omkrets 6.283185307179586\n"
     ]
    }
   ],
   "source": [
    "# skriv en funktion som tar in en radie som inparametrar och som retunerar arean och omkrets av en cirkel \n",
    "\n",
    "import math as math\n",
    "\n",
    "def area_circu(radie):\n",
    "\n",
    "    if not isinstance(radie, (int, float)):\n",
    "        raise ValueError(\"area calc most be a number\")\n",
    "    elif radie <0:\n",
    "        raise TypeError(\"cant have negative number\")\n",
    "    \n",
    "    area = math.pi*radie**2\n",
    "    circu = 2*math.pi*radie\n",
    "\n",
    "    return print(f\"this is the area: {area}, this is the omkrets {circu}\") \n",
    "\n",
    "area_circu(1)"
   ]
  },
  {
   "attachments": {},
   "cell_type": "markdown",
   "metadata": {},
   "source": [
    "<img src=\"UPPGIFT.png\" width=\"50%\" height=\"50%\">\n",
    "\n"
   ]
  },
  {
   "cell_type": "code",
   "execution_count": 7,
   "metadata": {},
   "outputs": [
    {
     "name": "stdout",
     "output_type": "stream",
     "text": [
      "Person säger hej\n",
      "Student säger hej\n",
      "Person säger hej\n"
     ]
    }
   ],
   "source": [
    "class Person:\n",
    "    def hej(self):\n",
    "        print(\"Person säger hej\")\n",
    "\n",
    "class Student(Person):\n",
    "    def hej(self):\n",
    "        print(\"Student säger hej\")\n",
    "\n",
    "class Viking(Person):\n",
    "    def hoy(self):\n",
    "        print(\"Viking säger hoy\")\n",
    "\n",
    "for person in (Person(), Student(), Viking()):\n",
    "    person.hej()\n",
    "\n",
    "# jag tror det som kommer hända är att viking inte kommer säga hoy utan kommer säga \"person säger hej\"\n",
    "# pga av att hoy funktionen kallas aldirg \n",
    "# däremot kallas viking klassen vilket ärver från person classen som har en print \"person säger hej\"\n"
   ]
  },
  {
   "attachments": {},
   "cell_type": "markdown",
   "metadata": {},
   "source": [
    "<img src=\"exchange.png\" width=\"50%\" height=\"50%\">\n"
   ]
  },
  {
   "cell_type": "code",
   "execution_count": 8,
   "metadata": {},
   "outputs": [
    {
     "name": "stdout",
     "output_type": "stream",
     "text": [
      "test length:= 65536\n",
      "time = 0.9982271194458008\n",
      "TEST = 7731.0\n",
      "RESULT = [7.0, 3.0, 13.0, 1.0]\n",
      "time = 1.0102300643920898\n",
      "TEST = 7731.0\n",
      "RESULT = [7.0, 3.0, 13.0, 1.0]\n"
     ]
    }
   ],
   "source": [
    "import time\n",
    "import random as rnd\n",
    "import numpy as np\n",
    "import math\n",
    "\n",
    "value_list = [1000,200,10,1]\n",
    "\n",
    "def valuta_omvandling(money_amount):\n",
    "\n",
    "    result_list = [0]*len(value_list)\n",
    "\n",
    "    for value_index in range(len(value_list)):\n",
    "        result_list[value_index] = money_amount // value_list[value_index]    \n",
    "        money_amount %= value_list[value_index]\n",
    "\n",
    "    return result_list\n",
    "\n",
    "def valuta_omvandling2(money_amount):\n",
    "\n",
    "    result_list = [0]*len(value_list)\n",
    "\n",
    "    for value_index in range(len(value_list)):\n",
    "        result_list[value_index] = money_amount // value_list[value_index]    \n",
    "        money_amount -= value_list[value_index]*result_list[value_index]\n",
    "\n",
    "    return result_list\n",
    "\n",
    "#defining test\n",
    "TESTLENGTH = 2**16\n",
    "TESTREPS = 8\n",
    "TESTDATA_MAX = 20000\n",
    "print(\"test length:=\", TESTLENGTH)\n",
    "\n",
    "testdata = np.floor(np.random.rand(TESTLENGTH) * TESTDATA_MAX)\n",
    "testdata = list(testdata)\n",
    "resultatdata = [0]*TESTLENGTH\n",
    "\n",
    "#testing valuta_omvandling()\n",
    "start = time.time()\n",
    "for n in range(0,TESTREPS):\n",
    "    for index in range(len(testdata)):\n",
    "        resultatdata[index] = valuta_omvandling(testdata[index])\n",
    "end = time.time()\n",
    "\n",
    "print(\"time =\",end - start)\n",
    "print(\"TEST =\",testdata[0])\n",
    "print(\"RESULT =\",resultatdata[0])\n",
    "\n",
    "#testing valuta_omvandling2()\n",
    "start = time.time()\n",
    "for n in range(0, TESTREPS):\n",
    "    for index in range(len(testdata)):\n",
    "        resultatdata[index] = valuta_omvandling2(testdata[index])\n",
    "end = time.time()\n",
    "\n",
    "print(\"time =\",end - start)\n",
    "print(\"TEST =\",testdata[0])\n",
    "print(\"RESULT =\",resultatdata[0])\n"
   ]
  },
  {
   "cell_type": "code",
   "execution_count": 43,
   "metadata": {},
   "outputs": [
    {
     "name": "stdout",
     "output_type": "stream",
     "text": [
      "tusenlappar =  2\n",
      "tvåhundralappar =  1\n",
      "tiokrona =  2\n",
      "enkrona =  2\n"
     ]
    }
   ],
   "source": [
    "def exchange(value):\n",
    "    # value 2822\n",
    "    tussenlapp = (value//1000) \n",
    "    \n",
    "    temp_sum = value-tussenlapp*1000 # 222 tar bort tussenlappen\n",
    "\n",
    "    # print(temp_sum)\n",
    "\n",
    "    tvåhundralapp = (temp_sum//200) # 222/200 blir 1,11 pga av floor division avrundar vi ner det till 1 \n",
    "\n",
    "    temp_sum = temp_sum - tvåhundralapp *200 # detta gör det till 22\n",
    "\n",
    "    tiokrona = temp_sum//10 # vi delar det 22/10  vilket är 2.2 vi avrundar neråt\n",
    "    \n",
    "    enkrona = temp_sum-tiokrona*10# ger svaret 2\n",
    "\n",
    "    \n",
    "    \n",
    "    print(\"tusenlappar = \", tussenlapp)\n",
    "    print(\"tvåhundralappar = \", tvåhundralapp)\n",
    "    print(\"tiokrona = \", tiokrona)\n",
    "    print(\"enkrona = \", enkrona)\n",
    "\n",
    "\n",
    "\n",
    "exchange(2222)"
   ]
  },
  {
   "cell_type": "code",
   "execution_count": 45,
   "metadata": {},
   "outputs": [
    {
     "name": "stdout",
     "output_type": "stream",
     "text": [
      "Tusenlappar =  3\n",
      "Tvåhundralappar =  0\n",
      "Tiokronor =  11\n",
      "Enkronor =  2\n"
     ]
    }
   ],
   "source": [
    "def exchange(value):\n",
    "    # Calculate the number of each denomination of currency\n",
    "    thousand_notes = value // 1000\n",
    "    value %= 1000\n",
    "    two_hundred_notes = value // 200\n",
    "    value %= 200\n",
    "    ten_coins = value // 10\n",
    "    value %= 10\n",
    "    one_coins = value\n",
    "\n",
    "    # Print the results\n",
    "    print(\"Tusenlappar = \", thousand_notes)\n",
    "    print(\"Tvåhundralappar = \", two_hundred_notes)\n",
    "    print(\"Tiokronor = \", ten_coins)\n",
    "    print(\"Enkronor = \", one_coins)\n",
    "\n",
    "exchange(3112)"
   ]
  },
  {
   "cell_type": "code",
   "execution_count": null,
   "metadata": {},
   "outputs": [],
   "source": []
  },
  {
   "attachments": {},
   "cell_type": "markdown",
   "metadata": {},
   "source": [
    "<img src=\"operator.png\" width=\"50%\" height=\"50%\">\n"
   ]
  },
  {
   "cell_type": "code",
   "execution_count": 11,
   "metadata": {},
   "outputs": [],
   "source": [
    "## vi återkommer med denna jag vet inte hur jag ska göra overloaders "
   ]
  }
 ],
 "metadata": {
  "kernelspec": {
   "display_name": "Phyton-Max-Liedman-Dhn8FrUw",
   "language": "python",
   "name": "python3"
  },
  "language_info": {
   "codemirror_mode": {
    "name": "ipython",
    "version": 3
   },
   "file_extension": ".py",
   "mimetype": "text/x-python",
   "name": "python",
   "nbconvert_exporter": "python",
   "pygments_lexer": "ipython3",
   "version": "3.9.13"
  },
  "orig_nbformat": 4
 },
 "nbformat": 4,
 "nbformat_minor": 2
}
