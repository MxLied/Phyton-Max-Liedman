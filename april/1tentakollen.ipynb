{
 "cells": [
  {
   "cell_type": "code",
   "execution_count": 58,
   "metadata": {},
   "outputs": [
    {
     "data": {
      "text/plain": [
       "'nina'"
      ]
     },
     "execution_count": 58,
     "metadata": {},
     "output_type": "execute_result"
    }
   ],
   "source": [
    "husdjur= \"kanin\" # detta är en string \n",
    "meddelande = husdjur[::-1][:-1] # denna kommer reversea koden och tabort sista bokstaven i listan stringen?\n",
    "\n",
    "meddelande #det stämmer \n",
    "\n",
    "## ::-1 start, stop, step,"
   ]
  },
  {
   "cell_type": "code",
   "execution_count": 35,
   "metadata": {},
   "outputs": [
    {
     "name": "stdout",
     "output_type": "stream",
     "text": [
      "o\n",
      "x o\n",
      "x x o\n",
      "x x x o\n",
      "x x x x o\n"
     ]
    }
   ],
   "source": [
    "# skapa en funktion som tar in ett heltal som N paramewter och skriver ut följande mösnter nedan \n",
    "\n",
    "def Myfunc(n):\n",
    "    for i in range(n):\n",
    "        print(i * \"x \"+ \"o\")\n",
    "\n",
    "Myfunc(5)"
   ]
  },
  {
   "cell_type": "code",
   "execution_count": 134,
   "metadata": {},
   "outputs": [
    {
     "name": "stdout",
     "output_type": "stream",
     "text": [
      "x x x x x \n",
      "x x x x \n",
      "x x x \n",
      "x x \n",
      "x \n"
     ]
    }
   ],
   "source": [
    "row = 5\n",
    "for i in range(row):\n",
    "\n",
    "    for j in range(row -i):\n",
    "        print('x', end=' ' )\n",
    "    print()\n",
    "\n",
    "## end bryter på mellanslag så när jag får 5 i rad kommer det bryta ner ett steg om jag addar spac"
   ]
  },
  {
   "cell_type": "code",
   "execution_count": 167,
   "metadata": {},
   "outputs": [
    {
     "name": "stdout",
     "output_type": "stream",
     "text": [
      "this is the area: 3.141592653589793, this is the omkrets 6.283185307179586\n"
     ]
    }
   ],
   "source": [
    "# skriv en funktion som tar in en radie som inparametrar och som retunerar arean och omkrets av en cirkel \n",
    "\n",
    "import math as math\n",
    "\n",
    "def area_circu(radie):\n",
    "\n",
    "    if not isinstance(radie, (int, float)):\n",
    "        raise ValueError(\"area calc most be a number\")\n",
    "    elif radie <0:\n",
    "        raise TypeError(\"cant have negative number\")\n",
    "    \n",
    "    area = math.pi*radie**2\n",
    "    circu = 2*math.pi*radie\n",
    "\n",
    "    return print(f\"this is the area: {area}, this is the omkrets {circu}\") \n",
    "\n",
    "area_circu(1)"
   ]
  },
  {
   "attachments": {},
   "cell_type": "markdown",
   "metadata": {},
   "source": [
    "<img src=\"UPPGIFT.png\" width=\"50%\" height=\"50%\">\n",
    "\n"
   ]
  },
  {
   "cell_type": "code",
   "execution_count": null,
   "metadata": {},
   "outputs": [],
   "source": [
    "class Person:\n",
    "    def hej(self):\n",
    "        print(\"Person säger hej\")\n",
    "\n",
    "class Student(Person):\n",
    "    def hej(self):\n",
    "        print(\"Student säger hej\")\n",
    "\n",
    "class Viking(Person):\n",
    "    def hoy(self):\n",
    "        print(\"Viking säger hoy\")\n",
    "\n",
    "for person in (Person(), Student(), Viking()):\n",
    "    person.hej()\n",
    "\n",
    "# jag tror det som kommer hända är att viking inte kommer säga hoy utan kommer säga \"person säger hej\"\n",
    "# pga av att hoy funktionen kallas aldirg \n",
    "# däremot kallas viking klassen vilket ärver från person \n"
   ]
  },
  {
   "cell_type": "code",
   "execution_count": 259,
   "metadata": {},
   "outputs": [
    {
     "name": "stdout",
     "output_type": "stream",
     "text": [
      " tussenlapp 2\n",
      " två 4\n"
     ]
    }
   ],
   "source": [
    "def exchange(value):\n",
    "\n",
    "    tussenlapp = (value//1000)\n",
    "\n",
    "    temp_sum = value-tussenlapp*1000\n",
    "    tvåhundralapp = (temp_sum//200)\n",
    "    temp_sum = temp_sum - tvåhundralapp *200\n",
    "    \n",
    "    tiokrona\n",
    "    \n",
    "    \n",
    "    print(f\" tussenlapp {tussenlapp}\")\n",
    "    print(f\" två {tvåhundralapp}\")\n",
    "\n",
    "\n",
    "exchange(2800)"
   ]
  },
  {
   "cell_type": "code",
   "execution_count": null,
   "metadata": {},
   "outputs": [],
   "source": [
    "my_list =[3,1,1,4]\n"
   ]
  },
  {
   "cell_type": "code",
   "execution_count": 219,
   "metadata": {},
   "outputs": [
    {
     "data": {
      "text/plain": [
       "3"
      ]
     },
     "execution_count": 219,
     "metadata": {},
     "output_type": "execute_result"
    }
   ],
   "source": [
    "15 % 4"
   ]
  },
  {
   "cell_type": "code",
   "execution_count": 201,
   "metadata": {},
   "outputs": [
    {
     "name": "stdout",
     "output_type": "stream",
     "text": [
      "tusenlappar =  3\n",
      "tvåhundralappar =  0\n",
      "tiokrona =  11\n",
      "enkrona =  4\n"
     ]
    }
   ],
   "source": [
    "def converter(value):\n",
    "\n",
    "    tussenlappar    =  int(value/1000)\n",
    "    temp_sum            = value-tussenlappar*1000\n",
    "    tvåhundralappar =  int(temp_sum/200)\n",
    "    temp_sum            = temp_sum-tvåhundralappar*200\n",
    "    tiokrona        = int(temp_sum/10)\n",
    "    enkrona         = temp_sum-tiokrona*10\n",
    " \n",
    "\n",
    "    print(\"tusenlappar = \", tussenlappar)\n",
    "    print(\"tvåhundralappar = \", tvåhundralappar)\n",
    "    print(\"tiokrona = \", tiokrona)\n",
    "    print(\"enkrona = \", enkrona)\n",
    "\n",
    "\n",
    "    # temp_sum_str= str(x)\n",
    "    # for i in range(0,len(temp_sum_str)):\n",
    "    #     print(i)\n",
    "converter(3114)   "
   ]
  }
 ],
 "metadata": {
  "kernelspec": {
   "display_name": "Phyton-Max-Liedman-Dhn8FrUw",
   "language": "python",
   "name": "python3"
  },
  "language_info": {
   "codemirror_mode": {
    "name": "ipython",
    "version": 3
   },
   "file_extension": ".py",
   "mimetype": "text/x-python",
   "name": "python",
   "nbconvert_exporter": "python",
   "pygments_lexer": "ipython3",
   "version": "3.9.13"
  },
  "orig_nbformat": 4
 },
 "nbformat": 4,
 "nbformat_minor": 2
}
