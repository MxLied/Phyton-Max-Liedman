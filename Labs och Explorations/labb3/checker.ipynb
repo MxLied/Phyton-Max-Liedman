{
 "cells": [
  {
   "cell_type": "code",
   "execution_count": 1,
   "metadata": {},
   "outputs": [
    {
     "name": "stdout",
     "output_type": "stream",
     "text": [
      "The two rectangles are the SAME size\n",
      " width is: 2 and height is: 2, X-position is: 0 Y-position is: 0 == width is: 2 and height is: 2, X-position is: 4 Y-position is: 4, None\n",
      "((2, 2), 0, 0)\n",
      "width is: 2 and height is: 2, X-position is: 0 Y-position is: 0\n",
      "punkten är inom rektangeln\n",
      "It is a perceft square\n",
      "(1, 1, 1)\n",
      "Rectangles X-position is: 1 Y-position is: 1  the radius 1\n",
      "The two Circles are the SAME size\n",
      " Rectangles X-position is: 2 Y-position is: 2  the radius 1 == Rectangles X-position is: -2 Y-position is: -2  the radius 1, None\n",
      "The area is of the circle equals: 3.141592653589793\n",
      "The circumference is of the circle equals: 6.283185307179586\n",
      "The distance from the center of circle is :2.8284271247461903 units\n"
     ]
    },
    {
     "data": {
      "text/plain": [
       "<function matplotlib.pyplot.show(close=None, block=None)>"
      ]
     },
     "execution_count": 1,
     "metadata": {},
     "output_type": "execute_result"
    },
    {
     "data": {
      "image/png": "[encoded data removed]",
      "text/plain": [
       "<Figure size 640x480 with 1 Axes>"
      ]
     },
     "metadata": {},
     "output_type": "display_data"
    }
   ],
   "source": [
    "from __future__ import annotations\n",
    "\n",
    "from mother_of_shapes import Mother_Class_Of_Shapes\n",
    "from mother_of_shapes import Circle\n",
    "from mother_of_shapes import Rectangle\n",
    "import matplotlib.pyplot as plt\n",
    "import math\n",
    "\n",
    "############################## mother of shapes\n",
    "modershape = Mother_Class_Of_Shapes\n",
    "\n",
    "\n",
    "########################################## RECTANGLE ##################### #\n",
    "newRectangle = Rectangle(2, 2, 0, 0)\n",
    "                                     \n",
    "newRectange1 = Rectangle(2, 2, 4, 4)                                     \n",
    "                                                                         \n",
    "print(f\" {newRectangle} == {newRectange1}, {newRectangle==newRectange1}\")\n",
    "\n",
    "print(newRectangle.__repr__())               \n",
    "print(newRectangle.__str__())               \n",
    "newRectangle.point_plot(0,0)              \n",
    "newRectangle.plot()                       \n",
    "newRectange1.plot('r')                   \n",
    "newRectangle.Sqaure_checker() \n",
    "newRectange1.rectangle_area\n",
    "newRectange1.rectangle_circumference       \n",
    "########################################################################## #\n",
    "\n",
    "####################################### CIRCLE\n",
    "cirkel1 = Circle(1,1,1)\n",
    "print(cirkel1.__repr__())\n",
    "print(cirkel1.__str__())\n",
    "\n",
    "cirkel1.transalte(2,2)\n",
    "cirkel2 = Circle(1,-2,-2)\n",
    "print(f\" {cirkel1} == {cirkel2}, {cirkel1 == cirkel2}\")\n",
    "cirkel2.plot(\"r\")                          \n",
    "cirkel1.is_unit_circle()                         \n",
    "cirkel1.circle_area()                       \n",
    "cirkel1.circle_circumference()          \n",
    "######################################\n",
    "\n",
    "######################################          \n",
    "ax = cirkel1.plot()                 #\n",
    "cirkel1.point_plot(4,4)             #\n",
    "ax.set_aspect(1)                    #\n",
    "                                    #\n",
    "# ## axis                           #\n",
    "plt.box(False)                      #\n",
    "plt.axis([-5, 5, -5, 5])            #\n",
    "                                    #\n",
    "######################################\n",
    "plt.show"
   ]
  },
  {
   "cell_type": "code",
   "execution_count": null,
   "metadata": {},
   "outputs": [],
   "source": [
    "# if  (point_x_positioner > self.width >= square_in_dot):\n",
    "        #     print(\"hej2\")\n",
    "        # dot_in_square = (point_x_positioner + self.width/2) * ( point_y_positioner + self.height/2)\n",
    "        # print(dot_in_square)\n",
    "# if 60 <= efficiency < 80:\n",
    "#   and (point_y_positioner == self.center_point_y < self.height):\n",
    "## first two values creates square = (height, width), \n",
    "# last two valvues (rectangle mover in x-axis  from center of square), (rectangel mover in y-axis from center of square) \n",
    "# \n",
    "# from __future__ import annotations\n",
    "def __lt__(self, other):\n",
    "        \n",
    "        return self.area < other.area\n",
    "\n",
    "def __gt__(self, other):\n",
    "        \n",
    "        return self.area > other.area\n",
    "\n",
    "def __le__(self, other):\n",
    "        \n",
    "        return self.area <= other.area\n",
    "\n",
    "def __ge__(self, other):\n",
    "        \n",
    "        return self.area >= other.area\n",
    "\n",
    "def __ne__(self, other): \n",
    "      \n",
    "        return self.area != other.area\n",
    "   "
   ]
  },
  {
   "cell_type": "code",
   "execution_count": null,
   "metadata": {},
   "outputs": [],
   "source": [
    "\n",
    "\n",
    "\n",
    "# cirkel1.plot()\n",
    "# plt.axis([-5, 5, -5, 5])\n",
    "\n",
    "# plt.axis([-5, 5, -5, 5])\n",
    "\n"
   ]
  },
  {
   "cell_type": "code",
   "execution_count": null,
   "metadata": {},
   "outputs": [
    {
     "data": {
      "text/plain": [
       "[<matplotlib.lines.Line2D at 0x1b1c6590970>]"
      ]
     },
     "execution_count": 14,
     "metadata": {},
     "output_type": "execute_result"
    },
    {
     "data": {
      "image/png": "[encoded data removed]",
      "text/plain": [
       "<Figure size 640x480 with 1 Axes>"
      ]
     },
     "metadata": {},
     "output_type": "display_data"
    }
   ],
   "source": [
    "plt.plot(0,0,'r') "
   ]
  },
  {
   "cell_type": "code",
   "execution_count": null,
   "metadata": {},
   "outputs": [],
   "source": [
    "# import numpy as np \n",
    "# import matplotlib.pyplot as plt \n",
    " \n",
    "# angle = np.linspace( 0 , 2 * np.pi , 150 ) \n",
    " \n",
    "# radius = 5\n",
    " \n",
    "# x = radius * np.cos( angle ) \n",
    "# y = radius * np.sin( angle ) \n",
    " \n",
    "# figure, axes = plt.subplots( 1 ) \n",
    " \n",
    "# axes.plot( x, y ) \n",
    "# axes.set_aspect( 1 ) \n",
    " \n",
    "# plt.title( 'Parametric Equation Circle' ) \n",
    "# plt.show() "
   ]
  },
  {
   "cell_type": "code",
   "execution_count": null,
   "metadata": {},
   "outputs": [
    {
     "name": "stdout",
     "output_type": "stream",
     "text": [
      "3.141592653589793\n",
      "6.283185307179586\n",
      "plotter is running\n"
     ]
    },
    {
     "data": {
      "image/png": "[encoded data removed]",
      "text/plain": [
       "<Figure size 640x480 with 1 Axes>"
      ]
     },
     "metadata": {},
     "output_type": "display_data"
    }
   ],
   "source": [
    "import matplotlib.pyplot as plt\n",
    "import math\n",
    "\n",
    "class Circle():\n",
    "    def __init__(self, radius, center_point_x,  center_point_y ):\n",
    "        self.radius = radius\n",
    "        self.center_point_x = center_point_x\n",
    "        self.center_point_y = center_point_y\n",
    "\n",
    "    \n",
    "    def circle_area(self):\n",
    "        return print(math.pi * self.radius**2)\n",
    "    \n",
    "    def circle_circumference(self):\n",
    "        return print(2 * math.pi * self.radius**2)\n",
    "\n",
    "     ##  ## moves square in axis \n",
    "    def transalte(self, x_offsett, y_offsett):\n",
    "        self.center_point_x = x_offsett\n",
    "        self.center_point_y = y_offsett\n",
    "\n",
    "    def plot(self, color = 'k'):\n",
    "        print(\"plotter is running\")\n",
    "        circle_plot_object = plt.Circle((self.center_point_x, self.center_point_y), self.radius, color = color)\n",
    "        \n",
    "        fig = plt.gcf()\n",
    "        ax = fig.gca()\n",
    "\n",
    "        ax.add_patch(circle_plot_object)\n",
    "        return ax\n",
    "    \n",
    "\n",
    "\n",
    "        \n",
    "        \n",
    "cirkel1 = Circle(1,3,3)\n",
    "\n",
    "cirkel1.circle_area()\n",
    "cirkel1.circle_circumference()\n",
    "\n",
    "\n",
    "\n",
    "#cirkel1.plot()\n",
    "\n",
    "plt.axis([-5, 5, -5, 5])\n",
    "ax = cirkel1.plot()\n",
    "ax.set_aspect(1)\n",
    "\n",
    "\n",
    "# cirkel1.plot()\n",
    "# plt.axis([-5, 5, -5, 5])\n",
    "\n",
    "# plt.axis([-5, 5, -5, 5])\n",
    "\n",
    "\n",
    "\n",
    "\n",
    "\n",
    "\n",
    "\n",
    "        \n",
    "\n",
    "\n"
   ]
  },
  {
   "cell_type": "code",
   "execution_count": null,
   "metadata": {},
   "outputs": [],
   "source": [
    "# def plot(self):\n",
    "#         print(\"plotter is running\")\n",
    "#         horn_x = self.mittpunkt_x -(self.width/2)\n",
    "#         horn_y = self.mittpunkt_y -(self.height/2)\n",
    "#         ## plots första vågräta linjenen\n",
    "#         punkt1 = [horn_x, horn_y]\n",
    "#         punkt2 = [self.width+horn_x, horn_y]\n",
    "#         plt.plot([punkt1[0], punkt2[0]], [punkt1[1], punkt2[1]], c = 'b')\n",
    "\n",
    "#         punkt1 = [horn_x, self.height+horn_y]\n",
    "#         punkt2 = [self.width+horn_x, self.height+horn_y]\n",
    "#         plt.plot([punkt1[0], punkt2[0]], [punkt1[1], punkt2[1]], c = 'b')\n",
    "\n",
    "#         #Lodrätt \n",
    "#         punkt1 = [horn_x,horn_y]\n",
    "#         punkt2 = [horn_x,self.height+horn_y]\n",
    "#         plt.plot([punkt1[0], punkt2[0]], [punkt1[1], punkt2[1]], c = 'r')\n",
    "\n",
    "#         #Lodrätt \n",
    "#         punkt1 = [self.width+horn_x, horn_y]\n",
    "#         punkt2 = [self.width+horn_x, self.height + horn_y]\n",
    "#         plt.plot([punkt1[0], punkt2[0]], [punkt1[1], punkt2[1]], c = 'r')\n",
    "#         return\n"
   ]
  },
  {
   "cell_type": "code",
   "execution_count": null,
   "metadata": {},
   "outputs": [
    {
     "data": {
      "text/plain": [
       "[<matplotlib.lines.Line2D at 0x1b1c6830820>]"
      ]
     },
     "execution_count": 18,
     "metadata": {},
     "output_type": "execute_result"
    },
    {
     "data": {
      "image/png": "[encoded data removed]",
      "text/plain": [
       "<Figure size 640x480 with 1 Axes>"
      ]
     },
     "metadata": {},
     "output_type": "display_data"
    }
   ],
   "source": [
    "\n",
    "\n",
    "# punkt1 = [0,1]\n",
    "# punkt2 = [2,3]\n",
    "# plt.plot([punkt1[0], punkt2[0]], [punkt1[1], punkt2[1]], c = 'b')\n",
    "\n",
    "##lodrätt\n",
    "# punkt1 = [0,0]\n",
    "# punkt2 = [2,0]\n",
    "# plt.plot([punkt1[0], punkt2[0]], [punkt1[1], punkt2[1]], c = 'b')\n",
    "\n",
    "###########################################\n",
    "#################################################################################################\n",
    "# height = 1\n",
    "# width = 2\n",
    "\n",
    "# ## plots första vågräta linjenen\n",
    "# punkt1 = [0,0]\n",
    "# punkt2 = [width,0]\n",
    "# plt.plot([punkt1[0], punkt2[0]], [punkt1[1], punkt2[1]], c = 'b')\n",
    "\n",
    "# punkt1 = [0,height]\n",
    "# punkt2 = [width,height]\n",
    "# plt.plot([punkt1[0], punkt2[0]], [punkt1[1], punkt2[1]], c = 'b')\n",
    "\n",
    "# #Lodrätt \n",
    "# punkt1 = [0,0]\n",
    "# punkt2 = [0,height]\n",
    "# plt.plot([punkt1[0], punkt2[0]], [punkt1[1], punkt2[1]], c = 'r')\n",
    "\n",
    "# #Lodrätt \n",
    "# punkt1 = [width,0]\n",
    "# punkt2 = [width,height]\n",
    "# plt.plot([punkt1[0], punkt2[0]], [punkt1[1], punkt2[1]], c = 'r')\n",
    "\n",
    "\n",
    "###################################################################################\n",
    "height = 1\n",
    "width = 2\n",
    "\n",
    "x_offsett = 0\n",
    "y_offsett = 1\n",
    "\n",
    "## plots första vågräta linjenen\n",
    "punkt1 = [x_offsett, y_offsett]\n",
    "punkt2 = [width+x_offsett, y_offsett]\n",
    "plt.plot([punkt1[0], punkt2[0]], [punkt1[1], punkt2[1]], c = 'b')\n",
    "\n",
    "punkt1 = [x_offsett, height+y_offsett]\n",
    "punkt2 = [width+x_offsett, height+y_offsett]\n",
    "plt.plot([punkt1[0], punkt2[0]], [punkt1[1], punkt2[1]], c = 'b')\n",
    "\n",
    "#Lodrätt \n",
    "punkt1 = [x_offsett,y_offsett]\n",
    "punkt2 = [x_offsett,height+y_offsett]\n",
    "plt.plot([punkt1[0], punkt2[0]], [punkt1[1], punkt2[1]], c = 'r')\n",
    "\n",
    "#Lodrätt \n",
    "punkt1 = [width+x_offsett, y_offsett]\n",
    "punkt2 = [width+x_offsett,height + y_offsett]\n",
    "plt.plot([punkt1[0], punkt2[0]], [punkt1[1], punkt2[1]], c = 'r')"
   ]
  }
 ],
 "metadata": {
  "kernelspec": {
   "display_name": "Python 3.9.13 ('Phyton-Max-Liedman-Dhn8FrUw')",
   "language": "python",
   "name": "python3"
  },
  "language_info": {
   "codemirror_mode": {
    "name": "ipython",
    "version": 3
   },
   "file_extension": ".py",
   "mimetype": "text/x-python",
   "name": "python",
   "nbconvert_exporter": "python",
   "pygments_lexer": "ipython3",
   "version": "3.9.13"
  },
  "orig_nbformat": 4,
  "vscode": {
   "interpreter": {
    "hash": "e6ae1db9ac282e66ec34367a04cdc80b6d45f487d98c91d3d2315d0145e802be"
   }
  }
 },
 "nbformat": 4,
 "nbformat_minor": 2
}
