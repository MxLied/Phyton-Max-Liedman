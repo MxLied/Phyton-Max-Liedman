{
 "cells": [
  {
   "cell_type": "code",
   "execution_count": 306,
   "metadata": {},
   "outputs": [
    {
     "name": "stdout",
     "output_type": "stream",
     "text": [
      "punkten är inom rektangeln\n",
      "plotter is running\n",
      "It is a perceft square\n"
     ]
    },
    {
     "data": {
      "text/plain": [
       "(-5.0, 5.0, -5.0, 5.0)"
      ]
     },
     "execution_count": 306,
     "metadata": {},
     "output_type": "execute_result"
    },
    {
     "data": {
      "image/png": "[encoded data removed]",
      "text/plain": [
       "<Figure size 640x480 with 1 Axes>"
      ]
     },
     "metadata": {},
     "output_type": "display_data"
    }
   ],
   "source": [
    "\n",
    "import matplotlib.pyplot as plt \n",
    "#TODO  make better named varibales, \n",
    "#TODO comment code, \n",
    "#TODO describe the order how it creates a square the logic behind thelists\n",
    "\n",
    "class Rectangle(): \n",
    "    \"\"\"Creates rectangle, plots rectangle calculates area, calculates circumference\"\"\"\n",
    "    def __init__(self, height:float, width:float, center_point_x:float, center_point_y:float):\n",
    "        \n",
    "        self.height = height\n",
    "        self.width = width\n",
    "        self.center_point_x = center_point_x\n",
    "        self.center_point_y = center_point_y\n",
    "\n",
    " ##  ## calculates area\n",
    "    def rectangle_area(self):\n",
    "        print(\"The Area of the square is:\")\n",
    "        return self.height*self.width\n",
    "\n",
    " ##  ## Calucalte circumference\n",
    "    def rectangle_circumference(self):\n",
    "        print(\"The circumference is:\")\n",
    "        return self.height*2+self.width*2\n",
    "\n",
    " ##  ## moves square in axis \n",
    "    def transalte(self, x_offsett, y_offsett):\n",
    "        self.center_point_x = x_offsett\n",
    "        self.center_point_y = y_offsett\n",
    "\n",
    " ##  ## Check if it is a square \n",
    "    def Sqaure_checker(self):\n",
    "        if self.width == self.height:\n",
    "            return print(\"It is a perceft square\")\n",
    "        else: return print(\"It is a rectangle but not a square\")\n",
    "        \n",
    "## ## creates rectangle in matplotlib\n",
    "###  ### colour = coloring of rectangle as example, newRectangle.plot('b') defualt colour is black \n",
    "    def plot(self, colour = 'k'):\n",
    "        print(\"plotter is running\")\n",
    "\n",
    "        cornor_of_x = self.center_point_x -(self.width/2)\n",
    "        cornor_of_y = self.center_point_y -(self.height/2)\n",
    "    \n",
    "        x_list = [cornor_of_x, cornor_of_x, self.width + cornor_of_x, self.width + cornor_of_x, cornor_of_x]\n",
    "        \n",
    "        y_list = [cornor_of_y, cornor_of_y + self.height, cornor_of_y + self.height, cornor_of_y, cornor_of_y]\n",
    "\n",
    "        plt.plot(x_list, y_list, c = colour, alpha = 0.7)\n",
    "\n",
    "## ## looks if two rectangles are the same size\n",
    "    def __eq__(self, value): ##  Code heavily inspierd by Daniel Nillson: exercise 12 fractions\n",
    "        if (self.width == value.width) and (self.height == value.height):\n",
    "            return print(\"The two rectangles are the SAME size\")\n",
    "        else: return print (\"The two rectangles are NOT the same size\")\n",
    "\n",
    "    def point_plot(self, point_x_positioner, point_y_positioner):\n",
    "\n",
    "        ## plotter\n",
    "        single_plot_point = plt.plot(point_x_positioner,point_y_positioner,'bo') \n",
    "        \n",
    "        ##  Andreas Svensson hjälpte mig ↓↓↓↓\n",
    "        ### \n",
    "        if  (self.center_point_x - self.width/2  <= point_x_positioner <= self.center_point_x + self.width/2 and \n",
    "             self.center_point_y - self.height/2  <= point_y_positioner <= self.center_point_y + self.height/2 ):\n",
    "            print(\"punkten är inom rektangeln\")\n",
    "\n",
    "         \n",
    "newRectangle = Rectangle(2, 2, 1, 1)\n",
    "# newRectange1 = Rectangle(2, 2, 0,0)\n",
    "\n",
    "# print(f\" {newRectangle} == {newRectange1}, {newRectangle==newRectange1}\")\n",
    "# newRectange1.plot('r')\n",
    "\n",
    "#calculates area\n",
    "# newRectangle.transalte(0,0)\n",
    "\n",
    "newRectangle.point_plot(2,1.9)\n",
    "newRectangle.plot()\n",
    "newRectangle.Sqaure_checker()\n",
    "\n",
    "## move square in axis \n",
    "\n",
    "# newRectangle.plot()\n",
    "\n",
    "\n",
    "# ## axis\n",
    "plt.box(False)\n",
    "plt.axis([-5, 5, -5, 5])\n",
    "\n",
    "## PLT.SHOW\n",
    "\n",
    "#TODO getter and setter\n",
    "\n",
    "\n",
    "\n"
   ]
  },
  {
   "cell_type": "code",
   "execution_count": null,
   "metadata": {},
   "outputs": [],
   "source": [
    "# if  (point_x_positioner > self.width >= square_in_dot):\n",
    "        #     print(\"hej2\")\n",
    "        # dot_in_square = (point_x_positioner + self.width/2) * ( point_y_positioner + self.height/2)\n",
    "        # print(dot_in_square)\n",
    "# if 60 <= efficiency < 80:\n",
    "#   and (point_y_positioner == self.center_point_y < self.height):\n",
    "## first two values creates square = (height, width), \n",
    "# last two valvues (rectangle mover in x-axis  from center of square), (rectangel mover in y-axis from center of square)    "
   ]
  },
  {
   "cell_type": "code",
   "execution_count": 1,
   "metadata": {},
   "outputs": [
    {
     "name": "stdout",
     "output_type": "stream",
     "text": [
      "Its a unit-circle\n",
      "3.141592653589793\n",
      "6.283185307179586\n",
      "plotter is running\n",
      "The distance from the center of circle is :5.408326913195984 units\n"
     ]
    },
    {
     "data": {
      "image/png": "[encoded data removed]",
      "text/plain": [
       "<Figure size 640x480 with 1 Axes>"
      ]
     },
     "metadata": {},
     "output_type": "display_data"
    }
   ],
   "source": [
    "\n",
    "import matplotlib.pyplot as plt\n",
    "import math\n",
    "\n",
    "class Circle():\n",
    "    def __init__(self, radius, center_point_x,  center_point_y ):\n",
    "        self.radius = radius\n",
    "        self.center_point_x = center_point_x\n",
    "        self.center_point_y = center_point_y\n",
    "\n",
    "    \n",
    "    def circle_area(self):\n",
    "        return print(math.pi * self.radius**2)\n",
    "    \n",
    "    def circle_circumference(self):\n",
    "        return print(2 * math.pi * self.radius**2)\n",
    "\n",
    "     ##  ## moves square in axis \n",
    "    def transalte(self, x_offsett, y_offsett):\n",
    "        self.center_point_x = x_offsett\n",
    "        self.center_point_y = y_offsett\n",
    "\n",
    "    def plot(self, color = 'k'):\n",
    "        print(\"plotter is running\")\n",
    "        circle_plot_object = plt.Circle((self.center_point_x, self.center_point_y), self.radius, color = color, alpha=0.7)\n",
    "        \n",
    "        fig = plt.gcf()\n",
    "        ax = fig.gca()\n",
    "\n",
    "        ax.add_patch(circle_plot_object)\n",
    "        return ax\n",
    "    \n",
    "    def point_plot(self, point_x_positioner, point_y_positioner):\n",
    "        ## plotter\n",
    "        single_plot_point = plt.plot(point_x_positioner,point_y_positioner,'bo') \n",
    "\n",
    "        ## Calculates ecludian\n",
    "        dista = math.dist((self.center_point_x, self.center_point_y), (point_x_positioner, point_y_positioner))\n",
    "        \n",
    "        if (dista < self.radius):\n",
    "            print(f\"The distance from the center of circle is :{dista} uints, the point is inside of the circle\")\n",
    "        else: \n",
    "            print(f\"The distance from the center of circle is :{dista} units\")\n",
    "    \n",
    "    def is_unit_circle(self):\n",
    "        if ((self.center_point_y | self.center_point_x == 0) and (self.radius == 1)):\n",
    "            print(\"Its a unit-circle\")\n",
    "\n",
    "    def __eq__(self, value): ##  Code heavily inspierd by Daniel Nillson: exercise 12 fractions\n",
    "        if (self.radius == value.radius):\n",
    "            return print(\"The two Circles are the SAME size\")\n",
    "        else: return print (\"The two Circles are NOT the same size\")\n",
    "        \n",
    "\n",
    "cirkel1 = Circle(1,0,0)\n",
    "# cirkel2 = Circle(1,0,0)\n",
    "# print(f\" {cirkel1} == {cirkel2}, {cirkel1 == cirkel2}\")\n",
    "# cirkel2.plot(\"r\")\n",
    "cirkel1.is_unit_circle()\n",
    "cirkel1.circle_area()\n",
    "cirkel1.circle_circumference()\n",
    "\n",
    "\n",
    "\n",
    "#cirkel1.plot()\n",
    "\n",
    "\n",
    "\n",
    "plt.axis([-5, 5, -5, 5])\n",
    "ax = cirkel1.plot()\n",
    "cirkel1.point_plot(4.5,3)\n",
    "ax.set_aspect(1)\n",
    "\n",
    "\n",
    "# cirkel1.plot()\n",
    "# plt.axis([-5, 5, -5, 5])\n",
    "\n",
    "# plt.axis([-5, 5, -5, 5])\n",
    "\n"
   ]
  },
  {
   "cell_type": "code",
   "execution_count": 13,
   "metadata": {},
   "outputs": [
    {
     "data": {
      "text/plain": [
       "[<matplotlib.lines.Line2D at 0x238f296d4f0>]"
      ]
     },
     "execution_count": 13,
     "metadata": {},
     "output_type": "execute_result"
    },
    {
     "data": {
      "image/png": "[encoded data removed]",
      "text/plain": [
       "<Figure size 640x480 with 1 Axes>"
      ]
     },
     "metadata": {},
     "output_type": "display_data"
    }
   ],
   "source": [
    "plt.plot(0,0,'r') "
   ]
  },
  {
   "cell_type": "code",
   "execution_count": 99,
   "metadata": {},
   "outputs": [],
   "source": [
    "# import numpy as np \n",
    "# import matplotlib.pyplot as plt \n",
    " \n",
    "# angle = np.linspace( 0 , 2 * np.pi , 150 ) \n",
    " \n",
    "# radius = 5\n",
    " \n",
    "# x = radius * np.cos( angle ) \n",
    "# y = radius * np.sin( angle ) \n",
    " \n",
    "# figure, axes = plt.subplots( 1 ) \n",
    " \n",
    "# axes.plot( x, y ) \n",
    "# axes.set_aspect( 1 ) \n",
    " \n",
    "# plt.title( 'Parametric Equation Circle' ) \n",
    "# plt.show() "
   ]
  },
  {
   "cell_type": "code",
   "execution_count": 3,
   "metadata": {},
   "outputs": [
    {
     "name": "stdout",
     "output_type": "stream",
     "text": [
      "3.141592653589793\n",
      "6.283185307179586\n",
      "plotter is running\n"
     ]
    },
    {
     "data": {
      "image/png": "[encoded data removed]",
      "text/plain": [
       "<Figure size 640x480 with 1 Axes>"
      ]
     },
     "metadata": {},
     "output_type": "display_data"
    }
   ],
   "source": [
    "import matplotlib.pyplot as plt\n",
    "import math\n",
    "\n",
    "class Circle():\n",
    "    def __init__(self, radius, center_point_x,  center_point_y ):\n",
    "        self.radius = radius\n",
    "        self.center_point_x = center_point_x\n",
    "        self.center_point_y = center_point_y\n",
    "\n",
    "    \n",
    "    def circle_area(self):\n",
    "        return print(math.pi * self.radius**2)\n",
    "    \n",
    "    def circle_circumference(self):\n",
    "        return print(2 * math.pi * self.radius**2)\n",
    "\n",
    "     ##  ## moves square in axis \n",
    "    def transalte(self, x_offsett, y_offsett):\n",
    "        self.center_point_x = x_offsett\n",
    "        self.center_point_y = y_offsett\n",
    "\n",
    "    def plot(self, color = 'k'):\n",
    "        print(\"plotter is running\")\n",
    "        circle_plot_object = plt.Circle((self.center_point_x, self.center_point_y), self.radius, color = color)\n",
    "        \n",
    "        fig = plt.gcf()\n",
    "        ax = fig.gca()\n",
    "\n",
    "        ax.add_patch(circle_plot_object)\n",
    "        return ax\n",
    "    \n",
    "\n",
    "\n",
    "        \n",
    "        \n",
    "cirkel1 = Circle(1,3,3)\n",
    "\n",
    "cirkel1.circle_area()\n",
    "cirkel1.circle_circumference()\n",
    "\n",
    "\n",
    "\n",
    "#cirkel1.plot()\n",
    "\n",
    "plt.axis([-5, 5, -5, 5])\n",
    "ax = cirkel1.plot()\n",
    "ax.set_aspect(1)\n",
    "\n",
    "\n",
    "# cirkel1.plot()\n",
    "# plt.axis([-5, 5, -5, 5])\n",
    "\n",
    "# plt.axis([-5, 5, -5, 5])\n",
    "\n",
    "\n",
    "\n",
    "\n",
    "\n",
    "\n",
    "\n",
    "        \n",
    "\n",
    "\n"
   ]
  },
  {
   "cell_type": "code",
   "execution_count": null,
   "metadata": {},
   "outputs": [],
   "source": [
    "# def plot(self):\n",
    "#         print(\"plotter is running\")\n",
    "#         horn_x = self.mittpunkt_x -(self.width/2)\n",
    "#         horn_y = self.mittpunkt_y -(self.height/2)\n",
    "#         ## plots första vågräta linjenen\n",
    "#         punkt1 = [horn_x, horn_y]\n",
    "#         punkt2 = [self.width+horn_x, horn_y]\n",
    "#         plt.plot([punkt1[0], punkt2[0]], [punkt1[1], punkt2[1]], c = 'b')\n",
    "\n",
    "#         punkt1 = [horn_x, self.height+horn_y]\n",
    "#         punkt2 = [self.width+horn_x, self.height+horn_y]\n",
    "#         plt.plot([punkt1[0], punkt2[0]], [punkt1[1], punkt2[1]], c = 'b')\n",
    "\n",
    "#         #Lodrätt \n",
    "#         punkt1 = [horn_x,horn_y]\n",
    "#         punkt2 = [horn_x,self.height+horn_y]\n",
    "#         plt.plot([punkt1[0], punkt2[0]], [punkt1[1], punkt2[1]], c = 'r')\n",
    "\n",
    "#         #Lodrätt \n",
    "#         punkt1 = [self.width+horn_x, horn_y]\n",
    "#         punkt2 = [self.width+horn_x, self.height + horn_y]\n",
    "#         plt.plot([punkt1[0], punkt2[0]], [punkt1[1], punkt2[1]], c = 'r')\n",
    "#         return\n"
   ]
  },
  {
   "cell_type": "code",
   "execution_count": 44,
   "metadata": {},
   "outputs": [
    {
     "data": {
      "text/plain": [
       "[<matplotlib.lines.Line2D at 0x1aae8ae20d0>]"
      ]
     },
     "execution_count": 44,
     "metadata": {},
     "output_type": "execute_result"
    },
    {
     "data": {
      "image/png": "[encoded data removed]",
      "text/plain": [
       "<Figure size 640x480 with 1 Axes>"
      ]
     },
     "metadata": {},
     "output_type": "display_data"
    }
   ],
   "source": [
    "\n",
    "\n",
    "# punkt1 = [0,1]\n",
    "# punkt2 = [2,3]\n",
    "# plt.plot([punkt1[0], punkt2[0]], [punkt1[1], punkt2[1]], c = 'b')\n",
    "\n",
    "##lodrätt\n",
    "# punkt1 = [0,0]\n",
    "# punkt2 = [2,0]\n",
    "# plt.plot([punkt1[0], punkt2[0]], [punkt1[1], punkt2[1]], c = 'b')\n",
    "\n",
    "###########################################\n",
    "#################################################################################################\n",
    "# height = 1\n",
    "# width = 2\n",
    "\n",
    "# ## plots första vågräta linjenen\n",
    "# punkt1 = [0,0]\n",
    "# punkt2 = [width,0]\n",
    "# plt.plot([punkt1[0], punkt2[0]], [punkt1[1], punkt2[1]], c = 'b')\n",
    "\n",
    "# punkt1 = [0,height]\n",
    "# punkt2 = [width,height]\n",
    "# plt.plot([punkt1[0], punkt2[0]], [punkt1[1], punkt2[1]], c = 'b')\n",
    "\n",
    "# #Lodrätt \n",
    "# punkt1 = [0,0]\n",
    "# punkt2 = [0,height]\n",
    "# plt.plot([punkt1[0], punkt2[0]], [punkt1[1], punkt2[1]], c = 'r')\n",
    "\n",
    "# #Lodrätt \n",
    "# punkt1 = [width,0]\n",
    "# punkt2 = [width,height]\n",
    "# plt.plot([punkt1[0], punkt2[0]], [punkt1[1], punkt2[1]], c = 'r')\n",
    "\n",
    "\n",
    "###################################################################################\n",
    "height = 1\n",
    "width = 2\n",
    "\n",
    "x_offsett = 0\n",
    "y_offsett = 1\n",
    "\n",
    "## plots första vågräta linjenen\n",
    "punkt1 = [x_offsett, y_offsett]\n",
    "punkt2 = [width+x_offsett, y_offsett]\n",
    "plt.plot([punkt1[0], punkt2[0]], [punkt1[1], punkt2[1]], c = 'b')\n",
    "\n",
    "punkt1 = [x_offsett, height+y_offsett]\n",
    "punkt2 = [width+x_offsett, height+y_offsett]\n",
    "plt.plot([punkt1[0], punkt2[0]], [punkt1[1], punkt2[1]], c = 'b')\n",
    "\n",
    "#Lodrätt \n",
    "punkt1 = [x_offsett,y_offsett]\n",
    "punkt2 = [x_offsett,height+y_offsett]\n",
    "plt.plot([punkt1[0], punkt2[0]], [punkt1[1], punkt2[1]], c = 'r')\n",
    "\n",
    "#Lodrätt \n",
    "punkt1 = [width+x_offsett, y_offsett]\n",
    "punkt2 = [width+x_offsett,height + y_offsett]\n",
    "plt.plot([punkt1[0], punkt2[0]], [punkt1[1], punkt2[1]], c = 'r')"
   ]
  }
 ],
 "metadata": {
  "kernelspec": {
   "display_name": "Python 3.9.13 ('Phyton-Max-Liedman-Dhn8FrUw')",
   "language": "python",
   "name": "python3"
  },
  "language_info": {
   "codemirror_mode": {
    "name": "ipython",
    "version": 3
   },
   "file_extension": ".py",
   "mimetype": "text/x-python",
   "name": "python",
   "nbconvert_exporter": "python",
   "pygments_lexer": "ipython3",
   "version": "3.9.13"
  },
  "orig_nbformat": 4,
  "vscode": {
   "interpreter": {
    "hash": "e6ae1db9ac282e66ec34367a04cdc80b6d45f487d98c91d3d2315d0145e802be"
   }
  }
 },
 "nbformat": 4,
 "nbformat_minor": 2
}
