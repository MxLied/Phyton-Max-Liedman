{
 "cells": [
  {
   "cell_type": "code",
   "execution_count": 134,
   "metadata": {},
   "outputs": [
    {
     "name": "stdout",
     "output_type": "stream",
     "text": [
      "plotter is running\n",
      "transaltor is running\n",
      "plotter is running\n"
     ]
    },
    {
     "data": {
      "text/plain": [
       "(-5.0, 5.0, -5.0, 5.0)"
      ]
     },
     "execution_count": 134,
     "metadata": {},
     "output_type": "execute_result"
    },
    {
     "data": {
      "image/png": "[encoded data removed]",
      "text/plain": [
       "<Figure size 640x480 with 1 Axes>"
      ]
     },
     "metadata": {},
     "output_type": "display_data"
    }
   ],
   "source": [
    "import matplotlib.pyplot as plt \n",
    "import time \n",
    "class Rectangle():\n",
    "    def __init__(self, height, width, mittpunkt_x, mittpunkt_y):\n",
    "        self.height = height\n",
    "        self.width  = width\n",
    "        self.mittpunkt_x = mittpunkt_x\n",
    "        self.mittpunkt_y = mittpunkt_y\n",
    "\n",
    "    def rectangle_area(self):\n",
    "        return self.height*self.width\n",
    "\n",
    "    def transalte(self, x_offsett, y_offsett):\n",
    "        print(\"transaltor is running\")\n",
    "        self.mittpunkt_x = x_offsett\n",
    "        self.mittpunkt_y = y_offsett\n",
    "        return \n",
    "    \n",
    "    ### colour = coloring of rectangle as example, newRectangle.plot('b')\n",
    "    def plot(self, colour = 'k'):\n",
    "        print(\"plotter is running\")\n",
    "        #TODO \n",
    "        horn_x = self.mittpunkt_x -(self.width/2)\n",
    "        horn_y = self.mittpunkt_y -(self.height/2)\n",
    "    \n",
    "        x_list = [horn_x, horn_x, self.width + horn_x, self.width + horn_x, horn_x]\n",
    "        \n",
    "        y_list = [horn_y, horn_y + self.height, horn_y + self.height, horn_y, horn_y]\n",
    "\n",
    "        plt.plot(x_list, y_list, c = colour)\n",
    "        return\n",
    "\n",
    "    \n",
    "    \n",
    "newRectangle = Rectangle(3, 3, 0, 0)\n",
    "newRectangle.plot('r')\n",
    "newRectangle.transalte(0,0)\n",
    "newRectangle.plot()\n",
    "# plt.autoscale\n",
    "plt.axis([-5, 5, -5, 5])\n",
    "\n",
    "\n"
   ]
  },
  {
   "cell_type": "code",
   "execution_count": null,
   "metadata": {},
   "outputs": [],
   "source": [
    "# def plot(self):\n",
    "#         print(\"plotter is running\")\n",
    "#         horn_x = self.mittpunkt_x -(self.width/2)\n",
    "#         horn_y = self.mittpunkt_y -(self.height/2)\n",
    "#         ## plots första vågräta linjenen\n",
    "#         punkt1 = [horn_x, horn_y]\n",
    "#         punkt2 = [self.width+horn_x, horn_y]\n",
    "#         plt.plot([punkt1[0], punkt2[0]], [punkt1[1], punkt2[1]], c = 'b')\n",
    "\n",
    "#         punkt1 = [horn_x, self.height+horn_y]\n",
    "#         punkt2 = [self.width+horn_x, self.height+horn_y]\n",
    "#         plt.plot([punkt1[0], punkt2[0]], [punkt1[1], punkt2[1]], c = 'b')\n",
    "\n",
    "#         #Lodrätt \n",
    "#         punkt1 = [horn_x,horn_y]\n",
    "#         punkt2 = [horn_x,self.height+horn_y]\n",
    "#         plt.plot([punkt1[0], punkt2[0]], [punkt1[1], punkt2[1]], c = 'r')\n",
    "\n",
    "#         #Lodrätt \n",
    "#         punkt1 = [self.width+horn_x, horn_y]\n",
    "#         punkt2 = [self.width+horn_x, self.height + horn_y]\n",
    "#         plt.plot([punkt1[0], punkt2[0]], [punkt1[1], punkt2[1]], c = 'r')\n",
    "#         return\n"
   ]
  },
  {
   "cell_type": "code",
   "execution_count": 63,
   "metadata": {},
   "outputs": [
    {
     "data": {
      "text/plain": [
       "[<matplotlib.lines.Line2D at 0x290a49c6160>]"
      ]
     },
     "execution_count": 63,
     "metadata": {},
     "output_type": "execute_result"
    },
    {
     "data": {
      "image/png": "[encoded data removed]",
      "text/plain": [
       "<Figure size 640x480 with 1 Axes>"
      ]
     },
     "metadata": {},
     "output_type": "display_data"
    }
   ],
   "source": [
    "\n",
    "import matplotlib.pyplot as plt \n",
    "\n",
    "# punkt1 = [0,1]\n",
    "# punkt2 = [2,3]\n",
    "# plt.plot([punkt1[0], punkt2[0]], [punkt1[1], punkt2[1]], c = 'b')\n",
    "\n",
    "##lodrätt\n",
    "# punkt1 = [0,0]\n",
    "# punkt2 = [2,0]\n",
    "# plt.plot([punkt1[0], punkt2[0]], [punkt1[1], punkt2[1]], c = 'b')\n",
    "\n",
    "###########################################\n",
    "#################################################################################################\n",
    "# height = 1\n",
    "# width = 2\n",
    "\n",
    "# ## plots första vågräta linjenen\n",
    "# punkt1 = [0,0]\n",
    "# punkt2 = [width,0]\n",
    "# plt.plot([punkt1[0], punkt2[0]], [punkt1[1], punkt2[1]], c = 'b')\n",
    "\n",
    "# punkt1 = [0,height]\n",
    "# punkt2 = [width,height]\n",
    "# plt.plot([punkt1[0], punkt2[0]], [punkt1[1], punkt2[1]], c = 'b')\n",
    "\n",
    "# #Lodrätt \n",
    "# punkt1 = [0,0]\n",
    "# punkt2 = [0,height]\n",
    "# plt.plot([punkt1[0], punkt2[0]], [punkt1[1], punkt2[1]], c = 'r')\n",
    "\n",
    "# #Lodrätt \n",
    "# punkt1 = [width,0]\n",
    "# punkt2 = [width,height]\n",
    "# plt.plot([punkt1[0], punkt2[0]], [punkt1[1], punkt2[1]], c = 'r')\n",
    "\n",
    "\n",
    "###################################################################################\n",
    "\n",
    "height = 1\n",
    "width = 2\n",
    "\n",
    "x_offsett = 0\n",
    "y_offsett = 1\n",
    "\n",
    "## plots första vågräta linjenen\n",
    "punkt1 = [x_offsett, y_offsett]\n",
    "punkt2 = [width+x_offsett, y_offsett]\n",
    "plt.plot([punkt1[0], punkt2[0]], [punkt1[1], punkt2[1]], c = 'b')\n",
    "\n",
    "punkt1 = [x_offsett, height+y_offsett]\n",
    "punkt2 = [width+x_offsett, height+y_offsett]\n",
    "plt.plot([punkt1[0], punkt2[0]], [punkt1[1], punkt2[1]], c = 'b')\n",
    "\n",
    "#Lodrätt \n",
    "punkt1 = [x_offsett,y_offsett]\n",
    "punkt2 = [x_offsett,height+y_offsett]\n",
    "plt.plot([punkt1[0], punkt2[0]], [punkt1[1], punkt2[1]], c = 'r')\n",
    "\n",
    "#Lodrätt \n",
    "punkt1 = [width+x_offsett, y_offsett]\n",
    "punkt2 = [width+x_offsett,height + y_offsett]\n",
    "plt.plot([punkt1[0], punkt2[0]], [punkt1[1], punkt2[1]], c = 'r')"
   ]
  }
 ],
 "metadata": {
  "kernelspec": {
   "display_name": "Python 3.9.13 ('Phyton-Max-Liedman-Dhn8FrUw')",
   "language": "python",
   "name": "python3"
  },
  "language_info": {
   "codemirror_mode": {
    "name": "ipython",
    "version": 3
   },
   "file_extension": ".py",
   "mimetype": "text/x-python",
   "name": "python",
   "nbconvert_exporter": "python",
   "pygments_lexer": "ipython3",
   "version": "3.9.13"
  },
  "orig_nbformat": 4,
  "vscode": {
   "interpreter": {
    "hash": "e6ae1db9ac282e66ec34367a04cdc80b6d45f487d98c91d3d2315d0145e802be"
   }
  }
 },
 "nbformat": 4,
 "nbformat_minor": 2
}
