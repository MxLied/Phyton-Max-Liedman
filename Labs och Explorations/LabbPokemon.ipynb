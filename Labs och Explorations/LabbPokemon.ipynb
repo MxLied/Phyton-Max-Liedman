{
 "cells": [
  {
   "cell_type": "code",
   "execution_count": 60,
   "metadata": {},
   "outputs": [
    {
     "name": "stdout",
     "output_type": "stream",
     "text": [
      "['23.63591632187622', '36.46821490673444']\n"
     ]
    }
   ],
   "source": [
    "import numpy as np \n",
    "import matplotlib.pyplot as plt \n",
    "pikachu_list = []\n",
    "pichu_list = []\n",
    "with open(\"../Data/datapoints.txt\",\"r\") as readdata: #reads the txt file datapoints\n",
    "\n",
    "\n",
    "    readdata = readdata.read()\n",
    "    pokemon_list = readdata.split('\\n') # split the text file by each line \n",
    "   \n",
    "    # sort pokemon list into pikachu and pichu list\n",
    "    for n in range(0,len(pokemon_list)):\n",
    "        \n",
    "        row_text = pokemon_list[n].split(\", \") ## creates a list for current row in pokemonlist\n",
    "        ## checks last element in row_text to see if row belongs to pichu\n",
    "        if row_text[2] == '0':\n",
    "            pichu_list.append([row_text[0], row_text[1]]) ## appends a list with 2 elements of the row_text  \n",
    "        else:\n",
    "            pikachu_list.append([row_text[0], row_text[1]]) \n",
    "            \n",
    "    print(pikachu_list[0]) ## prints out the first row of the pikachu list \n",
    "    # print(pikachu_list[0][0])\n",
    "    #print(pichu_list)\n",
    "    #print(pikachu_list)\n",
    "\n",
    "    #print(len(pokemon_list))\n",
    "  \n",
    "    \n",
    "\n",
    "   \n",
    "  \n",
    "##pprint(pokemon_list)\n",
    "# print data into termenial"
   ]
  },
  {
   "cell_type": "code",
   "execution_count": null,
   "metadata": {},
   "outputs": [],
   "source": [
    "# # random code for debugging\n",
    "# for n in range(0,5):\n",
    "#    print(pichu_list)\n",
    "#     print(pikachu_list)\n",
    "\n",
    "# pika_list      # lista av listor\n",
    "# pika_list[0]      # lista\n",
    "# pika_list[0][0]    # tal\n",
    "\n",
    "\n",
    "# ny_lista = pika_list[0]\n",
    "# ny_lista[0]    \n",
    "\n",
    "#print(pokemon_list[n])\n",
    "\n",
    "#print(row_tex)\n",
    "#print(row_text[0])"
   ]
  },
  {
   "cell_type": "code",
   "execution_count": 5,
   "metadata": {},
   "outputs": [
    {
     "ename": "SyntaxError",
     "evalue": "EOL while scanning string literal (3281274589.py, line 15)",
     "output_type": "error",
     "traceback": [
      "\u001b[1;36m  Input \u001b[1;32mIn [5]\u001b[1;36m\u001b[0m\n\u001b[1;33m    f_append.write(f\"{author}\u001b[0m\n\u001b[1;37m                             ^\u001b[0m\n\u001b[1;31mSyntaxError\u001b[0m\u001b[1;31m:\u001b[0m EOL while scanning string literal\n"
     ]
    }
   ],
   "source": []
  }
 ],
 "metadata": {
  "kernelspec": {
   "display_name": "Python 3.9.13 ('Phyton-Max-Liedman-Dhn8FrUw')",
   "language": "python",
   "name": "python3"
  },
  "language_info": {
   "codemirror_mode": {
    "name": "ipython",
    "version": 3
   },
   "file_extension": ".py",
   "mimetype": "text/x-python",
   "name": "python",
   "nbconvert_exporter": "python",
   "pygments_lexer": "ipython3",
   "version": "3.9.13"
  },
  "orig_nbformat": 4,
  "vscode": {
   "interpreter": {
    "hash": "e6ae1db9ac282e66ec34367a04cdc80b6d45f487d98c91d3d2315d0145e802be"
   }
  }
 },
 "nbformat": 4,
 "nbformat_minor": 2
}
